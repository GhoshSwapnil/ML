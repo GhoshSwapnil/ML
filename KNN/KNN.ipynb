{
 "cells": [
  {
   "cell_type": "code",
   "execution_count": 1,
   "id": "b3502c84",
   "metadata": {},
   "outputs": [],
   "source": [
    "import numpy as np\n",
    "import pandas as pd \n",
    "import matplotlib.pyplot as plt "
   ]
  },
  {
   "cell_type": "code",
   "execution_count": 2,
   "id": "5b4de65f",
   "metadata": {},
   "outputs": [
    {
     "data": {
      "text/html": [
       "<div>\n",
       "<style scoped>\n",
       "    .dataframe tbody tr th:only-of-type {\n",
       "        vertical-align: middle;\n",
       "    }\n",
       "\n",
       "    .dataframe tbody tr th {\n",
       "        vertical-align: top;\n",
       "    }\n",
       "\n",
       "    .dataframe thead th {\n",
       "        text-align: right;\n",
       "    }\n",
       "</style>\n",
       "<table border=\"1\" class=\"dataframe\">\n",
       "  <thead>\n",
       "    <tr style=\"text-align: right;\">\n",
       "      <th></th>\n",
       "      <th>User ID</th>\n",
       "      <th>Gender</th>\n",
       "      <th>Age</th>\n",
       "      <th>EstimatedSalary</th>\n",
       "      <th>Purchased</th>\n",
       "    </tr>\n",
       "  </thead>\n",
       "  <tbody>\n",
       "    <tr>\n",
       "      <th>0</th>\n",
       "      <td>15624510</td>\n",
       "      <td>Male</td>\n",
       "      <td>19</td>\n",
       "      <td>19000</td>\n",
       "      <td>0</td>\n",
       "    </tr>\n",
       "    <tr>\n",
       "      <th>1</th>\n",
       "      <td>15810944</td>\n",
       "      <td>Male</td>\n",
       "      <td>35</td>\n",
       "      <td>20000</td>\n",
       "      <td>0</td>\n",
       "    </tr>\n",
       "    <tr>\n",
       "      <th>2</th>\n",
       "      <td>15668575</td>\n",
       "      <td>Female</td>\n",
       "      <td>26</td>\n",
       "      <td>43000</td>\n",
       "      <td>0</td>\n",
       "    </tr>\n",
       "    <tr>\n",
       "      <th>3</th>\n",
       "      <td>15603246</td>\n",
       "      <td>Female</td>\n",
       "      <td>27</td>\n",
       "      <td>57000</td>\n",
       "      <td>0</td>\n",
       "    </tr>\n",
       "    <tr>\n",
       "      <th>4</th>\n",
       "      <td>15804002</td>\n",
       "      <td>Male</td>\n",
       "      <td>19</td>\n",
       "      <td>76000</td>\n",
       "      <td>0</td>\n",
       "    </tr>\n",
       "    <tr>\n",
       "      <th>...</th>\n",
       "      <td>...</td>\n",
       "      <td>...</td>\n",
       "      <td>...</td>\n",
       "      <td>...</td>\n",
       "      <td>...</td>\n",
       "    </tr>\n",
       "    <tr>\n",
       "      <th>395</th>\n",
       "      <td>15691863</td>\n",
       "      <td>Female</td>\n",
       "      <td>46</td>\n",
       "      <td>41000</td>\n",
       "      <td>1</td>\n",
       "    </tr>\n",
       "    <tr>\n",
       "      <th>396</th>\n",
       "      <td>15706071</td>\n",
       "      <td>Male</td>\n",
       "      <td>51</td>\n",
       "      <td>23000</td>\n",
       "      <td>1</td>\n",
       "    </tr>\n",
       "    <tr>\n",
       "      <th>397</th>\n",
       "      <td>15654296</td>\n",
       "      <td>Female</td>\n",
       "      <td>50</td>\n",
       "      <td>20000</td>\n",
       "      <td>1</td>\n",
       "    </tr>\n",
       "    <tr>\n",
       "      <th>398</th>\n",
       "      <td>15755018</td>\n",
       "      <td>Male</td>\n",
       "      <td>36</td>\n",
       "      <td>33000</td>\n",
       "      <td>0</td>\n",
       "    </tr>\n",
       "    <tr>\n",
       "      <th>399</th>\n",
       "      <td>15594041</td>\n",
       "      <td>Female</td>\n",
       "      <td>49</td>\n",
       "      <td>36000</td>\n",
       "      <td>1</td>\n",
       "    </tr>\n",
       "  </tbody>\n",
       "</table>\n",
       "<p>400 rows × 5 columns</p>\n",
       "</div>"
      ],
      "text/plain": [
       "      User ID  Gender  Age  EstimatedSalary  Purchased\n",
       "0    15624510    Male   19            19000          0\n",
       "1    15810944    Male   35            20000          0\n",
       "2    15668575  Female   26            43000          0\n",
       "3    15603246  Female   27            57000          0\n",
       "4    15804002    Male   19            76000          0\n",
       "..        ...     ...  ...              ...        ...\n",
       "395  15691863  Female   46            41000          1\n",
       "396  15706071    Male   51            23000          1\n",
       "397  15654296  Female   50            20000          1\n",
       "398  15755018    Male   36            33000          0\n",
       "399  15594041  Female   49            36000          1\n",
       "\n",
       "[400 rows x 5 columns]"
      ]
     },
     "execution_count": 2,
     "metadata": {},
     "output_type": "execute_result"
    }
   ],
   "source": [
    "data= pd.read_csv('dataset/Social_Network_Ads.csv')\n",
    "data"
   ]
  },
  {
   "cell_type": "code",
   "execution_count": 3,
   "id": "79567530",
   "metadata": {},
   "outputs": [
    {
     "data": {
      "text/html": [
       "<div>\n",
       "<style scoped>\n",
       "    .dataframe tbody tr th:only-of-type {\n",
       "        vertical-align: middle;\n",
       "    }\n",
       "\n",
       "    .dataframe tbody tr th {\n",
       "        vertical-align: top;\n",
       "    }\n",
       "\n",
       "    .dataframe thead th {\n",
       "        text-align: right;\n",
       "    }\n",
       "</style>\n",
       "<table border=\"1\" class=\"dataframe\">\n",
       "  <thead>\n",
       "    <tr style=\"text-align: right;\">\n",
       "      <th></th>\n",
       "      <th>Age</th>\n",
       "      <th>EstimatedSalary</th>\n",
       "    </tr>\n",
       "  </thead>\n",
       "  <tbody>\n",
       "    <tr>\n",
       "      <th>0</th>\n",
       "      <td>19</td>\n",
       "      <td>19000</td>\n",
       "    </tr>\n",
       "    <tr>\n",
       "      <th>1</th>\n",
       "      <td>35</td>\n",
       "      <td>20000</td>\n",
       "    </tr>\n",
       "    <tr>\n",
       "      <th>2</th>\n",
       "      <td>26</td>\n",
       "      <td>43000</td>\n",
       "    </tr>\n",
       "    <tr>\n",
       "      <th>3</th>\n",
       "      <td>27</td>\n",
       "      <td>57000</td>\n",
       "    </tr>\n",
       "    <tr>\n",
       "      <th>4</th>\n",
       "      <td>19</td>\n",
       "      <td>76000</td>\n",
       "    </tr>\n",
       "    <tr>\n",
       "      <th>...</th>\n",
       "      <td>...</td>\n",
       "      <td>...</td>\n",
       "    </tr>\n",
       "    <tr>\n",
       "      <th>395</th>\n",
       "      <td>46</td>\n",
       "      <td>41000</td>\n",
       "    </tr>\n",
       "    <tr>\n",
       "      <th>396</th>\n",
       "      <td>51</td>\n",
       "      <td>23000</td>\n",
       "    </tr>\n",
       "    <tr>\n",
       "      <th>397</th>\n",
       "      <td>50</td>\n",
       "      <td>20000</td>\n",
       "    </tr>\n",
       "    <tr>\n",
       "      <th>398</th>\n",
       "      <td>36</td>\n",
       "      <td>33000</td>\n",
       "    </tr>\n",
       "    <tr>\n",
       "      <th>399</th>\n",
       "      <td>49</td>\n",
       "      <td>36000</td>\n",
       "    </tr>\n",
       "  </tbody>\n",
       "</table>\n",
       "<p>400 rows × 2 columns</p>\n",
       "</div>"
      ],
      "text/plain": [
       "     Age  EstimatedSalary\n",
       "0     19            19000\n",
       "1     35            20000\n",
       "2     26            43000\n",
       "3     27            57000\n",
       "4     19            76000\n",
       "..   ...              ...\n",
       "395   46            41000\n",
       "396   51            23000\n",
       "397   50            20000\n",
       "398   36            33000\n",
       "399   49            36000\n",
       "\n",
       "[400 rows x 2 columns]"
      ]
     },
     "execution_count": 3,
     "metadata": {},
     "output_type": "execute_result"
    }
   ],
   "source": [
    "X= data.iloc[:,2: 4]\n",
    "X"
   ]
  },
  {
   "cell_type": "code",
   "execution_count": 4,
   "id": "19bc5e71",
   "metadata": {},
   "outputs": [
    {
     "data": {
      "text/plain": [
       "0      0\n",
       "1      0\n",
       "2      0\n",
       "3      0\n",
       "4      0\n",
       "      ..\n",
       "395    1\n",
       "396    1\n",
       "397    1\n",
       "398    0\n",
       "399    1\n",
       "Name: Purchased, Length: 400, dtype: int64"
      ]
     },
     "execution_count": 4,
     "metadata": {},
     "output_type": "execute_result"
    }
   ],
   "source": [
    "Y= data.iloc[:,-1]\n",
    "Y"
   ]
  },
  {
   "cell_type": "code",
   "execution_count": 5,
   "id": "32918a70",
   "metadata": {},
   "outputs": [],
   "source": [
    "from sklearn.model_selection import train_test_split"
   ]
  },
  {
   "cell_type": "code",
   "execution_count": 6,
   "id": "2c301ca2",
   "metadata": {},
   "outputs": [],
   "source": [
    "X_train, X_test, Y_train, Y_test= train_test_split(X, Y, test_size= 0.2,random_state= 2)"
   ]
  },
  {
   "cell_type": "code",
   "execution_count": 7,
   "id": "4463228c",
   "metadata": {},
   "outputs": [],
   "source": [
    "from sklearn.preprocessing import StandardScaler"
   ]
  },
  {
   "cell_type": "code",
   "execution_count": 8,
   "id": "febf46b0",
   "metadata": {},
   "outputs": [],
   "source": [
    "scaler= StandardScaler()"
   ]
  },
  {
   "cell_type": "code",
   "execution_count": 9,
   "id": "005f9d1a",
   "metadata": {},
   "outputs": [],
   "source": [
    "# for larger value difference we loose more data as compare to small value data # euclidiean distace "
   ]
  },
  {
   "cell_type": "code",
   "execution_count": 10,
   "id": "0a64736d",
   "metadata": {},
   "outputs": [],
   "source": [
    "X_train= scaler.fit_transform(X_train) #reducing the value proportionately to increase the accuracy in finding nearest neighbour "
   ]
  },
  {
   "cell_type": "code",
   "execution_count": 11,
   "id": "b484c8bd",
   "metadata": {},
   "outputs": [],
   "source": [
    "X_test= scaler.fit_transform(X_test) #reducing the value proportionately to increase the accuracy in finding nearest neighbour "
   ]
  },
  {
   "cell_type": "code",
   "execution_count": 12,
   "id": "0d1c98c2",
   "metadata": {},
   "outputs": [
    {
     "data": {
      "text/plain": [
       "array([[ 0.88928823, -0.65924556],\n",
       "       [-0.17254846,  0.87392651],\n",
       "       [-1.04132394, -0.36440478],\n",
       "       [ 0.98581884,  0.6085698 ],\n",
       "       [-0.94479333,  0.57908572],\n",
       "       [ 0.40663519,  0.01888824],\n",
       "       [ 0.98581884,  2.11225779],\n",
       "       [ 0.31010458, -0.30543662],\n",
       "       [ 1.7580637 , -0.27595254],\n",
       "       [-0.17254846,  2.20071003],\n",
       "       [ 1.7580637 ,  1.0213469 ],\n",
       "       [-1.33091576, -1.48479975],\n",
       "       [ 2.04765553,  0.54960165],\n",
       "       [ 1.27541066,  1.90586924],\n",
       "       [-1.13785454,  0.31372902],\n",
       "       [-0.36560968, -0.77718187],\n",
       "       [-1.71703819,  0.49063349],\n",
       "       [-0.5586709 , -1.51428383],\n",
       "       [ 0.31010458, -0.71821372],\n",
       "       [ 0.02051275, -0.57079333],\n",
       "       [ 0.02051275,  0.04837232],\n",
       "       [-0.07601785, -0.51182517],\n",
       "       [-0.6552015 , -1.51428383],\n",
       "       [ 0.02051275,  0.31372902],\n",
       "       [ 0.31010458,  0.07785639],\n",
       "       [-0.46214029, -1.13099081],\n",
       "       [-0.75173211, -1.54376791],\n",
       "       [-0.26907907, -0.65924556],\n",
       "       [-1.13785454,  0.49063349],\n",
       "       [-0.07601785,  2.20071003],\n",
       "       [ 0.02051275,  0.04837232],\n",
       "       [-1.13785454, -1.57325199],\n",
       "       [ 1.08234944,  0.54960165],\n",
       "       [-0.26907907, -1.24892713],\n",
       "       [ 1.37194127, -0.92460227],\n",
       "       [-1.42744637, -1.21944305],\n",
       "       [-0.94479333, -0.95408634],\n",
       "       [ 1.95112492, -0.65924556],\n",
       "       [ 0.88928823, -0.57079333],\n",
       "       [-1.13785454,  0.31372902],\n",
       "       [ 0.02051275, -0.24646847],\n",
       "       [ 0.79275762, -1.39634752],\n",
       "       [-0.26907907, -0.36440478],\n",
       "       [ 0.88928823,  1.2867036 ],\n",
       "       [ 0.31010458, -0.18750031],\n",
       "       [-0.26907907, -0.57079333],\n",
       "       [-0.26907907, -1.39634752],\n",
       "       [ 1.46847188, -1.04253858],\n",
       "       [-0.07601785,  0.13682455],\n",
       "       [-0.84826272, -0.65924556],\n",
       "       [-0.07601785,  0.01888824],\n",
       "       [-0.26907907,  0.10734047],\n",
       "       [ 0.21357397, -0.30543662],\n",
       "       [-0.26907907,  0.28424494],\n",
       "       [ 0.11704336,  0.04837232],\n",
       "       [ 1.95112492,  2.20071003],\n",
       "       [-1.04132394, -1.45531567],\n",
       "       [ 0.31010458,  0.31372902],\n",
       "       [ 2.04765553, -1.18995897],\n",
       "       [-1.13785454, -0.51182517],\n",
       "       [ 0.21357397,  0.16630863],\n",
       "       [-0.26907907, -0.92460227],\n",
       "       [-0.6552015 ,  0.04837232],\n",
       "       [ 0.21357397,  0.07785639],\n",
       "       [ 0.40663519, -0.12853215],\n",
       "       [-1.13785454, -1.10150673],\n",
       "       [-0.07601785,  2.25967818],\n",
       "       [ 1.08234944, -0.12853215],\n",
       "       [ 0.88928823,  1.05083098],\n",
       "       [-0.07601785,  0.28424494],\n",
       "       [-0.5586709 , -1.51428383],\n",
       "       [-1.13785454, -1.0130545 ],\n",
       "       [-0.75173211,  1.37515584],\n",
       "       [ 1.08234944,  0.57908572],\n",
       "       [ 1.56500249, -1.2784112 ],\n",
       "       [ 0.69622701, -1.39634752],\n",
       "       [-0.6552015 , -1.04253858],\n",
       "       [ 1.17888005,  0.54960165],\n",
       "       [-0.26907907, -1.45531567],\n",
       "       [-1.62050759,  0.54960165],\n",
       "       [-1.04132394, -1.13099081],\n",
       "       [-0.07601785,  0.04837232],\n",
       "       [ 0.31010458,  0.07785639],\n",
       "       [ 0.88928823, -1.36686344],\n",
       "       [-1.04132394, -0.3349207 ],\n",
       "       [-1.8135688 ,  0.19579271],\n",
       "       [-1.8135688 , -1.4258316 ],\n",
       "       [ 0.69622701,  1.81741701],\n",
       "       [-0.07601785,  0.31372902],\n",
       "       [-1.62050759,  0.07785639],\n",
       "       [-0.6552015 ,  1.43412399],\n",
       "       [-0.26907907, -0.24646847],\n",
       "       [-0.36560968,  1.34567176],\n",
       "       [ 0.5031658 ,  1.25721952],\n",
       "       [-0.6552015 ,  0.19579271],\n",
       "       [-1.52397698, -0.42337294],\n",
       "       [-1.04132394,  0.43166533],\n",
       "       [ 0.79275762,  0.28424494],\n",
       "       [ 1.95112492, -0.92460227],\n",
       "       [ 0.79275762, -0.30543662],\n",
       "       [ 0.21357397,  0.25476086],\n",
       "       [-1.71703819, -0.60027741],\n",
       "       [-0.26907907,  0.16630863],\n",
       "       [-1.33091576, -1.24892713],\n",
       "       [-0.26907907, -0.42337294],\n",
       "       [ 0.11704336,  0.10734047],\n",
       "       [-0.94479333,  0.46114941],\n",
       "       [ 2.04765553,  0.40218125],\n",
       "       [-1.91009941,  0.37269718],\n",
       "       [ 2.04765553, -0.80666595],\n",
       "       [ 2.14418614,  1.13928321],\n",
       "       [ 0.79275762, -1.21944305],\n",
       "       [ 0.40663519, -0.45285701],\n",
       "       [ 0.02051275, -0.24646847],\n",
       "       [ 1.46847188,  0.37269718],\n",
       "       [-0.17254846, -0.57079333],\n",
       "       [ 0.21357397, -0.24646847],\n",
       "       [-0.46214029,  2.34813042],\n",
       "       [ 0.11704336,  0.22527679],\n",
       "       [ 0.21357397, -0.65924556],\n",
       "       [ 0.98581884, -1.07202266],\n",
       "       [-0.17254846,  0.16630863],\n",
       "       [-0.07601785,  0.31372902],\n",
       "       [ 0.40663519, -0.48234109],\n",
       "       [-0.36560968, -1.30789528],\n",
       "       [ 0.88928823, -0.77718187],\n",
       "       [-0.94479333,  0.43166533],\n",
       "       [-0.07601785, -0.42337294],\n",
       "       [-0.94479333, -0.42337294],\n",
       "       [-1.8135688 ,  0.46114941],\n",
       "       [-0.84826272, -1.21944305],\n",
       "       [-0.94479333, -0.30543662],\n",
       "       [ 0.98581884,  0.78547427],\n",
       "       [-1.62050759, -0.04007992],\n",
       "       [-1.04132394, -0.3349207 ],\n",
       "       [ 0.02051275, -0.54130925],\n",
       "       [-0.6552015 , -0.3349207 ],\n",
       "       [-1.13785454, -1.54376791],\n",
       "       [ 1.95112492, -1.36686344],\n",
       "       [-0.6552015 , -1.60273606],\n",
       "       [ 0.21357397, -0.36440478],\n",
       "       [ 0.88928823,  2.20071003],\n",
       "       [ 1.17888005, -0.98357042],\n",
       "       [-0.17254846, -0.51182517],\n",
       "       [ 1.66153309,  1.78793293],\n",
       "       [ 1.08234944, -1.21944305],\n",
       "       [ 0.02051275,  1.2867036 ],\n",
       "       [-0.46214029, -0.27595254],\n",
       "       [ 1.66153309, -0.89511819],\n",
       "       [ 0.31010458,  0.52011757],\n",
       "       [-1.04132394, -1.54376791],\n",
       "       [ 1.56500249,  1.13928321],\n",
       "       [-1.52397698,  0.3432131 ],\n",
       "       [ 0.02051275, -0.12853215],\n",
       "       [ 0.11704336, -0.80666595],\n",
       "       [ 0.21357397,  1.10979913],\n",
       "       [ 0.40663519, -0.15801623],\n",
       "       [-0.46214029, -0.01059584],\n",
       "       [ 1.08234944,  2.11225779],\n",
       "       [-0.26907907, -0.12853215],\n",
       "       [-0.75173211, -0.60027741],\n",
       "       [ 1.17888005, -1.45531567],\n",
       "       [-1.42744637, -1.45531567],\n",
       "       [ 1.85459431, -0.27595254],\n",
       "       [ 1.85459431,  0.13682455],\n",
       "       [ 0.40663519,  0.16630863],\n",
       "       [ 1.27541066, -1.36686344],\n",
       "       [-0.46214029, -1.21944305],\n",
       "       [-0.75173211,  1.93535332],\n",
       "       [-0.26907907,  1.13928321],\n",
       "       [ 0.02051275, -0.57079333],\n",
       "       [ 0.21357397, -0.12853215],\n",
       "       [-0.5586709 ,  1.93535332],\n",
       "       [-0.94479333,  0.28424494],\n",
       "       [-1.91009941,  0.49063349],\n",
       "       [-1.33091576,  0.57908572],\n",
       "       [ 0.21357397,  0.16630863],\n",
       "       [ 1.37194127, -1.4258316 ],\n",
       "       [-0.07601785,  0.69702204],\n",
       "       [ 0.11704336,  1.90586924],\n",
       "       [-1.71703819, -0.98357042],\n",
       "       [ 0.21357397, -0.36440478],\n",
       "       [-1.8135688 , -1.30789528],\n",
       "       [ 0.79275762,  0.54960165],\n",
       "       [-0.17254846,  1.43412399],\n",
       "       [-1.04132394,  0.57908572],\n",
       "       [-1.23438515, -1.07202266],\n",
       "       [ 1.37194127,  2.02380556],\n",
       "       [ 0.79275762, -1.10150673],\n",
       "       [ 0.79275762,  0.13682455],\n",
       "       [-1.8135688 , -1.2784112 ],\n",
       "       [ 0.02051275,  1.25721952],\n",
       "       [ 0.88928823, -0.60027741],\n",
       "       [ 2.14418614,  0.40218125],\n",
       "       [ 2.14418614, -0.80666595],\n",
       "       [ 0.98581884, -1.07202266],\n",
       "       [ 0.11704336,  1.55206031],\n",
       "       [-0.94479333,  0.52011757],\n",
       "       [-1.23438515,  0.28424494],\n",
       "       [ 0.40663519,  0.6085698 ],\n",
       "       [ 0.11704336,  0.16630863],\n",
       "       [ 0.21357397,  0.04837232],\n",
       "       [ 2.04765553,  2.17122595],\n",
       "       [-0.07601785, -0.36440478],\n",
       "       [-0.26907907,  0.81495835],\n",
       "       [-1.42744637, -0.18750031],\n",
       "       [ 1.08234944,  0.13682455],\n",
       "       [ 0.31010458,  0.07785639],\n",
       "       [ 0.11704336,  0.04837232],\n",
       "       [ 0.98581884, -1.0130545 ],\n",
       "       [-0.5586709 ,  1.49309215],\n",
       "       [-1.13785454, -1.60273606],\n",
       "       [ 1.27541066,  2.25967818],\n",
       "       [-1.42744637, -0.09904808],\n",
       "       [-1.8135688 , -1.48479975],\n",
       "       [ 0.88928823, -1.16047489],\n",
       "       [ 2.14418614, -0.68872964],\n",
       "       [ 0.5996964 , -0.89511819],\n",
       "       [-1.23438515, -1.39634752],\n",
       "       [-0.46214029, -0.83615003],\n",
       "       [-0.84826272, -0.24646847],\n",
       "       [ 1.46847188,  2.17122595],\n",
       "       [ 0.40663519,  1.0213469 ],\n",
       "       [ 0.02051275, -0.42337294],\n",
       "       [-1.13785454, -1.16047489],\n",
       "       [-0.75173211,  0.57908572],\n",
       "       [ 0.11704336,  1.08031505],\n",
       "       [-0.5586709 ,  1.40463991],\n",
       "       [ 0.11704336,  1.90586924],\n",
       "       [ 0.21357397,  2.14174187],\n",
       "       [ 1.46847188,  1.0213469 ],\n",
       "       [-1.71703819,  0.13682455],\n",
       "       [-0.26907907, -0.48234109],\n",
       "       [ 0.11704336,  0.78547427],\n",
       "       [ 0.88928823, -1.30789528],\n",
       "       [-0.26907907, -0.27595254],\n",
       "       [ 2.14418614, -1.04253858],\n",
       "       [ 0.40663519,  0.31372902],\n",
       "       [-0.17254846,  1.64051254],\n",
       "       [ 0.79275762, -0.83615003],\n",
       "       [-0.94479333,  1.58154438],\n",
       "       [ 0.11704336, -0.24646847],\n",
       "       [-1.23438515,  0.52011757],\n",
       "       [ 0.11704336, -0.80666595],\n",
       "       [ 1.08234944, -0.98357042],\n",
       "       [ 0.98581884,  1.81741701],\n",
       "       [-1.42744637, -0.62976148],\n",
       "       [ 0.98581884, -1.18995897],\n",
       "       [-1.33091576, -0.42337294],\n",
       "       [ 0.31010458,  0.07785639],\n",
       "       [-0.26907907, -0.57079333],\n",
       "       [-0.75173211,  1.10979913],\n",
       "       [ 1.56500249,  1.0213469 ],\n",
       "       [-1.04132394,  0.6085698 ],\n",
       "       [ 0.40663519,  0.10734047],\n",
       "       [-0.94479333, -0.30543662],\n",
       "       [ 1.17888005, -0.7476978 ],\n",
       "       [-1.91009941, -0.51182517],\n",
       "       [ 1.08234944, -1.21944305],\n",
       "       [ 0.31010458,  0.28424494],\n",
       "       [-0.75173211, -1.60273606],\n",
       "       [-0.26907907, -1.30789528],\n",
       "       [-0.26907907,  0.54960165],\n",
       "       [ 0.98581884,  1.90586924],\n",
       "       [-0.6552015 , -0.09904808],\n",
       "       [-0.46214029,  1.2867036 ],\n",
       "       [ 0.31010458, -0.51182517],\n",
       "       [ 1.85459431,  1.55206031],\n",
       "       [ 1.08234944,  0.49063349],\n",
       "       [ 2.04765553,  0.19579271],\n",
       "       [-1.71703819,  0.37269718],\n",
       "       [-0.17254846, -0.18750031],\n",
       "       [-0.6552015 ,  0.57908572],\n",
       "       [ 1.37194127,  1.31618768],\n",
       "       [ 1.08234944, -0.89511819],\n",
       "       [ 1.85459431, -1.07202266],\n",
       "       [-0.75173211,  0.52011757],\n",
       "       [-1.33091576, -1.10150673],\n",
       "       [ 0.79275762,  0.37269718],\n",
       "       [-0.84826272,  0.40218125],\n",
       "       [-0.75173211,  0.31372902],\n",
       "       [-1.04132394,  1.99432148],\n",
       "       [-0.07601785,  0.07785639],\n",
       "       [ 1.37194127,  2.3776145 ],\n",
       "       [-0.07601785,  0.16630863],\n",
       "       [-0.07601785,  1.99432148],\n",
       "       [-0.75173211,  0.28424494],\n",
       "       [-1.13785454,  0.3432131 ],\n",
       "       [ 0.31010458, -0.27595254],\n",
       "       [ 0.98581884, -1.16047489],\n",
       "       [ 1.37194127,  0.6085698 ],\n",
       "       [-1.52397698, -1.51428383],\n",
       "       [-0.94479333, -0.7476978 ],\n",
       "       [-1.13785454,  0.07785639],\n",
       "       [ 0.40663519, -0.45285701],\n",
       "       [-1.91009941, -0.7476978 ],\n",
       "       [ 0.40663519,  0.28424494],\n",
       "       [-0.26907907,  0.22527679],\n",
       "       [-0.5586709 ,  0.49063349],\n",
       "       [-0.36560968, -0.77718187],\n",
       "       [-0.26907907,  0.04837232],\n",
       "       [-0.07601785,  0.22527679],\n",
       "       [-0.26907907,  0.16630863],\n",
       "       [ 0.31010458, -0.54130925],\n",
       "       [ 0.79275762,  0.78547427],\n",
       "       [ 0.98581884,  2.02380556],\n",
       "       [-0.17254846, -0.27595254],\n",
       "       [-1.04132394, -0.45285701],\n",
       "       [-0.26907907, -0.3349207 ],\n",
       "       [ 0.11704336, -0.30543662],\n",
       "       [-0.26907907, -0.7476978 ],\n",
       "       [-0.07601785, -1.07202266],\n",
       "       [-0.26907907,  0.07785639],\n",
       "       [ 0.5031658 ,  1.75844885],\n",
       "       [-0.36560968,  1.25721952],\n",
       "       [ 0.79275762,  1.40463991],\n",
       "       [ 0.98581884, -0.83615003],\n",
       "       [-1.71703819, -1.36686344],\n",
       "       [-0.84826272,  0.31372902],\n",
       "       [-0.84826272,  2.31864634]])"
      ]
     },
     "execution_count": 12,
     "metadata": {},
     "output_type": "execute_result"
    }
   ],
   "source": [
    "X_train"
   ]
  },
  {
   "cell_type": "markdown",
   "id": "56a8a2ad",
   "metadata": {},
   "source": [
    "## Data Insight"
   ]
  },
  {
   "cell_type": "code",
   "execution_count": 13,
   "id": "699ae1c7",
   "metadata": {},
   "outputs": [
    {
     "data": {
      "text/plain": [
       "<matplotlib.collections.PathCollection at 0x7f6385043dc0>"
      ]
     },
     "execution_count": 13,
     "metadata": {},
     "output_type": "execute_result"
    },
    {
     "data": {
      "image/png": "[encoded data removed]",
      "text/plain": [
       "<Figure size 432x288 with 1 Axes>"
      ]
     },
     "metadata": {
      "needs_background": "light"
     },
     "output_type": "display_data"
    }
   ],
   "source": [
    "plt.scatter(X_train[:,0], X_train[:,1], c=Y_train) # purple is zeroes  and yellow is ones #Binary Classification"
   ]
  },
  {
   "cell_type": "code",
   "execution_count": 14,
   "id": "90b41a6b",
   "metadata": {},
   "outputs": [
    {
     "data": {
      "text/plain": [
       "<matplotlib.collections.PathCollection at 0x7f63847808e0>"
      ]
     },
     "execution_count": 14,
     "metadata": {},
     "output_type": "execute_result"
    },
    {
     "data": {
      "image/png": "[encoded data removed]",
      "text/plain": [
       "<Figure size 432x288 with 1 Axes>"
      ]
     },
     "metadata": {
      "needs_background": "light"
     },
     "output_type": "display_data"
    }
   ],
   "source": [
    "plt.scatter(X_train[:,0], X_train[:,1], color=\"blue\")"
   ]
  },
  {
   "cell_type": "code",
   "execution_count": 15,
   "id": "5bed133d",
   "metadata": {},
   "outputs": [
    {
     "data": {
      "text/plain": [
       "array([[  0, 209],\n",
       "       [  1, 111]])"
      ]
     },
     "execution_count": 15,
     "metadata": {},
     "output_type": "execute_result"
    }
   ],
   "source": [
    "unique, counts = np.unique(Y_train, return_counts=True)\n",
    "\n",
    "result = np.column_stack((unique, counts)) \n",
    "result # number of 0's is 209 and number of 1's is 111"
   ]
  },
  {
   "cell_type": "markdown",
   "id": "2b72753a",
   "metadata": {},
   "source": [
    "\n",
    "## Finding K vavlue \n",
    "-method 1: k= square root of no of tuble in training data "
   ]
  },
  {
   "cell_type": "code",
   "execution_count": 16,
   "id": "600002d9",
   "metadata": {},
   "outputs": [
    {
     "data": {
      "text/plain": [
       "17.88854381999832"
      ]
     },
     "execution_count": 16,
     "metadata": {},
     "output_type": "execute_result"
    }
   ],
   "source": [
    "k= np.sqrt(X_train.shape[0])\n",
    "k"
   ]
  },
  {
   "cell_type": "code",
   "execution_count": 14,
   "id": "e268f0a8",
   "metadata": {},
   "outputs": [],
   "source": [
    "from sklearn.neighbors import KNeighborsClassifier"
   ]
  },
  {
   "cell_type": "code",
   "execution_count": 18,
   "id": "217bf6da",
   "metadata": {},
   "outputs": [],
   "source": [
    "knn= KNeighborsClassifier(n_neighbors= 17)"
   ]
  },
  {
   "cell_type": "code",
   "execution_count": 19,
   "id": "c49c0818",
   "metadata": {},
   "outputs": [
    {
     "data": {
      "text/plain": [
       "KNeighborsClassifier(n_neighbors=17)"
      ]
     },
     "execution_count": 19,
     "metadata": {},
     "output_type": "execute_result"
    }
   ],
   "source": [
    "knn.fit(X_train, Y_train)"
   ]
  },
  {
   "cell_type": "code",
   "execution_count": 20,
   "id": "cc0e911b",
   "metadata": {},
   "outputs": [
    {
     "data": {
      "text/plain": [
       "array([0, 0, 0, 0, 1, 1, 0, 0, 0, 1, 0, 0, 1, 0, 0, 0, 0, 1, 1, 0, 0, 1,\n",
       "       0, 0, 0, 1, 1, 0, 1, 0, 0, 0, 1, 0, 1, 0, 1, 0, 0, 1, 0, 0, 0, 0,\n",
       "       0, 1, 0, 1, 1, 0, 0, 1, 0, 0, 0, 0, 1, 1, 1, 0, 0, 1, 1, 0, 0, 1,\n",
       "       1, 0, 0, 1, 0, 1, 0, 0, 1, 0, 1, 0, 1, 0])"
      ]
     },
     "execution_count": 20,
     "metadata": {},
     "output_type": "execute_result"
    }
   ],
   "source": [
    "Y_pred= knn.predict(X_test)\n",
    "Y_pred"
   ]
  },
  {
   "cell_type": "code",
   "execution_count": 21,
   "id": "7ca5e123",
   "metadata": {},
   "outputs": [
    {
     "data": {
      "text/plain": [
       "array([[-0.74651519,  0.33929263],\n",
       "       [-1.48154554, -1.59952242],\n",
       "       [-0.01148485, -0.52883351],\n",
       "       [-0.74651519,  0.10779233],\n",
       "       [ 1.55045463, -0.03689536],\n",
       "       [ 0.90730308, -1.48377227],\n",
       "       [-1.29778795,  0.3103551 ],\n",
       "       [-0.83839399, -1.13652181],\n",
       "       [ 0.26415153, -0.32627074],\n",
       "       [-0.10336364,  1.58360677],\n",
       "       [-1.20590916, -1.39695965],\n",
       "       [-1.38966674, -1.2812095 ],\n",
       "       [-0.47087881,  1.32316893],\n",
       "       [ 0.7235455 ,  0.22354248],\n",
       "       [-0.19524244, -0.35520828],\n",
       "       [-0.37900002, -0.81820889],\n",
       "       [-1.66530312, -0.03689536],\n",
       "       [ 2.10172739, -0.84714643],\n",
       "       [ 1.45857584,  0.02097972],\n",
       "       [-1.02215157, -0.81820889],\n",
       "       [-0.01148485,  0.19460494],\n",
       "       [ 0.7235455 , -0.76033381],\n",
       "       [-0.6546364 , -0.26839567],\n",
       "       [-0.10336364, -1.10758427],\n",
       "       [-1.11403037,  0.25248002],\n",
       "       [ 0.7235455 , -1.13652181],\n",
       "       [ 0.7235455 , -1.42589719],\n",
       "       [ 0.26415153, -0.41308336],\n",
       "       [ 0.6316667 ,  1.95979477],\n",
       "       [-0.47087881,  0.83123078],\n",
       "       [-1.20590916, -0.47095843],\n",
       "       [ 0.35603032, -0.55777105],\n",
       "       [ 0.81542429, -1.39695965],\n",
       "       [ 0.08039394, -0.35520828],\n",
       "       [-0.47087881,  2.27810769],\n",
       "       [-0.19524244,  0.57079294],\n",
       "       [ 0.99918187,  0.07885479],\n",
       "       [-0.19524244, -1.39695965],\n",
       "       [-0.74651519, -0.81820889],\n",
       "       [ 0.90730308,  1.03379355],\n",
       "       [-0.19524244, -0.93395904],\n",
       "       [ 0.44790912, -0.18158305],\n",
       "       [-0.93027278,  0.48398032],\n",
       "       [ 0.44790912,  0.25248002],\n",
       "       [-1.75718192, -0.09477044],\n",
       "       [ 0.90730308, -0.58670859],\n",
       "       [-1.20590916,  0.36823017],\n",
       "       [ 0.90730308, -1.07864673],\n",
       "       [ 0.99918187,  1.38104401],\n",
       "       [-1.02215157, -1.62845996],\n",
       "       [-0.93027278,  0.71548063],\n",
       "       [ 0.44790912,  2.24917015],\n",
       "       [-0.28712123,  0.02097972],\n",
       "       [ 0.17227274,  0.22354248],\n",
       "       [-1.02215157,  1.35210647],\n",
       "       [-1.38966674, -0.23945813],\n",
       "       [ 0.35603032, -1.19439689],\n",
       "       [ 0.44790912,  1.06273109],\n",
       "       [ 0.53978791,  1.78616954],\n",
       "       [-0.56275761,  0.07885479],\n",
       "       [-1.02215157,  0.36823017],\n",
       "       [ 2.0098486 ,  1.69935693],\n",
       "       [ 1.9179698 ,  0.68654309],\n",
       "       [ 0.35603032, -0.00795782],\n",
       "       [-1.11403037,  0.5418554 ],\n",
       "       [-0.19524244,  2.19129507],\n",
       "       [ 0.7235455 , -1.31014704],\n",
       "       [-0.10336364, -0.49989597],\n",
       "       [-0.56275761, -0.09477044],\n",
       "       [ 1.82609101, -1.31014704],\n",
       "       [-0.01148485, -0.26839567],\n",
       "       [ 1.9179698 ,  0.86016832],\n",
       "       [-0.37900002, -0.58670859],\n",
       "       [-0.74651519, -0.81820889],\n",
       "       [ 1.73421222,  1.78616954],\n",
       "       [-0.19524244,  0.02097972],\n",
       "       [ 2.10172739,  0.88910586],\n",
       "       [-1.20590916, -0.38414582],\n",
       "       [ 1.64233343,  1.55466923],\n",
       "       [-1.57342433,  0.3103551 ]])"
      ]
     },
     "execution_count": 21,
     "metadata": {},
     "output_type": "execute_result"
    }
   ],
   "source": [
    "X_test"
   ]
  },
  {
   "cell_type": "code",
   "execution_count": 22,
   "id": "21321d83",
   "metadata": {},
   "outputs": [],
   "source": [
    "from sklearn.metrics import accuracy_score, confusion_matrix"
   ]
  },
  {
   "cell_type": "code",
   "execution_count": 23,
   "id": "7c651454",
   "metadata": {},
   "outputs": [
    {
     "data": {
      "text/plain": [
       "0.925"
      ]
     },
     "execution_count": 23,
     "metadata": {},
     "output_type": "execute_result"
    }
   ],
   "source": [
    "accuracy_score(Y_test, Y_pred)"
   ]
  },
  {
   "cell_type": "code",
   "execution_count": 24,
   "id": "34abaec5",
   "metadata": {},
   "outputs": [
    {
     "data": {
      "text/plain": [
       "array([[46,  2],\n",
       "       [ 4, 28]])"
      ]
     },
     "execution_count": 24,
     "metadata": {},
     "output_type": "execute_result"
    }
   ],
   "source": [
    "confusion_matrix(Y_test, Y_pred)"
   ]
  },
  {
   "cell_type": "markdown",
   "id": "98943eb8",
   "metadata": {},
   "source": [
    "## Finding K vavlue \n",
    "-method 2: test for different value of k, which gives maximum accuracy  "
   ]
  },
  {
   "cell_type": "code",
   "execution_count": 25,
   "id": "7049b86d",
   "metadata": {},
   "outputs": [
    {
     "name": "stdout",
     "output_type": "stream",
     "text": [
      "K = 1  , accuracy =  88.75\n",
      "K = 2  , accuracy =  82.5\n",
      "K = 3  , accuracy =  88.75\n",
      "K = 4  , accuracy =  85.0\n",
      "K = 5  , accuracy =  87.5\n",
      "K = 6  , accuracy =  88.75\n",
      "K = 7  , accuracy =  90.0\n",
      "K = 8  , accuracy =  88.75\n",
      "K = 9  , accuracy =  90.0\n",
      "K = 10  , accuracy =  90.0\n",
      "K = 11  , accuracy =  92.5\n",
      "K = 12  , accuracy =  92.5\n",
      "K = 13  , accuracy =  92.5\n",
      "K = 14  , accuracy =  92.5\n",
      "K = 15  , accuracy =  92.5\n",
      "K = 16  , accuracy =  93.75\n",
      "K = 17  , accuracy =  92.5\n",
      "K = 18  , accuracy =  92.5\n",
      "K = 19  , accuracy =  92.5\n",
      "K = 20  , accuracy =  91.25\n",
      "K = 21  , accuracy =  92.5\n",
      "K = 22  , accuracy =  92.5\n",
      "K = 23  , accuracy =  92.5\n",
      "K = 24  , accuracy =  93.75\n",
      "K = 25  , accuracy =  93.75\n",
      "K = 26  , accuracy =  92.5\n",
      "K = 27  , accuracy =  92.5\n",
      "K = 28  , accuracy =  92.5\n",
      "K = 29  , accuracy =  92.5\n",
      "K = 30  , accuracy =  92.5\n",
      "K = 31  , accuracy =  92.5\n",
      "K = 32  , accuracy =  92.5\n",
      "K = 33  , accuracy =  92.5\n",
      "K = 34  , accuracy =  92.5\n",
      "K = 35  , accuracy =  92.5\n",
      "K = 36  , accuracy =  91.25\n",
      "K = 37  , accuracy =  92.5\n",
      "K = 38  , accuracy =  92.5\n",
      "K = 39  , accuracy =  92.5\n",
      "K = 40  , accuracy =  91.25\n",
      "K = 41  , accuracy =  91.25\n",
      "K = 42  , accuracy =  90.0\n",
      "K = 43  , accuracy =  90.0\n",
      "K = 44  , accuracy =  90.0\n",
      "K = 45  , accuracy =  90.0\n",
      "K = 46  , accuracy =  90.0\n",
      "K = 47  , accuracy =  90.0\n",
      "K = 48  , accuracy =  90.0\n",
      "K = 49  , accuracy =  90.0\n"
     ]
    }
   ],
   "source": [
    "for i in  range(1, 50):\n",
    "    \n",
    "    knn= KNeighborsClassifier(n_neighbors= i)\n",
    "    \n",
    "    knn.fit(X_train, Y_train)\n",
    "    \n",
    "    Y_pred= knn.predict(X_test)\n",
    "    \n",
    "    print(\"K =\",i,\" , accuracy = \",accuracy_score(Y_test, Y_pred)*100)\n",
    "    "
   ]
  },
  {
   "cell_type": "code",
   "execution_count": 26,
   "id": "420e828f",
   "metadata": {},
   "outputs": [],
   "source": [
    "knn= KNeighborsClassifier(n_neighbors= 25) # k= 25 max accuracy \n",
    "    \n",
    "knn.fit(X_train, Y_train)\n",
    "    \n",
    "Y_pred= knn.predict(X_test)"
   ]
  },
  {
   "cell_type": "code",
   "execution_count": 27,
   "id": "ef383bc0",
   "metadata": {},
   "outputs": [],
   "source": [
    "from sklearn.metrics import confusion_matrix"
   ]
  },
  {
   "cell_type": "code",
   "execution_count": 28,
   "id": "8f1b4f9c",
   "metadata": {},
   "outputs": [
    {
     "data": {
      "text/plain": [
       "array([[47,  1],\n",
       "       [ 4, 28]])"
      ]
     },
     "execution_count": 28,
     "metadata": {},
     "output_type": "execute_result"
    }
   ],
   "source": [
    "confusion_matrix(Y_test, Y_pred)"
   ]
  },
  {
   "cell_type": "code",
   "execution_count": 235,
   "id": "b81f73f4",
   "metadata": {},
   "outputs": [],
   "source": [
    "def predict_output():\n",
    "    age= int(input(\"Enter the Age : \"))\n",
    "    salary= int(input(\"Enter the Salary : \"))\n",
    "    \n",
    "    X_new= np.array([age, salary]).reshape(1,2)\n",
    "    X_new= scaler.transform(X_new)\n",
    "    \n",
    "    if knn.predict(X_new)[0] == 0 :\n",
    "        print (\"Will not Purchase the product :( \")\n",
    "    else :\n",
    "        print(\"Will Purchase the Product :) \")\n",
    "        \n",
    "    return\n",
    "    "
   ]
  },
  {
   "cell_type": "code",
   "execution_count": 236,
   "id": "19cf3bd5",
   "metadata": {},
   "outputs": [
    {
     "name": "stdout",
     "output_type": "stream",
     "text": [
      "Enter the Age : 98\n",
      "Enter the Salary : 1889908\n",
      "Will Purchase the Product :) \n"
     ]
    }
   ],
   "source": [
    "predict_output()"
   ]
  },
  {
   "cell_type": "code",
   "execution_count": 237,
   "id": "bffc51a5",
   "metadata": {},
   "outputs": [
    {
     "name": "stdout",
     "output_type": "stream",
     "text": [
      "Enter the Age : 22\n",
      "Enter the Salary : 140000\n",
      "Will not Purchase the product :( \n"
     ]
    }
   ],
   "source": [
    "predict_output()"
   ]
  },
  {
   "cell_type": "markdown",
   "id": "70090dbf",
   "metadata": {},
   "source": [
    "# Decision Boundary for KNN "
   ]
  },
  {
   "cell_type": "code",
   "execution_count": 29,
   "id": "ed84f4a6",
   "metadata": {},
   "outputs": [],
   "source": [
    "a= np.arange(start=X_train[:, 0].min()-1,stop= X_train[:, 0].max()+1, step= 0.01) # min age to max ege (scaled)\n",
    "b= np.arange(start=X_train[:, 1].min()-1,stop= X_train[:, 1].max()+1, step= 0.01) # min salary to max slary (scaled)"
   ]
  },
  {
   "cell_type": "code",
   "execution_count": 30,
   "id": "b2a91899",
   "metadata": {},
   "outputs": [],
   "source": [
    "XX, YY= np.meshgrid(a, b)"
   ]
  },
  {
   "cell_type": "code",
   "execution_count": 31,
   "id": "2760e280",
   "metadata": {},
   "outputs": [
    {
     "data": {
      "text/plain": [
       "(599, 606)"
      ]
     },
     "execution_count": 31,
     "metadata": {},
     "output_type": "execute_result"
    }
   ],
   "source": [
    "XX.shape"
   ]
  },
  {
   "cell_type": "code",
   "execution_count": 32,
   "id": "c269e278",
   "metadata": {},
   "outputs": [
    {
     "data": {
      "text/plain": [
       "(599, 606)"
      ]
     },
     "execution_count": 32,
     "metadata": {},
     "output_type": "execute_result"
    }
   ],
   "source": [
    "YY.shape"
   ]
  },
  {
   "cell_type": "code",
   "execution_count": 33,
   "id": "40ae10b9",
   "metadata": {},
   "outputs": [
    {
     "name": "stdout",
     "output_type": "stream",
     "text": [
      "-2.910099410247808\n"
     ]
    }
   ],
   "source": [
    "print(XX[0][0]) # Age Value Of the first customer"
   ]
  },
  {
   "cell_type": "code",
   "execution_count": 34,
   "id": "3b187a13",
   "metadata": {},
   "outputs": [
    {
     "name": "stdout",
     "output_type": "stream",
     "text": [
      "-2.6027360646582487\n"
     ]
    }
   ],
   "source": [
    "print(YY[0][0]) # Salary Value Of the first customer"
   ]
  },
  {
   "cell_type": "code",
   "execution_count": 35,
   "id": "e469cf81",
   "metadata": {},
   "outputs": [
    {
     "data": {
      "text/plain": [
       "0"
      ]
     },
     "execution_count": 35,
     "metadata": {},
     "output_type": "execute_result"
    }
   ],
   "source": [
    "knn.predict(np.array([-2.910099410247808, -2.6027360646582487]).reshape(1,2))[0] # customer will not purchase product "
   ]
  },
  {
   "cell_type": "markdown",
   "id": "624b00d8",
   "metadata": {},
   "source": [
    "## Exaple Based On ravel()"
   ]
  },
  {
   "cell_type": "code",
   "execution_count": 145,
   "id": "41e769bd",
   "metadata": {},
   "outputs": [
    {
     "name": "stdout",
     "output_type": "stream",
     "text": [
      "[[     20      24      35      49      33      32      44      88]\n",
      " [  10000   13431 1343442   44335    5434   63343   73434  345656]]\n"
     ]
    },
    {
     "data": {
      "text/plain": [
       "(2, 8)"
      ]
     },
     "execution_count": 145,
     "metadata": {},
     "output_type": "execute_result"
    }
   ],
   "source": [
    "### ravel function convert multidimensional array to 1D array using level order traversal , example given below \n",
    "m= np.array([[20,24,35,49], [33,32,44,88]]) #age\n",
    "n= np.array([[10000, 13431, 1343442,44335], [5434,63343,73434,345656]]) #salaries\n",
    "\n",
    "arr= np.array([m.ravel(), n.ravel()])\n",
    "print(arr)\n",
    "arr.shape"
   ]
  },
  {
   "cell_type": "code",
   "execution_count": 146,
   "id": "02cf2b30",
   "metadata": {},
   "outputs": [
    {
     "data": {
      "text/plain": [
       "array([[     20,   10000],\n",
       "       [     24,   13431],\n",
       "       [     35, 1343442],\n",
       "       [     49,   44335],\n",
       "       [     33,    5434],\n",
       "       [     32,   63343],\n",
       "       [     44,   73434],\n",
       "       [     88,  345656]])"
      ]
     },
     "execution_count": 146,
     "metadata": {},
     "output_type": "execute_result"
    }
   ],
   "source": [
    "arr.T # perfect pair of both the array to feed to algo # one from \"m\" and 1 from \"n\" # considering m as ages and n as salaries "
   ]
  },
  {
   "cell_type": "markdown",
   "id": "8bc66041",
   "metadata": {},
   "source": [
    "## Applying ravel to Current"
   ]
  },
  {
   "cell_type": "code",
   "execution_count": 36,
   "id": "b58a0b9c",
   "metadata": {},
   "outputs": [
    {
     "data": {
      "text/plain": [
       "array([[-2.91009941, -2.90009941, -2.89009941, ...,  3.11990059,\n",
       "         3.12990059,  3.13990059],\n",
       "       [-2.60273606, -2.60273606, -2.60273606, ...,  3.37726394,\n",
       "         3.37726394,  3.37726394]])"
      ]
     },
     "execution_count": 36,
     "metadata": {},
     "output_type": "execute_result"
    }
   ],
   "source": [
    "np.array([XX.ravel(), YY.ravel()])"
   ]
  },
  {
   "cell_type": "code",
   "execution_count": 37,
   "id": "39dd596d",
   "metadata": {},
   "outputs": [
    {
     "data": {
      "text/plain": [
       "(2, 362994)"
      ]
     },
     "execution_count": 37,
     "metadata": {},
     "output_type": "execute_result"
    }
   ],
   "source": [
    "np.array([XX.ravel(), YY.ravel()]).shape # (2 X (599*606= 362994)) => ( 2 X 362994 )"
   ]
  },
  {
   "cell_type": "code",
   "execution_count": 38,
   "id": "e4474a30",
   "metadata": {},
   "outputs": [
    {
     "data": {
      "text/plain": [
       "array([[-2.91009941, -2.60273606],\n",
       "       [-2.90009941, -2.60273606],\n",
       "       [-2.89009941, -2.60273606],\n",
       "       ...,\n",
       "       [ 3.11990059,  3.37726394],\n",
       "       [ 3.12990059,  3.37726394],\n",
       "       [ 3.13990059,  3.37726394]])"
      ]
     },
     "execution_count": 38,
     "metadata": {},
     "output_type": "execute_result"
    }
   ],
   "source": [
    "input_arr= np.array([XX.ravel(), YY.ravel()]).T\n",
    "input_arr # age and salary pair that can be feed to algo"
   ]
  },
  {
   "cell_type": "code",
   "execution_count": 39,
   "id": "5a6e5d28",
   "metadata": {},
   "outputs": [
    {
     "data": {
      "text/plain": [
       "(362994, 2)"
      ]
     },
     "execution_count": 39,
     "metadata": {},
     "output_type": "execute_result"
    }
   ],
   "source": [
    "input_arr.shape # 3,62,994  (age, salary) pair to feed algo"
   ]
  },
  {
   "cell_type": "markdown",
   "id": "926c5155",
   "metadata": {},
   "source": [
    "## feeding the test data to KNN\n",
    "-classifying each point on meshgrid"
   ]
  },
  {
   "cell_type": "code",
   "execution_count": 40,
   "id": "c210b79a",
   "metadata": {},
   "outputs": [],
   "source": [
    "output_arr= knn.predict(input_arr) #lot of work # lazy learner "
   ]
  },
  {
   "cell_type": "code",
   "execution_count": 41,
   "id": "8523f577",
   "metadata": {},
   "outputs": [
    {
     "data": {
      "text/plain": [
       "(362994,)"
      ]
     },
     "execution_count": 41,
     "metadata": {},
     "output_type": "execute_result"
    }
   ],
   "source": [
    "output_arr.shape"
   ]
  },
  {
   "cell_type": "code",
   "execution_count": 42,
   "id": "9e97e81e",
   "metadata": {},
   "outputs": [
    {
     "data": {
      "text/plain": [
       "array([0, 0, 0, ..., 1, 1, 1])"
      ]
     },
     "execution_count": 42,
     "metadata": {},
     "output_type": "execute_result"
    }
   ],
   "source": [
    "output_arr"
   ]
  },
  {
   "cell_type": "markdown",
   "id": "e9066804",
   "metadata": {},
   "source": [
    "## Plotting the meshgrid coordinate and their corresponding O/P\n",
    "- purple region for zeroes ( 0 )\n",
    "- green for ones ( 1 ) "
   ]
  },
  {
   "cell_type": "code",
   "execution_count": 43,
   "id": "7cd70ce9",
   "metadata": {},
   "outputs": [
    {
     "data": {
      "text/plain": [
       "<matplotlib.contour.QuadContourSet at 0x7f638375b610>"
      ]
     },
     "execution_count": 43,
     "metadata": {},
     "output_type": "execute_result"
    },
    {
     "data": {
      "image/png": "[encoded data removed]",
      "text/plain": [
       "<Figure size 432x288 with 1 Axes>"
      ]
     },
     "metadata": {
      "needs_background": "light"
     },
     "output_type": "display_data"
    }
   ],
   "source": [
    "plt.contourf(XX, YY, output_arr.reshape(XX.shape)) #based on training data with small steps # binary classification # all dimension must be same to make contourf plot #f(x)= XX,YY #f(X) can be 0 or 1"
   ]
  },
  {
   "cell_type": "code",
   "execution_count": 44,
   "id": "d14d68c6",
   "metadata": {},
   "outputs": [
    {
     "data": {
      "text/plain": [
       "<matplotlib.collections.PathCollection at 0x7f63836c8cd0>"
      ]
     },
     "execution_count": 44,
     "metadata": {},
     "output_type": "execute_result"
    },
    {
     "data": {
      "image/png": "[encoded data removed]",
      "text/plain": [
       "<Figure size 432x288 with 1 Axes>"
      ]
     },
     "metadata": {
      "needs_background": "light"
     },
     "output_type": "display_data"
    }
   ],
   "source": [
    "plt.scatter(X_test[:,0], X_test[:,1], c=Y_pred) # normal plot showing how knn classify that which person will buy or not buy # test data plot"
   ]
  },
  {
   "cell_type": "code",
   "execution_count": 45,
   "id": "63f07639",
   "metadata": {},
   "outputs": [
    {
     "data": {
      "text/plain": [
       "<matplotlib.collections.PathCollection at 0x7f63836b3eb0>"
      ]
     },
     "execution_count": 45,
     "metadata": {},
     "output_type": "execute_result"
    },
    {
     "data": {
      "image/png": "[encoded data removed]",
      "text/plain": [
       "<Figure size 432x288 with 1 Axes>"
      ]
     },
     "metadata": {
      "needs_background": "light"
     },
     "output_type": "display_data"
    }
   ],
   "source": [
    "plt.scatter(X_test[:,0], X_test[:,1], c=Y_test) # normal plot showing orginal which person will buy or not buy # test data\n"
   ]
  },
  {
   "cell_type": "code",
   "execution_count": 46,
   "id": "3cf7c3e0",
   "metadata": {},
   "outputs": [
    {
     "data": {
      "text/plain": [
       "93.75"
      ]
     },
     "execution_count": 46,
     "metadata": {},
     "output_type": "execute_result"
    }
   ],
   "source": [
    "accuracy_score(Y_test, Y_pred)*100"
   ]
  },
  {
   "cell_type": "code",
   "execution_count": 65,
   "id": "c0347d94",
   "metadata": {},
   "outputs": [
    {
     "data": {
      "text/plain": [
       "<matplotlib.collections.PathCollection at 0x7f637e7d6280>"
      ]
     },
     "execution_count": 65,
     "metadata": {},
     "output_type": "execute_result"
    },
    {
     "data": {
      "image/png": "[encoded data removed]",
      "text/plain": [
       "<Figure size 432x288 with 1 Axes>"
      ]
     },
     "metadata": {
      "needs_background": "light"
     },
     "output_type": "display_data"
    }
   ],
   "source": [
    "# ORIGINAL on test data\n",
    "plt.contourf(XX, YY, output_arr.reshape(XX.shape), alpha=0.8)\n",
    "plt.scatter(X_test[:,0], X_test[:,1], c=Y_test) # Actual datapoint are little potla :) ( like purple datapoint in green region (outlier) )"
   ]
  },
  {
   "cell_type": "code",
   "execution_count": 47,
   "id": "2f65df66",
   "metadata": {},
   "outputs": [
    {
     "data": {
      "text/plain": [
       "<matplotlib.collections.PathCollection at 0x7f63836289d0>"
      ]
     },
     "execution_count": 47,
     "metadata": {},
     "output_type": "execute_result"
    },
    {
     "data": {
      "image/png": "[encoded data removed]",
      "text/plain": [
       "<Figure size 432x288 with 1 Axes>"
      ]
     },
     "metadata": {
      "needs_background": "light"
     },
     "output_type": "display_data"
    }
   ],
   "source": [
    "# PREDICTED on test data # Perfect Work by k nearest neigbour, with a little defect(because of outlier)\n",
    "plt.contourf(XX, YY, output_arr.reshape(XX.shape), alpha=0.8)# alpha is for transparency\n",
    "plt.scatter(X_test[:,0], X_test[:,1], c=Y_pred) # Removed the little potlaness :) using knn classification "
   ]
  },
  {
   "cell_type": "code",
   "execution_count": 49,
   "id": "07f48e63",
   "metadata": {},
   "outputs": [
    {
     "data": {
      "text/plain": [
       "array([0, 0, 0, 0, 1, 1, 0, 0, 0, 1, 0, 0, 1, 0, 0, 0, 0, 1, 1, 0, 0, 1,\n",
       "       0, 0, 0, 1, 1, 0, 1, 0, 0, 0, 1, 0, 1, 0, 1, 0, 0, 1, 0, 0, 0, 0,\n",
       "       0, 1, 0, 1, 1, 0, 0, 1, 0, 0, 0, 0, 0, 1, 1, 0, 0, 1, 1, 0, 0, 1,\n",
       "       1, 0, 0, 1, 0, 1, 0, 0, 1, 0, 1, 0, 1, 0])"
      ]
     },
     "execution_count": 49,
     "metadata": {},
     "output_type": "execute_result"
    }
   ],
   "source": [
    "Y_pred"
   ]
  },
  {
   "cell_type": "code",
   "execution_count": 50,
   "id": "eda596ce",
   "metadata": {},
   "outputs": [
    {
     "data": {
      "text/plain": [
       "array([0, 0, 0, 0, 1, 1, 0, 0, 0, 1, 0, 0, 1, 0, 0, 0, 0, 1, 1, 0, 1, 1,\n",
       "       0, 0, 0, 1, 1, 0, 1, 1, 0, 0, 1, 0, 1, 1, 1, 0, 0, 1, 0, 0, 0, 0,\n",
       "       0, 1, 0, 1, 1, 0, 1, 1, 0, 0, 0, 0, 0, 1, 0, 0, 0, 1, 1, 0, 0, 1,\n",
       "       1, 0, 0, 1, 0, 1, 0, 0, 1, 0, 1, 0, 1, 0])"
      ]
     },
     "execution_count": 50,
     "metadata": {},
     "output_type": "execute_result"
    }
   ],
   "source": [
    "Y_test.values"
   ]
  },
  {
   "cell_type": "code",
   "execution_count": 51,
   "id": "2be75e59",
   "metadata": {},
   "outputs": [],
   "source": [
    "mat= Y_test.values-Y_pred"
   ]
  },
  {
   "cell_type": "code",
   "execution_count": 52,
   "id": "cb364b71",
   "metadata": {},
   "outputs": [
    {
     "data": {
      "text/plain": [
       "(80,)"
      ]
     },
     "execution_count": 52,
     "metadata": {},
     "output_type": "execute_result"
    }
   ],
   "source": [
    "mat.shape"
   ]
  },
  {
   "cell_type": "code",
   "execution_count": 53,
   "id": "f0146f07",
   "metadata": {},
   "outputs": [
    {
     "name": "stdout",
     "output_type": "stream",
     "text": [
      "i= 20 , Y_test[ 20 ]= 1 , Y_pred[ 20 ]= 0\n",
      "Point should be in green region but moved to yellow region ( Defect/Wrong Classification Of KNN )\n",
      "\n",
      "i= 29 , Y_test[ 29 ]= 1 , Y_pred[ 29 ]= 0\n",
      "Point should be in green region but moved to yellow region ( Defect/Wrong Classification Of KNN )\n",
      "\n",
      "i= 35 , Y_test[ 35 ]= 1 , Y_pred[ 35 ]= 0\n",
      "Point should be in green region but moved to yellow region ( Defect/Wrong Classification Of KNN )\n",
      "\n",
      "i= 50 , Y_test[ 50 ]= 1 , Y_pred[ 50 ]= 0\n",
      "Point should be in green region but moved to yellow region ( Defect/Wrong Classification Of KNN )\n",
      "\n",
      "i= 58 , Y_test[ 58 ]= 0 , Y_pred[ 58 ]= 1\n",
      "Point should be in purple region but moved to green region ( Defect/Wrong Classification Of KNN )\n",
      "\n"
     ]
    }
   ],
   "source": [
    "for i in range(0, mat.shape[0]):\n",
    "   if mat[i] != 0:\n",
    "        print (\"i=\",i,\", Y_test[\",i,\"]=\",Y_test.values[i],\", Y_pred[\",i,\"]=\",Y_pred[i])\n",
    "        if Y_test.values[i] == 0:\n",
    "            print (\"Point should be in purple region but moved to green region ( Defect/Wrong Classification Of KNN )\\n\")\n",
    "        else :\n",
    "            print (\"Point should be in green region but moved to yellow region ( Defect/Wrong Classification Of KNN )\\n\")"
   ]
  },
  {
   "cell_type": "code",
   "execution_count": 54,
   "id": "1ef63e75",
   "metadata": {},
   "outputs": [],
   "source": [
    "# Five point Differing out of 80 points, so accuracy (100-(5/80* 100))=(100-6.25)= 93.75%"
   ]
  },
  {
   "cell_type": "markdown",
   "id": "12973efb",
   "metadata": {},
   "source": [
    "# Effect of K on Decision Boundary"
   ]
  },
  {
   "cell_type": "code",
   "execution_count": 55,
   "id": "e4bd7f63",
   "metadata": {},
   "outputs": [
    {
     "data": {
      "text/plain": [
       "array([[47,  1],\n",
       "       [ 4, 28]])"
      ]
     },
     "execution_count": 55,
     "metadata": {},
     "output_type": "execute_result"
    }
   ],
   "source": [
    "confusion_matrix(Y_test, Y_pred)"
   ]
  },
  {
   "cell_type": "code",
   "execution_count": 63,
   "id": "2229df07",
   "metadata": {},
   "outputs": [],
   "source": [
    "error_train= []\n",
    "error_test= []\n",
    "\n",
    "for k in range(1, 100):\n",
    "    knn= KNeighborsClassifier(n_neighbors= k)\n",
    "    knn.fit(X_train, Y_train)\n",
    "    \n",
    "    X= confusion_matrix(Y_train, knn.predict(X_train))\n",
    "    Y= confusion_matrix(Y_test, knn.predict(X_test))\n",
    "    \n",
    "    error_train.append( (X[0][1]+ X[1][0])/ X.sum() ) # error rate \n",
    "    error_test.append( (Y[0][1]+ Y[1][0])/ Y.sum() ) # error rate "
   ]
  },
  {
   "cell_type": "code",
   "execution_count": 64,
   "id": "6ed7c19d",
   "metadata": {},
   "outputs": [
    {
     "data": {
      "text/plain": [
       "<matplotlib.legend.Legend at 0x7f637e80ab20>"
      ]
     },
     "execution_count": 64,
     "metadata": {},
     "output_type": "execute_result"
    },
    {
     "data": {
      "image/png": "[encoded data removed]",
      "text/plain": [
       "<Figure size 432x288 with 1 Axes>"
      ]
     },
     "metadata": {
      "needs_background": "light"
     },
     "output_type": "display_data"
    }
   ],
   "source": [
    "plt.plot(range(1, 100), error_train, label=\"training error rate\")\n",
    "plt.plot(range(1, 100), error_test,  label=\"testing error rate\")\n",
    "plt.xlabel(\"K Value\")\n",
    "plt.ylabel(\"Error \")\n",
    "plt.legend()"
   ]
  },
  {
   "cell_type": "markdown",
   "id": "faa27ad9",
   "metadata": {},
   "source": [
    "\n",
    "### in the case of blue line ( based on training data ( seen to model )  )\n",
    "- when the value of k is low error is minimum  ( overfitting ) // already known to model the correct class of the data point \n",
    "\n",
    "- when we increase the value of k then error increases because majority votes gives wrong answer \n",
    "\n",
    "### in the case of yellow line ( based on testing data ( unseen to model ) )\n",
    "- when the value of k is low error is maximum ( as by only compairing with few neighbour will not help in classification )\n",
    "\n",
    "-  when we increase the value of k then error decreases ( comparing with many other neighbours and applying majority rule to decides its own class )\n",
    "\n",
    "### So we have  to pick the vlaue of k where both yellow and blue lines error are minimum  to find the optimal value of k for the current model "
   ]
  },
  {
   "cell_type": "code",
   "execution_count": 93,
   "id": "54b5d39f",
   "metadata": {},
   "outputs": [
    {
     "data": {
      "image/png": "[encoded data removed]",
      "text/plain": [
       "<Figure size 432x288 with 1 Axes>"
      ]
     },
     "metadata": {
      "needs_background": "light"
     },
     "output_type": "display_data"
    }
   ],
   "source": [
    "# k == 1 consider every minute details, that can be easly seen in contour decision boundary plot \n",
    "# overfitting # decision boundary is also harsh # unable to predict propper classification on new data  \n",
    "for i in range(1,2):\n",
    "    knn= KNeighborsClassifier(n_neighbors= i)\n",
    "    knn.fit(X_train, Y_train)\n",
    "    \n",
    "    # min age to max age (scaled)\n",
    "    a= np.arange(start=X_train[:, 0].min()-1,stop= X_train[:, 0].max()+1, step= 0.01) \n",
    "    \n",
    "    # min salary to max salary (scaled)\n",
    "    b= np.arange(start=X_train[:, 1].min()-1,stop= X_train[:, 1].max()+1, step= 0.01) \n",
    "    \n",
    "    XX, YY= np.meshgrid(a, b)\n",
    "    input_arr= np.array([XX.ravel(), YY.ravel()]).T\n",
    "    output_arr= knn.predict(input_arr)\n",
    "    \n",
    "    plt.contourf(XX, YY, output_arr.reshape(XX.shape))"
   ]
  },
  {
   "cell_type": "code",
   "execution_count": 94,
   "id": "804ad7af",
   "metadata": {},
   "outputs": [
    {
     "data": {
      "image/png": "[encoded data removed]",
      "text/plain": [
       "<Figure size 432x288 with 1 Axes>"
      ]
     },
     "metadata": {
      "needs_background": "light"
     },
     "output_type": "display_data"
    }
   ],
   "source": [
    "# decision boundary is also smooth and classification is almost binary \n",
    "# accuracy is much bettter near optimal \n",
    "for i in range(10, 11):\n",
    "    knn= KNeighborsClassifier(n_neighbors= i)\n",
    "    knn.fit(X_train, Y_train)\n",
    "    \n",
    "    # min age to max ege (scaled)\n",
    "    a= np.arange(start=X_train[:, 0].min()-1,stop= X_train[:, 0].max()+1, step= 0.01) \n",
    "    \n",
    "    # min salary to max slary (scaled)\n",
    "    b= np.arange(start=X_train[:, 1].min()-1,stop= X_train[:, 1].max()+1, step= 0.01) \n",
    "    \n",
    "    XX, YY= np.meshgrid(a, b)\n",
    "    input_arr= np.array([XX.ravel(), YY.ravel()]).T\n",
    "    output_arr= knn.predict(input_arr)\n",
    "    \n",
    "    plt.contourf(XX, YY, output_arr.reshape(XX.shape))"
   ]
  },
  {
   "cell_type": "code",
   "execution_count": 15,
   "id": "397f2aa0",
   "metadata": {},
   "outputs": [
    {
     "data": {
      "image/png": "[encoded data removed]",
      "text/plain": [
       "<Figure size 432x288 with 1 Axes>"
      ]
     },
     "metadata": {
      "needs_background": "light"
     },
     "output_type": "display_data"
    }
   ],
   "source": [
    "# decision boundary is also smooth but more towards underfiting \n",
    "# accuracy is not as bettter as previous \n",
    "# considering a larger amount of neighbour \n",
    "for i in range(40, 41):\n",
    "    knn= KNeighborsClassifier(n_neighbors= i)\n",
    "    knn.fit(X_train, Y_train)\n",
    "    \n",
    "    # min age to max ege (scaled)\n",
    "    a= np.arange(start=X_train[:, 0].min()-1,stop= X_train[:, 0].max()+1, step= 0.01) \n",
    "    \n",
    "    # min salary to max slary (scaled)\n",
    "    b= np.arange(start=X_train[:, 1].min()-1,stop= X_train[:, 1].max()+1, step= 0.01) \n",
    "    \n",
    "    XX, YY= np.meshgrid(a, b)\n",
    "    input_arr= np.array([XX.ravel(), YY.ravel()]).T\n",
    "    output_arr= knn.predict(input_arr)\n",
    "    \n",
    "    plt.contourf(XX, YY, output_arr.reshape(XX.shape))"
   ]
  },
  {
   "cell_type": "code",
   "execution_count": 16,
   "id": "cf15e440",
   "metadata": {},
   "outputs": [
    {
     "data": {
      "image/png": "[encoded data removed]",
      "text/plain": [
       "<Figure size 432x288 with 1 Axes>"
      ]
     },
     "metadata": {
      "needs_background": "light"
     },
     "output_type": "display_data"
    }
   ],
   "source": [
    "# decision boundary is also smooth but more more towards underfiting \n",
    "# accuracy is not as bettter as previous \n",
    "# considering a larger amount of neighbour and majority rule\n",
    "for i in range(80, 81):\n",
    "    knn= KNeighborsClassifier(n_neighbors= i)\n",
    "    knn.fit(X_train, Y_train)\n",
    "    \n",
    "    # min age to max ege (scaled)\n",
    "    a= np.arange(start=X_train[:, 0].min()-1,stop= X_train[:, 0].max()+1, step= 0.01) \n",
    "    \n",
    "    # min salary to max slary (scaled)\n",
    "    b= np.arange(start=X_train[:, 1].min()-1,stop= X_train[:, 1].max()+1, step= 0.01) \n",
    "    \n",
    "    XX, YY= np.meshgrid(a, b)\n",
    "    input_arr= np.array([XX.ravel(), YY.ravel()]).T\n",
    "    output_arr= knn.predict(input_arr)\n",
    "    \n",
    "    plt.contourf(XX, YY, output_arr.reshape(XX.shape))"
   ]
  },
  {
   "cell_type": "code",
   "execution_count": 28,
   "id": "9fd77e13",
   "metadata": {},
   "outputs": [
    {
     "data": {
      "image/png": "[encoded data removed]",
      "text/plain": [
       "<Figure size 432x288 with 1 Axes>"
      ]
     },
     "metadata": {
      "needs_background": "light"
     },
     "output_type": "display_data"
    }
   ],
   "source": [
    "# underfiting \n",
    "for i in range(200, 201):\n",
    "    knn= KNeighborsClassifier(n_neighbors= i)\n",
    "    knn.fit(X_train, Y_train)\n",
    "    \n",
    "    # min age to max ege (scaled)\n",
    "    a= np.arange(start=X_train[:, 0].min()-1,stop= X_train[:, 0].max()+1, step= 0.01) \n",
    "    \n",
    "    # min salary to max slary (scaled)\n",
    "    b= np.arange(start=X_train[:, 1].min()-1,stop= X_train[:, 1].max()+1, step= 0.01) \n",
    "    \n",
    "    XX, YY= np.meshgrid(a, b)\n",
    "    input_arr= np.array([XX.ravel(), YY.ravel()]).T\n",
    "    output_arr= knn.predict(input_arr)\n",
    "    \n",
    "    plt.contourf(XX, YY, output_arr.reshape(XX.shape))"
   ]
  },
  {
   "cell_type": "code",
   "execution_count": null,
   "id": "f3249592",
   "metadata": {},
   "outputs": [],
   "source": []
  }
 ],
 "metadata": {
  "kernelspec": {
   "display_name": "Python 3 (ipykernel)",
   "language": "python",
   "name": "python3"
  },
  "language_info": {
   "codemirror_mode": {
    "name": "ipython",
    "version": 3
   },
   "file_extension": ".py",
   "mimetype": "text/x-python",
   "name": "python",
   "nbconvert_exporter": "python",
   "pygments_lexer": "ipython3",
   "version": "3.9.12"
  }
 },
 "nbformat": 4,
 "nbformat_minor": 5
}
