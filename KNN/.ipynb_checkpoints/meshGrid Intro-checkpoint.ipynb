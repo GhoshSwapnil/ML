{
 "cells": [
  {
   "cell_type": "code",
   "execution_count": 22,
   "id": "ec023381",
   "metadata": {},
   "outputs": [],
   "source": [
    "import numpy as np\n",
    "import pandas as pd\n",
    "import matplotlib.pyplot as plt"
   ]
  },
  {
   "cell_type": "code",
   "execution_count": 7,
   "id": "6469546a",
   "metadata": {},
   "outputs": [],
   "source": [
    "x= np.array([1,2,3])\n",
    "y= np.array([4,5,6,7])\n",
    "XX, YY= np.meshgrid(x,y)"
   ]
  },
  {
   "cell_type": "code",
   "execution_count": 8,
   "id": "a2c0fe3b",
   "metadata": {},
   "outputs": [
    {
     "data": {
      "text/plain": [
       "array([[1, 2, 3],\n",
       "       [1, 2, 3],\n",
       "       [1, 2, 3],\n",
       "       [1, 2, 3]])"
      ]
     },
     "execution_count": 8,
     "metadata": {},
     "output_type": "execute_result"
    }
   ],
   "source": [
    "XX # 4 * 3"
   ]
  },
  {
   "cell_type": "code",
   "execution_count": 9,
   "id": "43b393de",
   "metadata": {},
   "outputs": [
    {
     "data": {
      "text/plain": [
       "array([[4, 4, 4],\n",
       "       [5, 5, 5],\n",
       "       [6, 6, 6],\n",
       "       [7, 7, 7]])"
      ]
     },
     "execution_count": 9,
     "metadata": {},
     "output_type": "execute_result"
    }
   ],
   "source": [
    "YY # 4* 3"
   ]
  },
  {
   "cell_type": "code",
   "execution_count": 10,
   "id": "6f8f6963",
   "metadata": {},
   "outputs": [
    {
     "data": {
      "text/plain": [
       "((4, 3), (4, 3))"
      ]
     },
     "execution_count": 10,
     "metadata": {},
     "output_type": "execute_result"
    }
   ],
   "source": [
    "XX.shape, YY.shape"
   ]
  },
  {
   "cell_type": "markdown",
   "id": "7e676241",
   "metadata": {},
   "source": [
    "## Plotting a function using Mesh grid "
   ]
  },
  {
   "cell_type": "code",
   "execution_count": 35,
   "id": "727239b6",
   "metadata": {},
   "outputs": [],
   "source": [
    "x= np.linspace(-40, 40, 100)\n",
    "y= np.linspace(-50, 50, 90)"
   ]
  },
  {
   "cell_type": "code",
   "execution_count": 36,
   "id": "5edf96e0",
   "metadata": {},
   "outputs": [
    {
     "data": {
      "text/plain": [
       "array([-40.        , -39.19191919, -38.38383838, -37.57575758,\n",
       "       -36.76767677, -35.95959596, -35.15151515, -34.34343434,\n",
       "       -33.53535354, -32.72727273, -31.91919192, -31.11111111,\n",
       "       -30.3030303 , -29.49494949, -28.68686869, -27.87878788,\n",
       "       -27.07070707, -26.26262626, -25.45454545, -24.64646465,\n",
       "       -23.83838384, -23.03030303, -22.22222222, -21.41414141,\n",
       "       -20.60606061, -19.7979798 , -18.98989899, -18.18181818,\n",
       "       -17.37373737, -16.56565657, -15.75757576, -14.94949495,\n",
       "       -14.14141414, -13.33333333, -12.52525253, -11.71717172,\n",
       "       -10.90909091, -10.1010101 ,  -9.29292929,  -8.48484848,\n",
       "        -7.67676768,  -6.86868687,  -6.06060606,  -5.25252525,\n",
       "        -4.44444444,  -3.63636364,  -2.82828283,  -2.02020202,\n",
       "        -1.21212121,  -0.4040404 ,   0.4040404 ,   1.21212121,\n",
       "         2.02020202,   2.82828283,   3.63636364,   4.44444444,\n",
       "         5.25252525,   6.06060606,   6.86868687,   7.67676768,\n",
       "         8.48484848,   9.29292929,  10.1010101 ,  10.90909091,\n",
       "        11.71717172,  12.52525253,  13.33333333,  14.14141414,\n",
       "        14.94949495,  15.75757576,  16.56565657,  17.37373737,\n",
       "        18.18181818,  18.98989899,  19.7979798 ,  20.60606061,\n",
       "        21.41414141,  22.22222222,  23.03030303,  23.83838384,\n",
       "        24.64646465,  25.45454545,  26.26262626,  27.07070707,\n",
       "        27.87878788,  28.68686869,  29.49494949,  30.3030303 ,\n",
       "        31.11111111,  31.91919192,  32.72727273,  33.53535354,\n",
       "        34.34343434,  35.15151515,  35.95959596,  36.76767677,\n",
       "        37.57575758,  38.38383838,  39.19191919,  40.        ])"
      ]
     },
     "execution_count": 36,
     "metadata": {},
     "output_type": "execute_result"
    }
   ],
   "source": [
    "x"
   ]
  },
  {
   "cell_type": "code",
   "execution_count": 37,
   "id": "6847ab7e",
   "metadata": {},
   "outputs": [
    {
     "data": {
      "text/plain": [
       "array([-50.        , -48.87640449, -47.75280899, -46.62921348,\n",
       "       -45.50561798, -44.38202247, -43.25842697, -42.13483146,\n",
       "       -41.01123596, -39.88764045, -38.76404494, -37.64044944,\n",
       "       -36.51685393, -35.39325843, -34.26966292, -33.14606742,\n",
       "       -32.02247191, -30.8988764 , -29.7752809 , -28.65168539,\n",
       "       -27.52808989, -26.40449438, -25.28089888, -24.15730337,\n",
       "       -23.03370787, -21.91011236, -20.78651685, -19.66292135,\n",
       "       -18.53932584, -17.41573034, -16.29213483, -15.16853933,\n",
       "       -14.04494382, -12.92134831, -11.79775281, -10.6741573 ,\n",
       "        -9.5505618 ,  -8.42696629,  -7.30337079,  -6.17977528,\n",
       "        -5.05617978,  -3.93258427,  -2.80898876,  -1.68539326,\n",
       "        -0.56179775,   0.56179775,   1.68539326,   2.80898876,\n",
       "         3.93258427,   5.05617978,   6.17977528,   7.30337079,\n",
       "         8.42696629,   9.5505618 ,  10.6741573 ,  11.79775281,\n",
       "        12.92134831,  14.04494382,  15.16853933,  16.29213483,\n",
       "        17.41573034,  18.53932584,  19.66292135,  20.78651685,\n",
       "        21.91011236,  23.03370787,  24.15730337,  25.28089888,\n",
       "        26.40449438,  27.52808989,  28.65168539,  29.7752809 ,\n",
       "        30.8988764 ,  32.02247191,  33.14606742,  34.26966292,\n",
       "        35.39325843,  36.51685393,  37.64044944,  38.76404494,\n",
       "        39.88764045,  41.01123596,  42.13483146,  43.25842697,\n",
       "        44.38202247,  45.50561798,  46.62921348,  47.75280899,\n",
       "        48.87640449,  50.        ])"
      ]
     },
     "execution_count": 37,
     "metadata": {},
     "output_type": "execute_result"
    }
   ],
   "source": [
    "y"
   ]
  },
  {
   "cell_type": "code",
   "execution_count": 38,
   "id": "f367ee11",
   "metadata": {},
   "outputs": [],
   "source": [
    "XX, YY= np.meshgrid(x,y)"
   ]
  },
  {
   "cell_type": "code",
   "execution_count": 39,
   "id": "8b26c90d",
   "metadata": {},
   "outputs": [
    {
     "data": {
      "text/plain": [
       "array([[-40.        , -39.19191919, -38.38383838, ...,  38.38383838,\n",
       "         39.19191919,  40.        ],\n",
       "       [-40.        , -39.19191919, -38.38383838, ...,  38.38383838,\n",
       "         39.19191919,  40.        ],\n",
       "       [-40.        , -39.19191919, -38.38383838, ...,  38.38383838,\n",
       "         39.19191919,  40.        ],\n",
       "       ...,\n",
       "       [-40.        , -39.19191919, -38.38383838, ...,  38.38383838,\n",
       "         39.19191919,  40.        ],\n",
       "       [-40.        , -39.19191919, -38.38383838, ...,  38.38383838,\n",
       "         39.19191919,  40.        ],\n",
       "       [-40.        , -39.19191919, -38.38383838, ...,  38.38383838,\n",
       "         39.19191919,  40.        ]])"
      ]
     },
     "execution_count": 39,
     "metadata": {},
     "output_type": "execute_result"
    }
   ],
   "source": [
    "XX"
   ]
  },
  {
   "cell_type": "code",
   "execution_count": 40,
   "id": "c84ca58b",
   "metadata": {},
   "outputs": [
    {
     "data": {
      "text/plain": [
       "array([[-50.        , -50.        , -50.        , ..., -50.        ,\n",
       "        -50.        , -50.        ],\n",
       "       [-48.87640449, -48.87640449, -48.87640449, ..., -48.87640449,\n",
       "        -48.87640449, -48.87640449],\n",
       "       [-47.75280899, -47.75280899, -47.75280899, ..., -47.75280899,\n",
       "        -47.75280899, -47.75280899],\n",
       "       ...,\n",
       "       [ 47.75280899,  47.75280899,  47.75280899, ...,  47.75280899,\n",
       "         47.75280899,  47.75280899],\n",
       "       [ 48.87640449,  48.87640449,  48.87640449, ...,  48.87640449,\n",
       "         48.87640449,  48.87640449],\n",
       "       [ 50.        ,  50.        ,  50.        , ...,  50.        ,\n",
       "         50.        ,  50.        ]])"
      ]
     },
     "execution_count": 40,
     "metadata": {},
     "output_type": "execute_result"
    }
   ],
   "source": [
    "YY"
   ]
  },
  {
   "cell_type": "code",
   "execution_count": 41,
   "id": "a5c7ada9",
   "metadata": {},
   "outputs": [
    {
     "data": {
      "text/plain": [
       "(90, 100)"
      ]
     },
     "execution_count": 41,
     "metadata": {},
     "output_type": "execute_result"
    }
   ],
   "source": [
    "Z= np.random.random((90, 100))\n",
    "Z.shape"
   ]
  },
  {
   "cell_type": "code",
   "execution_count": 42,
   "id": "0a7728d3",
   "metadata": {},
   "outputs": [
    {
     "data": {
      "text/plain": [
       "<matplotlib.contour.QuadContourSet at 0x7f80dd53b430>"
      ]
     },
     "execution_count": 42,
     "metadata": {},
     "output_type": "execute_result"
    },
    {
     "data": {
      "image/png": "[encoded data removed]",
      "text/plain": [
       "<Figure size 432x288 with 1 Axes>"
      ]
     },
     "metadata": {
      "needs_background": "light"
     },
     "output_type": "display_data"
    }
   ],
   "source": [
    "plt.contourf(XX, YY, Z)"
   ]
  },
  {
   "cell_type": "code",
   "execution_count": null,
   "id": "2f03cf27",
   "metadata": {},
   "outputs": [],
   "source": []
  },
  {
   "cell_type": "code",
   "execution_count": null,
   "id": "f321bd0d",
   "metadata": {},
   "outputs": [],
   "source": []
  }
 ],
 "metadata": {
  "kernelspec": {
   "display_name": "Python 3 (ipykernel)",
   "language": "python",
   "name": "python3"
  },
  "language_info": {
   "codemirror_mode": {
    "name": "ipython",
    "version": 3
   },
   "file_extension": ".py",
   "mimetype": "text/x-python",
   "name": "python",
   "nbconvert_exporter": "python",
   "pygments_lexer": "ipython3",
   "version": "3.9.12"
  }
 },
 "nbformat": 4,
 "nbformat_minor": 5
}
