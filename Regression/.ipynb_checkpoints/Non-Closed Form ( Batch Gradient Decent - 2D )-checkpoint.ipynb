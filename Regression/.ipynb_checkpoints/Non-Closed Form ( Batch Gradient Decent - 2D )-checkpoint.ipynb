{
 "cells": [
  {
   "cell_type": "code",
   "execution_count": 1,
   "id": "cad21f4b",
   "metadata": {},
   "outputs": [],
   "source": [
    "from sklearn.datasets import make_regression\n",
    "import matplotlib.pyplot as plt\n",
    "import numpy as np"
   ]
  },
  {
   "cell_type": "markdown",
   "id": "240dcda6",
   "metadata": {},
   "source": [
    "## New Dataset "
   ]
  },
  {
   "cell_type": "code",
   "execution_count": 2,
   "id": "312247f4",
   "metadata": {},
   "outputs": [],
   "source": [
    "X, Y= make_regression(n_samples= 100, n_features= 1, n_informative= 1,n_targets= 1,noise= 20)"
   ]
  },
  {
   "cell_type": "code",
   "execution_count": 3,
   "id": "8d499eb5",
   "metadata": {},
   "outputs": [
    {
     "data": {
      "text/plain": [
       "Text(0, 0.5, 'Y')"
      ]
     },
     "execution_count": 3,
     "metadata": {},
     "output_type": "execute_result"
    },
    {
     "data": {
      "image/png": "[encoded data removed]",
      "text/plain": [
       "<Figure size 432x288 with 1 Axes>"
      ]
     },
     "metadata": {
      "needs_background": "light"
     },
     "output_type": "display_data"
    }
   ],
   "source": [
    "plt.scatter(X, Y)\n",
    "plt.xlabel(\"X\")\n",
    "plt.ylabel(\"Y\")"
   ]
  },
  {
   "cell_type": "code",
   "execution_count": 4,
   "id": "1b519fab",
   "metadata": {},
   "outputs": [],
   "source": [
    "from sklearn.model_selection import train_test_split"
   ]
  },
  {
   "cell_type": "code",
   "execution_count": 5,
   "id": "6d9c517e",
   "metadata": {},
   "outputs": [],
   "source": [
    "X_train, X_test, Y_train, Y_test= train_test_split(X, Y, test_size= 0.2,random_state= 2)"
   ]
  },
  {
   "cell_type": "markdown",
   "id": "3a1f9b21",
   "metadata": {},
   "source": [
    "## OLS "
   ]
  },
  {
   "cell_type": "code",
   "execution_count": 6,
   "id": "d90536c8",
   "metadata": {},
   "outputs": [],
   "source": [
    "from sklearn.linear_model import LinearRegression "
   ]
  },
  {
   "cell_type": "code",
   "execution_count": 7,
   "id": "77699153",
   "metadata": {},
   "outputs": [],
   "source": [
    "lr= LinearRegression()"
   ]
  },
  {
   "cell_type": "code",
   "execution_count": 8,
   "id": "220ef7f4",
   "metadata": {},
   "outputs": [
    {
     "data": {
      "text/plain": [
       "LinearRegression()"
      ]
     },
     "execution_count": 8,
     "metadata": {},
     "output_type": "execute_result"
    }
   ],
   "source": [
    "lr.fit(X_train, Y_train)"
   ]
  },
  {
   "cell_type": "code",
   "execution_count": 9,
   "id": "a77c973b",
   "metadata": {
    "scrolled": true
   },
   "outputs": [
    {
     "name": "stdout",
     "output_type": "stream",
     "text": [
      "m (slope) of best fit line is   [50.36815238]\n",
      "b (intercept) of best fit line is   2.013657353085523\n"
     ]
    }
   ],
   "source": [
    "m, b= lr.coef_, lr.intercept_\n",
    "print ( \"m (slope) of best fit line is  \", m)\n",
    "print ( \"b (intercept) of best fit line is  \", b)"
   ]
  },
  {
   "cell_type": "code",
   "execution_count": 10,
   "id": "5c386b54",
   "metadata": {},
   "outputs": [
    {
     "data": {
      "text/plain": [
       "Text(0, 0.5, 'Y -------- >')"
      ]
     },
     "execution_count": 10,
     "metadata": {},
     "output_type": "execute_result"
    },
    {
     "data": {
      "image/png": "[encoded data removed]",
      "text/plain": [
       "<Figure size 432x288 with 1 Axes>"
      ]
     },
     "metadata": {
      "needs_background": "light"
     },
     "output_type": "display_data"
    }
   ],
   "source": [
    "plt.scatter(X_test, Y_test, color=\"blue\") # Orginal \n",
    "plt.scatter(X_test, lr.predict(X_test), color=\"red\") # predicted \n",
    "\n",
    "plt.xlabel(\"X -------- >\")\n",
    "plt.ylabel(\"Y -------- >\")"
   ]
  },
  {
   "cell_type": "markdown",
   "id": "842fdeaa",
   "metadata": {},
   "source": [
    "# Batch GD - 0\n",
    "## Partial Gradient Decent Concept ( dependency on OLS for m )¶ \n",
    "-Prerequisite for full gradient decent "
   ]
  },
  {
   "cell_type": "code",
   "execution_count": 11,
   "id": "10449aa6",
   "metadata": {},
   "outputs": [],
   "source": [
    "class PGDRegressor:\n",
    "    \n",
    "    def __init__(self, m , learning_rate, epochs): \n",
    "        self.m= m # slope of best fit line by OLS \n",
    "        self.b= -120 # we can start from any b \n",
    "        self.lr= learning_rate\n",
    "        self.epochs= epochs\n",
    "        \n",
    "    def fit(self, X, Y): \n",
    "        # Calculating b(intercept) using gradient decent\n",
    "        print(\"Slope = 0 , Step Size = 0 , b (intercept) = \", self.b)\n",
    "        for i in range(self.epochs):\n",
    "            slope= -2 * np.sum(Y - self.m * X.ravel() - self.b)# old slope of parabolic error function \n",
    "            stepSize= self.lr * slope\n",
    "            self.b= self.b - stepSize\n",
    "            \n",
    "            \n",
    "            print(\"Slope = \", slope, \", Step Size = \", stepSize, \", b (intercept) = \", self.b)\n",
    "            \n",
    "            Y_pred= m* X + self.b # for particular value of b \n",
    "            plt.plot(X, Y_pred)\n",
    "            \n",
    "        plt.scatter(X_train, Y_train)\n",
    "        plt.plot(X_train, lr.predict(X_train), color=\"black\", linewidth= 5) # best fit by OLS\n",
    "        return self.b"
   ]
  },
  {
   "cell_type": "markdown",
   "id": "9ba3194d",
   "metadata": {},
   "source": [
    " ## Case 1 : \n",
    " - when we can directly reach to optimal b ( means lowest vaue of error function ( minima of L(b) ) ) by continiously increasing or decreasing the value of b using the slope  "
   ]
  },
  {
   "cell_type": "code",
   "execution_count": 12,
   "id": "ea8ea6cd",
   "metadata": {},
   "outputs": [],
   "source": [
    "gd= PGDRegressor(m, 0.001, 100)"
   ]
  },
  {
   "cell_type": "code",
   "execution_count": 13,
   "id": "43897d3d",
   "metadata": {
    "scrolled": true
   },
   "outputs": [
    {
     "name": "stdout",
     "output_type": "stream",
     "text": [
      "Slope = 0 , Step Size = 0 , b (intercept) =  -120\n",
      "Slope =  -19522.18517649368 , Step Size =  -19.52218517649368 , b (intercept) =  -100.47781482350632\n",
      "Slope =  -16398.635548254693 , Step Size =  -16.398635548254692 , b (intercept) =  -84.07917927525163\n",
      "Slope =  -13774.853860533945 , Step Size =  -13.774853860533947 , b (intercept) =  -70.30432541471768\n",
      "Slope =  -11570.877242848512 , Step Size =  -11.570877242848512 , b (intercept) =  -58.73344817186917\n",
      "Slope =  -9719.53688399275 , Step Size =  -9.71953688399275 , b (intercept) =  -49.01391128787642\n",
      "Slope =  -8164.41098255391 , Step Size =  -8.16441098255391 , b (intercept) =  -40.84950030532251\n",
      "Slope =  -6858.105225345284 , Step Size =  -6.858105225345285 , b (intercept) =  -33.991395079977224\n",
      "Slope =  -5760.80838929004 , Step Size =  -5.76080838929004 , b (intercept) =  -28.230586690687183\n",
      "Slope =  -4839.079047003633 , Step Size =  -4.839079047003633 , b (intercept) =  -23.39150764368355\n",
      "Slope =  -4064.8263994830513 , Step Size =  -4.064826399483051 , b (intercept) =  -19.3266812442005\n",
      "Slope =  -3414.4541755657638 , Step Size =  -3.414454175565764 , b (intercept) =  -15.912227068634737\n",
      "Slope =  -2868.1415074752413 , Step Size =  -2.8681415074752414 , b (intercept) =  -13.044085561159495\n",
      "Slope =  -2409.2388662792027 , Step Size =  -2.409238866279203 , b (intercept) =  -10.634846694880292\n",
      "Slope =  -2023.7606476745304 , Step Size =  -2.0237606476745307 , b (intercept) =  -8.611086047205761\n",
      "Slope =  -1699.9589440466052 , Step Size =  -1.6999589440466052 , b (intercept) =  -6.911127103159156\n",
      "Slope =  -1427.9655129991488 , Step Size =  -1.4279655129991489 , b (intercept) =  -5.483161590160007\n",
      "Slope =  -1199.4910309192849 , Step Size =  -1.199491030919285 , b (intercept) =  -4.283670559240722\n",
      "Slope =  -1007.5724659721992 , Step Size =  -1.0075724659721992 , b (intercept) =  -3.276098093268523\n",
      "Slope =  -846.3608714166473 , Step Size =  -0.8463608714166474 , b (intercept) =  -2.4297372218518754\n",
      "Slope =  -710.9431319899837 , Step Size =  -0.7109431319899837 , b (intercept) =  -1.7187940898618916\n",
      "Slope =  -597.1922308715864 , Step Size =  -0.5971922308715863 , b (intercept) =  -1.1216018589903052\n",
      "Slope =  -501.6414739321326 , Step Size =  -0.5016414739321327 , b (intercept) =  -0.6199603850581725\n",
      "Slope =  -421.37883810299115 , Step Size =  -0.42137883810299115 , b (intercept) =  -0.19858154695518138\n",
      "Slope =  -353.9582240065127 , Step Size =  -0.3539582240065127 , b (intercept) =  0.15537667705133135\n",
      "Slope =  -297.3249081654707 , Step Size =  -0.2973249081654707 , b (intercept) =  0.45270158521680204\n",
      "Slope =  -249.7529228589954 , Step Size =  -0.2497529228589954 , b (intercept) =  0.7024545080757975\n",
      "Slope =  -209.79245520155624 , Step Size =  -0.20979245520155623 , b (intercept) =  0.9122469632773537\n",
      "Slope =  -176.2256623693071 , Step Size =  -0.1762256623693071 , b (intercept) =  1.0884726256466608\n",
      "Slope =  -148.029556390218 , Step Size =  -0.148029556390218 , b (intercept) =  1.236502182036879\n",
      "Slope =  -124.34482736778298 , Step Size =  -0.12434482736778299 , b (intercept) =  1.3608470094046619\n",
      "Slope =  -104.44965498893782 , Step Size =  -0.10444965498893782 , b (intercept) =  1.4652966643935996\n",
      "Slope =  -87.73771019070782 , Step Size =  -0.08773771019070782 , b (intercept) =  1.5530343745843074\n",
      "Slope =  -73.69967656019449 , Step Size =  -0.0736996765601945 , b (intercept) =  1.6267340511445019\n",
      "Slope =  -61.907728310563314 , Step Size =  -0.06190772831056331 , b (intercept) =  1.6886417794550652\n",
      "Slope =  -52.002491780873356 , Step Size =  -0.05200249178087336 , b (intercept) =  1.7406442712359387\n",
      "Slope =  -43.682093095933425 , Step Size =  -0.043682093095933426 , b (intercept) =  1.784326364331872\n",
      "Slope =  -36.69295820058426 , Step Size =  -0.036692958200584255 , b (intercept) =  1.8210193225324562\n",
      "Slope =  -30.82208488849065 , Step Size =  -0.030822084888490652 , b (intercept) =  1.8518414074209468\n",
      "Slope =  -25.890551306332327 , Step Size =  -0.02589055130633233 , b (intercept) =  1.8777319587272792\n",
      "Slope =  -21.748063097319147 , Step Size =  -0.021748063097319147 , b (intercept) =  1.8994800218245984\n",
      "Slope =  -18.268373001748046 , Step Size =  -0.018268373001748047 , b (intercept) =  1.9177483948263465\n",
      "Slope =  -15.345433321468192 , Step Size =  -0.015345433321468193 , b (intercept) =  1.9330938281478147\n",
      "Slope =  -12.890163990033344 , Step Size =  -0.012890163990033343 , b (intercept) =  1.9459839921378481\n",
      "Slope =  -10.827737751628035 , Step Size =  -0.010827737751628036 , b (intercept) =  1.956811729889476\n",
      "Slope =  -9.09529971136746 , Step Size =  -0.00909529971136746 , b (intercept) =  1.9659070296008434\n",
      "Slope =  -7.640051757548733 , Step Size =  -0.007640051757548733 , b (intercept) =  1.9735470813583922\n",
      "Slope =  -6.4176434763407855 , Step Size =  -0.006417643476340785 , b (intercept) =  1.979964724834733\n",
      "Slope =  -5.390820520126326 , Step Size =  -0.005390820520126326 , b (intercept) =  1.9853555453548593\n",
      "Slope =  -4.528289236906147 , Step Size =  -0.004528289236906147 , b (intercept) =  1.9898838345917653\n",
      "Slope =  -3.8037629590011903 , Step Size =  -0.0038037629590011906 , b (intercept) =  1.9936875975507664\n",
      "Slope =  -3.195160885561023 , Step Size =  -0.0031951608855610232 , b (intercept) =  1.9968827584363273\n",
      "Slope =  -2.6839351438712384 , Step Size =  -0.0026839351438712384 , b (intercept) =  1.9995666935801986\n",
      "Slope =  -2.254505520851879 , Step Size =  -0.002254505520851879 , b (intercept) =  2.0018211991010504\n",
      "Slope =  -1.8937846375155658 , Step Size =  -0.0018937846375155659 , b (intercept) =  2.003714983738566\n",
      "Slope =  -1.590779095513156 , Step Size =  -0.001590779095513156 , b (intercept) =  2.0053057628340794\n",
      "Slope =  -1.336254440230931 , Step Size =  -0.0013362544402309312 , b (intercept) =  2.0066420172743102\n",
      "Slope =  -1.1224537297941026 , Step Size =  -0.0011224537297941026 , b (intercept) =  2.0077644710041045\n",
      "Slope =  -0.9428611330269661 , Step Size =  -0.0009428611330269661 , b (intercept) =  2.0087073321371314\n",
      "Slope =  -0.7920033517426788 , Step Size =  -0.0007920033517426788 , b (intercept) =  2.009499335488874\n",
      "Slope =  -0.6652828154637405 , Step Size =  -0.0006652828154637405 , b (intercept) =  2.0101646183043376\n",
      "Slope =  -0.5588375649897017 , Step Size =  -0.0005588375649897017 , b (intercept) =  2.010723455869327\n",
      "Slope =  -0.46942355459121643 , Step Size =  -0.00046942355459121644 , b (intercept) =  2.0111928794239184\n",
      "Slope =  -0.3943157858566195 , Step Size =  -0.00039431578585661953 , b (intercept) =  2.011587195209775\n",
      "Slope =  -0.331225260119723 , Step Size =  -0.000331225260119723 , b (intercept) =  2.0119184204698946\n",
      "Slope =  -0.2782292185006696 , Step Size =  -0.0002782292185006696 , b (intercept) =  2.0121966496883954\n",
      "Slope =  -0.23371254354040616 , Step Size =  -0.00023371254354040617 , b (intercept) =  2.0124303622319357\n",
      "Slope =  -0.19631853657402587 , Step Size =  -0.00019631853657402587 , b (intercept) =  2.0126266807685096\n",
      "Slope =  -0.1649075707221641 , Step Size =  -0.0001649075707221641 , b (intercept) =  2.0127915883392316\n",
      "Slope =  -0.13852235940652236 , Step Size =  -0.00013852235940652237 , b (intercept) =  2.012930110698638\n",
      "Slope =  -0.11635878190163851 , Step Size =  -0.00011635878190163851 , b (intercept) =  2.01304646948054\n",
      "Slope =  -0.09774137679742978 , Step Size =  -9.774137679742978e-05 , b (intercept) =  2.0131442108573374\n",
      "Slope =  -0.0821027565096415 , Step Size =  -8.210275650964149e-05 , b (intercept) =  2.013226313613847\n",
      "Slope =  -0.06896631546824494 , Step Size =  -6.896631546824494e-05 , b (intercept) =  2.013295279929315\n",
      "Slope =  -0.057931704993208655 , Step Size =  -5.793170499320866e-05 , b (intercept) =  2.0133532116343082\n",
      "Slope =  -0.048662632194478306 , Step Size =  -4.866263219447831e-05 , b (intercept) =  2.0134018742665027\n",
      "Slope =  -0.04087661104325946 , Step Size =  -4.087661104325946e-05 , b (intercept) =  2.013442750877546\n",
      "Slope =  -0.034336353276344767 , Step Size =  -3.433635327634477e-05 , b (intercept) =  2.013477087230822\n",
      "Slope =  -0.028842536752208048 , Step Size =  -2.8842536752208048e-05 , b (intercept) =  2.0135059297675744\n",
      "Slope =  -0.024227730871714925 , Step Size =  -2.4227730871714925e-05 , b (intercept) =  2.013530157498446\n",
      "Slope =  -0.020351293932208137 , Step Size =  -2.0351293932208138e-05 , b (intercept) =  2.0135505087923784\n",
      "Slope =  -0.017095086903182732 , Step Size =  -1.7095086903182734e-05 , b (intercept) =  2.013567603879282\n",
      "Slope =  -0.01435987299863939 , Step Size =  -1.435987299863939e-05 , b (intercept) =  2.0135819637522805\n",
      "Slope =  -0.012062293318891193 , Step Size =  -1.2062293318891193e-05 , b (intercept) =  2.0135940260455993\n",
      "Slope =  -0.010132326387775947 , Step Size =  -1.0132326387775948e-05 , b (intercept) =  2.013604158371987\n",
      "Slope =  -0.008511154165816492 , Step Size =  -8.511154165816493e-06 , b (intercept) =  2.013612669526153\n",
      "Slope =  -0.007149369499146019 , Step Size =  -7.149369499146019e-06 , b (intercept) =  2.013619818895652\n",
      "Slope =  -0.0060054703793070985 , Step Size =  -6.005470379307098e-06 , b (intercept) =  2.013625824366031\n",
      "Slope =  -0.005044595118675943 , Step Size =  -5.044595118675943e-06 , b (intercept) =  2.0136308689611497\n",
      "Slope =  -0.004237459899670171 , Step Size =  -4.237459899670171e-06 , b (intercept) =  2.0136351064210496\n",
      "Slope =  -0.0035594663157922923 , Step Size =  -3.5594663157922925e-06 , b (intercept) =  2.0136386658873655\n",
      "Slope =  -0.002989951705103522 , Step Size =  -2.989951705103522e-06 , b (intercept) =  2.0136416558390704\n",
      "Slope =  -0.0025115594324063295 , Step Size =  -2.5115594324063294e-06 , b (intercept) =  2.013644167398503\n",
      "Slope =  -0.0021097099232036953 , Step Size =  -2.1097099232036953e-06 , b (intercept) =  2.013646277108426\n",
      "Slope =  -0.0017721563355763692 , Step Size =  -1.7721563355763693e-06 , b (intercept) =  2.0136480492647615\n",
      "Slope =  -0.0014886113217329466 , Step Size =  -1.4886113217329466e-06 , b (intercept) =  2.0136495378760833\n",
      "Slope =  -0.0012504335102363484 , Step Size =  -1.2504335102363484e-06 , b (intercept) =  2.0136507883095933\n",
      "Slope =  -0.0010503641486678816 , Step Size =  -1.0503641486678816e-06 , b (intercept) =  2.013651838673742\n",
      "Slope =  -0.0008823058849714016 , Step Size =  -8.823058849714016e-07 , b (intercept) =  2.0136527209796267\n",
      "Slope =  -0.0007411369433043546 , Step Size =  -7.411369433043547e-07 , b (intercept) =  2.01365346211657\n",
      "Slope =  -0.0006225550325353879 , Step Size =  -6.225550325353879e-07 , b (intercept) =  2.0136540846716025\n"
     ]
    },
    {
     "data": {
      "image/png": "[encoded data removed]",
      "text/plain": [
       "<Figure size 432x288 with 1 Axes>"
      ]
     },
     "metadata": {
      "needs_background": "light"
     },
     "output_type": "display_data"
    }
   ],
   "source": [
    "GD_b= gd.fit(X_train, Y_train) "
   ]
  },
  {
   "cell_type": "markdown",
   "id": "cbc36143",
   "metadata": {},
   "source": [
    " ## Case 2 :\n",
    " - when we cannot directly reach to optimal b "
   ]
  },
  {
   "cell_type": "code",
   "execution_count": 14,
   "id": "1c5e3aaa",
   "metadata": {},
   "outputs": [],
   "source": [
    "gd= PGDRegressor(m, 0.01, 100)"
   ]
  },
  {
   "cell_type": "code",
   "execution_count": 20,
   "id": "f25d5f19",
   "metadata": {},
   "outputs": [
    {
     "name": "stdout",
     "output_type": "stream",
     "text": [
      "Slope = 0 , Step Size = 0 , b (intercept) =  2.0136573530855224\n",
      "Slope =  1.4210854715202004e-14 , Step Size =  1.4210854715202004e-16 , b (intercept) =  2.0136573530855224\n",
      "Slope =  1.4210854715202004e-14 , Step Size =  1.4210854715202004e-16 , b (intercept) =  2.0136573530855224\n",
      "Slope =  1.4210854715202004e-14 , Step Size =  1.4210854715202004e-16 , b (intercept) =  2.0136573530855224\n",
      "Slope =  1.4210854715202004e-14 , Step Size =  1.4210854715202004e-16 , b (intercept) =  2.0136573530855224\n",
      "Slope =  1.4210854715202004e-14 , Step Size =  1.4210854715202004e-16 , b (intercept) =  2.0136573530855224\n",
      "Slope =  1.4210854715202004e-14 , Step Size =  1.4210854715202004e-16 , b (intercept) =  2.0136573530855224\n",
      "Slope =  1.4210854715202004e-14 , Step Size =  1.4210854715202004e-16 , b (intercept) =  2.0136573530855224\n",
      "Slope =  1.4210854715202004e-14 , Step Size =  1.4210854715202004e-16 , b (intercept) =  2.0136573530855224\n",
      "Slope =  1.4210854715202004e-14 , Step Size =  1.4210854715202004e-16 , b (intercept) =  2.0136573530855224\n",
      "Slope =  1.4210854715202004e-14 , Step Size =  1.4210854715202004e-16 , b (intercept) =  2.0136573530855224\n",
      "Slope =  1.4210854715202004e-14 , Step Size =  1.4210854715202004e-16 , b (intercept) =  2.0136573530855224\n",
      "Slope =  1.4210854715202004e-14 , Step Size =  1.4210854715202004e-16 , b (intercept) =  2.0136573530855224\n",
      "Slope =  1.4210854715202004e-14 , Step Size =  1.4210854715202004e-16 , b (intercept) =  2.0136573530855224\n",
      "Slope =  1.4210854715202004e-14 , Step Size =  1.4210854715202004e-16 , b (intercept) =  2.0136573530855224\n",
      "Slope =  1.4210854715202004e-14 , Step Size =  1.4210854715202004e-16 , b (intercept) =  2.0136573530855224\n",
      "Slope =  1.4210854715202004e-14 , Step Size =  1.4210854715202004e-16 , b (intercept) =  2.0136573530855224\n",
      "Slope =  1.4210854715202004e-14 , Step Size =  1.4210854715202004e-16 , b (intercept) =  2.0136573530855224\n",
      "Slope =  1.4210854715202004e-14 , Step Size =  1.4210854715202004e-16 , b (intercept) =  2.0136573530855224\n",
      "Slope =  1.4210854715202004e-14 , Step Size =  1.4210854715202004e-16 , b (intercept) =  2.0136573530855224\n",
      "Slope =  1.4210854715202004e-14 , Step Size =  1.4210854715202004e-16 , b (intercept) =  2.0136573530855224\n",
      "Slope =  1.4210854715202004e-14 , Step Size =  1.4210854715202004e-16 , b (intercept) =  2.0136573530855224\n",
      "Slope =  1.4210854715202004e-14 , Step Size =  1.4210854715202004e-16 , b (intercept) =  2.0136573530855224\n",
      "Slope =  1.4210854715202004e-14 , Step Size =  1.4210854715202004e-16 , b (intercept) =  2.0136573530855224\n",
      "Slope =  1.4210854715202004e-14 , Step Size =  1.4210854715202004e-16 , b (intercept) =  2.0136573530855224\n",
      "Slope =  1.4210854715202004e-14 , Step Size =  1.4210854715202004e-16 , b (intercept) =  2.0136573530855224\n",
      "Slope =  1.4210854715202004e-14 , Step Size =  1.4210854715202004e-16 , b (intercept) =  2.0136573530855224\n",
      "Slope =  1.4210854715202004e-14 , Step Size =  1.4210854715202004e-16 , b (intercept) =  2.0136573530855224\n",
      "Slope =  1.4210854715202004e-14 , Step Size =  1.4210854715202004e-16 , b (intercept) =  2.0136573530855224\n",
      "Slope =  1.4210854715202004e-14 , Step Size =  1.4210854715202004e-16 , b (intercept) =  2.0136573530855224\n",
      "Slope =  1.4210854715202004e-14 , Step Size =  1.4210854715202004e-16 , b (intercept) =  2.0136573530855224\n",
      "Slope =  1.4210854715202004e-14 , Step Size =  1.4210854715202004e-16 , b (intercept) =  2.0136573530855224\n",
      "Slope =  1.4210854715202004e-14 , Step Size =  1.4210854715202004e-16 , b (intercept) =  2.0136573530855224\n",
      "Slope =  1.4210854715202004e-14 , Step Size =  1.4210854715202004e-16 , b (intercept) =  2.0136573530855224\n",
      "Slope =  1.4210854715202004e-14 , Step Size =  1.4210854715202004e-16 , b (intercept) =  2.0136573530855224\n",
      "Slope =  1.4210854715202004e-14 , Step Size =  1.4210854715202004e-16 , b (intercept) =  2.0136573530855224\n",
      "Slope =  1.4210854715202004e-14 , Step Size =  1.4210854715202004e-16 , b (intercept) =  2.0136573530855224\n",
      "Slope =  1.4210854715202004e-14 , Step Size =  1.4210854715202004e-16 , b (intercept) =  2.0136573530855224\n",
      "Slope =  1.4210854715202004e-14 , Step Size =  1.4210854715202004e-16 , b (intercept) =  2.0136573530855224\n",
      "Slope =  1.4210854715202004e-14 , Step Size =  1.4210854715202004e-16 , b (intercept) =  2.0136573530855224\n",
      "Slope =  1.4210854715202004e-14 , Step Size =  1.4210854715202004e-16 , b (intercept) =  2.0136573530855224\n",
      "Slope =  1.4210854715202004e-14 , Step Size =  1.4210854715202004e-16 , b (intercept) =  2.0136573530855224\n",
      "Slope =  1.4210854715202004e-14 , Step Size =  1.4210854715202004e-16 , b (intercept) =  2.0136573530855224\n",
      "Slope =  1.4210854715202004e-14 , Step Size =  1.4210854715202004e-16 , b (intercept) =  2.0136573530855224\n",
      "Slope =  1.4210854715202004e-14 , Step Size =  1.4210854715202004e-16 , b (intercept) =  2.0136573530855224\n",
      "Slope =  1.4210854715202004e-14 , Step Size =  1.4210854715202004e-16 , b (intercept) =  2.0136573530855224\n",
      "Slope =  1.4210854715202004e-14 , Step Size =  1.4210854715202004e-16 , b (intercept) =  2.0136573530855224\n",
      "Slope =  1.4210854715202004e-14 , Step Size =  1.4210854715202004e-16 , b (intercept) =  2.0136573530855224\n",
      "Slope =  1.4210854715202004e-14 , Step Size =  1.4210854715202004e-16 , b (intercept) =  2.0136573530855224\n",
      "Slope =  1.4210854715202004e-14 , Step Size =  1.4210854715202004e-16 , b (intercept) =  2.0136573530855224\n",
      "Slope =  1.4210854715202004e-14 , Step Size =  1.4210854715202004e-16 , b (intercept) =  2.0136573530855224\n",
      "Slope =  1.4210854715202004e-14 , Step Size =  1.4210854715202004e-16 , b (intercept) =  2.0136573530855224\n",
      "Slope =  1.4210854715202004e-14 , Step Size =  1.4210854715202004e-16 , b (intercept) =  2.0136573530855224\n",
      "Slope =  1.4210854715202004e-14 , Step Size =  1.4210854715202004e-16 , b (intercept) =  2.0136573530855224\n",
      "Slope =  1.4210854715202004e-14 , Step Size =  1.4210854715202004e-16 , b (intercept) =  2.0136573530855224\n",
      "Slope =  1.4210854715202004e-14 , Step Size =  1.4210854715202004e-16 , b (intercept) =  2.0136573530855224\n",
      "Slope =  1.4210854715202004e-14 , Step Size =  1.4210854715202004e-16 , b (intercept) =  2.0136573530855224\n",
      "Slope =  1.4210854715202004e-14 , Step Size =  1.4210854715202004e-16 , b (intercept) =  2.0136573530855224\n",
      "Slope =  1.4210854715202004e-14 , Step Size =  1.4210854715202004e-16 , b (intercept) =  2.0136573530855224\n",
      "Slope =  1.4210854715202004e-14 , Step Size =  1.4210854715202004e-16 , b (intercept) =  2.0136573530855224\n",
      "Slope =  1.4210854715202004e-14 , Step Size =  1.4210854715202004e-16 , b (intercept) =  2.0136573530855224\n",
      "Slope =  1.4210854715202004e-14 , Step Size =  1.4210854715202004e-16 , b (intercept) =  2.0136573530855224\n",
      "Slope =  1.4210854715202004e-14 , Step Size =  1.4210854715202004e-16 , b (intercept) =  2.0136573530855224\n",
      "Slope =  1.4210854715202004e-14 , Step Size =  1.4210854715202004e-16 , b (intercept) =  2.0136573530855224\n",
      "Slope =  1.4210854715202004e-14 , Step Size =  1.4210854715202004e-16 , b (intercept) =  2.0136573530855224\n",
      "Slope =  1.4210854715202004e-14 , Step Size =  1.4210854715202004e-16 , b (intercept) =  2.0136573530855224\n",
      "Slope =  1.4210854715202004e-14 , Step Size =  1.4210854715202004e-16 , b (intercept) =  2.0136573530855224\n",
      "Slope =  1.4210854715202004e-14 , Step Size =  1.4210854715202004e-16 , b (intercept) =  2.0136573530855224\n",
      "Slope =  1.4210854715202004e-14 , Step Size =  1.4210854715202004e-16 , b (intercept) =  2.0136573530855224\n",
      "Slope =  1.4210854715202004e-14 , Step Size =  1.4210854715202004e-16 , b (intercept) =  2.0136573530855224\n",
      "Slope =  1.4210854715202004e-14 , Step Size =  1.4210854715202004e-16 , b (intercept) =  2.0136573530855224\n",
      "Slope =  1.4210854715202004e-14 , Step Size =  1.4210854715202004e-16 , b (intercept) =  2.0136573530855224\n",
      "Slope =  1.4210854715202004e-14 , Step Size =  1.4210854715202004e-16 , b (intercept) =  2.0136573530855224\n",
      "Slope =  1.4210854715202004e-14 , Step Size =  1.4210854715202004e-16 , b (intercept) =  2.0136573530855224\n",
      "Slope =  1.4210854715202004e-14 , Step Size =  1.4210854715202004e-16 , b (intercept) =  2.0136573530855224\n",
      "Slope =  1.4210854715202004e-14 , Step Size =  1.4210854715202004e-16 , b (intercept) =  2.0136573530855224\n",
      "Slope =  1.4210854715202004e-14 , Step Size =  1.4210854715202004e-16 , b (intercept) =  2.0136573530855224\n",
      "Slope =  1.4210854715202004e-14 , Step Size =  1.4210854715202004e-16 , b (intercept) =  2.0136573530855224\n",
      "Slope =  1.4210854715202004e-14 , Step Size =  1.4210854715202004e-16 , b (intercept) =  2.0136573530855224\n",
      "Slope =  1.4210854715202004e-14 , Step Size =  1.4210854715202004e-16 , b (intercept) =  2.0136573530855224\n",
      "Slope =  1.4210854715202004e-14 , Step Size =  1.4210854715202004e-16 , b (intercept) =  2.0136573530855224\n",
      "Slope =  1.4210854715202004e-14 , Step Size =  1.4210854715202004e-16 , b (intercept) =  2.0136573530855224\n",
      "Slope =  1.4210854715202004e-14 , Step Size =  1.4210854715202004e-16 , b (intercept) =  2.0136573530855224\n",
      "Slope =  1.4210854715202004e-14 , Step Size =  1.4210854715202004e-16 , b (intercept) =  2.0136573530855224\n",
      "Slope =  1.4210854715202004e-14 , Step Size =  1.4210854715202004e-16 , b (intercept) =  2.0136573530855224\n",
      "Slope =  1.4210854715202004e-14 , Step Size =  1.4210854715202004e-16 , b (intercept) =  2.0136573530855224\n",
      "Slope =  1.4210854715202004e-14 , Step Size =  1.4210854715202004e-16 , b (intercept) =  2.0136573530855224\n",
      "Slope =  1.4210854715202004e-14 , Step Size =  1.4210854715202004e-16 , b (intercept) =  2.0136573530855224\n",
      "Slope =  1.4210854715202004e-14 , Step Size =  1.4210854715202004e-16 , b (intercept) =  2.0136573530855224\n",
      "Slope =  1.4210854715202004e-14 , Step Size =  1.4210854715202004e-16 , b (intercept) =  2.0136573530855224\n",
      "Slope =  1.4210854715202004e-14 , Step Size =  1.4210854715202004e-16 , b (intercept) =  2.0136573530855224\n",
      "Slope =  1.4210854715202004e-14 , Step Size =  1.4210854715202004e-16 , b (intercept) =  2.0136573530855224\n",
      "Slope =  1.4210854715202004e-14 , Step Size =  1.4210854715202004e-16 , b (intercept) =  2.0136573530855224\n",
      "Slope =  1.4210854715202004e-14 , Step Size =  1.4210854715202004e-16 , b (intercept) =  2.0136573530855224\n",
      "Slope =  1.4210854715202004e-14 , Step Size =  1.4210854715202004e-16 , b (intercept) =  2.0136573530855224\n",
      "Slope =  1.4210854715202004e-14 , Step Size =  1.4210854715202004e-16 , b (intercept) =  2.0136573530855224\n",
      "Slope =  1.4210854715202004e-14 , Step Size =  1.4210854715202004e-16 , b (intercept) =  2.0136573530855224\n",
      "Slope =  1.4210854715202004e-14 , Step Size =  1.4210854715202004e-16 , b (intercept) =  2.0136573530855224\n",
      "Slope =  1.4210854715202004e-14 , Step Size =  1.4210854715202004e-16 , b (intercept) =  2.0136573530855224\n",
      "Slope =  1.4210854715202004e-14 , Step Size =  1.4210854715202004e-16 , b (intercept) =  2.0136573530855224\n",
      "Slope =  1.4210854715202004e-14 , Step Size =  1.4210854715202004e-16 , b (intercept) =  2.0136573530855224\n"
     ]
    },
    {
     "data": {
      "image/png": "[encoded data removed]",
      "text/plain": [
       "<Figure size 432x288 with 1 Axes>"
      ]
     },
     "metadata": {
      "needs_background": "light"
     },
     "output_type": "display_data"
    }
   ],
   "source": [
    "GD_b= gd.fit(X_train, Y_train) "
   ]
  },
  {
   "cell_type": "markdown",
   "id": "c3a37128",
   "metadata": {},
   "source": [
    "## Two Method Comparison "
   ]
  },
  {
   "cell_type": "code",
   "execution_count": 21,
   "id": "9c70b24b",
   "metadata": {},
   "outputs": [
    {
     "name": "stdout",
     "output_type": "stream",
     "text": [
      "2.013657353085523\n"
     ]
    }
   ],
   "source": [
    "OLS_b= b #by OLS\n",
    "print(OLS_b)"
   ]
  },
  {
   "cell_type": "code",
   "execution_count": 22,
   "id": "cd84afc8",
   "metadata": {},
   "outputs": [
    {
     "name": "stdout",
     "output_type": "stream",
     "text": [
      "2.0136573530855224\n"
     ]
    }
   ],
   "source": [
    "print(GD_b)"
   ]
  },
  {
   "cell_type": "code",
   "execution_count": 23,
   "id": "81011b70",
   "metadata": {},
   "outputs": [
    {
     "data": {
      "text/plain": [
       "4.440892098500626e-16"
      ]
     },
     "execution_count": 23,
     "metadata": {},
     "output_type": "execute_result"
    }
   ],
   "source": [
    "OLS_b-GD_b #very minute difference "
   ]
  },
  {
   "cell_type": "code",
   "execution_count": 24,
   "id": "ce25abdd",
   "metadata": {},
   "outputs": [
    {
     "data": {
      "text/plain": [
       "[<matplotlib.lines.Line2D at 0x7f67f1e71370>]"
      ]
     },
     "execution_count": 24,
     "metadata": {},
     "output_type": "execute_result"
    },
    {
     "data": {
      "image/png": "[encoded data removed]",
      "text/plain": [
       "<Figure size 432x288 with 1 Axes>"
      ]
     },
     "metadata": {
      "needs_background": "light"
     },
     "output_type": "display_data"
    }
   ],
   "source": [
    "plt.plot(X_train, lr.predict(X_train), color=\"yellow\") # best fit by OLS"
   ]
  },
  {
   "cell_type": "code",
   "execution_count": 25,
   "id": "a301445d",
   "metadata": {},
   "outputs": [
    {
     "data": {
      "text/plain": [
       "[<matplotlib.lines.Line2D at 0x7f67f1e49640>]"
      ]
     },
     "execution_count": 25,
     "metadata": {},
     "output_type": "execute_result"
    },
    {
     "data": {
      "image/png": "[encoded data removed]",
      "text/plain": [
       "<Figure size 432x288 with 1 Axes>"
      ]
     },
     "metadata": {
      "needs_background": "light"
     },
     "output_type": "display_data"
    }
   ],
   "source": [
    "plt.plot(X_train, m* X_train + GD_b, color=\"red\") # best fit by OLS"
   ]
  },
  {
   "cell_type": "code",
   "execution_count": 26,
   "id": "d9c6f39f",
   "metadata": {},
   "outputs": [
    {
     "data": {
      "text/plain": [
       "<matplotlib.collections.PathCollection at 0x7f67f1db15b0>"
      ]
     },
     "execution_count": 26,
     "metadata": {},
     "output_type": "execute_result"
    },
    {
     "data": {
      "image/png": "[encoded data removed]",
      "text/plain": [
       "<Figure size 432x288 with 1 Axes>"
      ]
     },
     "metadata": {
      "needs_background": "light"
     },
     "output_type": "display_data"
    }
   ],
   "source": [
    "plt.scatter(X_test, lr.predict(X_test), color=\"yellow\") # best fit by OLS\n",
    "plt.plot(X_test, m* X_test + GD_b, color=\"red\") # best fit by OLS\n",
    "plt.scatter(X_test, Y_test, color=\"purple\")"
   ]
  },
  {
   "cell_type": "code",
   "execution_count": 27,
   "id": "4f51a7b9",
   "metadata": {},
   "outputs": [],
   "source": [
    "from sklearn.metrics import r2_score"
   ]
  },
  {
   "cell_type": "code",
   "execution_count": 28,
   "id": "656b13ee",
   "metadata": {},
   "outputs": [
    {
     "data": {
      "text/plain": [
       "0.8455526124089805"
      ]
     },
     "execution_count": 28,
     "metadata": {},
     "output_type": "execute_result"
    }
   ],
   "source": [
    "r2_score(Y_test, lr.predict(X_test)) # OLS"
   ]
  },
  {
   "cell_type": "code",
   "execution_count": 29,
   "id": "6683e858",
   "metadata": {},
   "outputs": [
    {
     "data": {
      "text/plain": [
       "0.8455526124089805"
      ]
     },
     "execution_count": 29,
     "metadata": {},
     "output_type": "execute_result"
    }
   ],
   "source": [
    "r2_score(Y_test,  m* X_test + GD_b) # Gradient Decent "
   ]
  },
  {
   "cell_type": "markdown",
   "id": "e1ff3350",
   "metadata": {},
   "source": [
    " # Batch GD - 1\n",
    " \n",
    " ## Full Gradient Decent Concept ( no dependency on OLS for m ) // 2D data "
   ]
  },
  {
   "cell_type": "code",
   "execution_count": 25,
   "id": "d18f5779",
   "metadata": {},
   "outputs": [],
   "source": [
    "class GDRegressor:\n",
    "    \n",
    "    def __init__(self, learning_rate, epochs): \n",
    "        self.b= 0 # we can start from any value of b \n",
    "        self.m= 1 # we can start from any value of m\n",
    "        \n",
    "        self.lr= learning_rate\n",
    "        self.epochs= epochs\n",
    "        \n",
    "    def fit(self, X, Y): \n",
    "        for i in range(self.epochs):\n",
    "            self.slope_wrt_b= -2 * np.sum(Y - self.m * X.ravel() - self.b)\n",
    "            self.slope_wrt_m= -2 * np.sum((Y - self.m * X.ravel() - self.b)* X.ravel())\n",
    "            \n",
    "            self.b= self.b - (self.lr * self.slope_wrt_b)\n",
    "            self.m= self.m - (self.lr * self.slope_wrt_m)\n",
    "            \n",
    "            print(\"b =\", self.b,\", m =\", self.m)\n",
    "            \n",
    "        print(\"b =\", self.b,\", m =\", self.m)\n",
    "            \n",
    "        return self.b, self.m"
   ]
  },
  {
   "cell_type": "code",
   "execution_count": 26,
   "id": "cf3dd73f",
   "metadata": {},
   "outputs": [],
   "source": [
    "gd= GDRegressor(0.01, 50)\n"
   ]
  },
  {
   "cell_type": "code",
   "execution_count": 27,
   "id": "a7ff55cc",
   "metadata": {},
   "outputs": [
    {
     "name": "stdout",
     "output_type": "stream",
     "text": [
      "b = 10.409469440630174 , m = 53.79534911403649\n",
      "b = -11.864540314136411 , m = 30.89060532101457\n",
      "b = 8.453598291732996 , m = 46.218806942016315\n",
      "b = -8.390828199750489 , m = 34.31788354292136\n",
      "b = 5.328871420018787 , m = 43.88247087662902\n",
      "b = -5.80669548878674 , m = 36.14027750267162\n",
      "b = 3.225124719976799 , m = 42.416402780411886\n",
      "b = -4.099358633412375 , m = 37.32724413658915\n",
      "b = 1.8403671784798803 , m = 41.45416247035345\n",
      "b = -2.9763741453596992 , m = 38.10750790483947\n",
      "b = 0.9296934290073251 , m = 40.821427217359584\n",
      "b = -2.2378755464668285 , m = 38.62061401542059\n",
      "b = 0.3308185579168934 , m = 40.405331487406386\n",
      "b = -1.7522266390559942 , m = 38.958040770748106\n",
      "b = -0.06301137706690274 , m = 40.13170016475854\n",
      "b = -1.4328559701699273 , m = 39.17993811835794\n",
      "b = -0.32200038454021507 , m = 39.95175573233825\n",
      "b = -1.222832594499625 , m = 39.32586144340134\n",
      "b = -0.4923157919596646 , m = 39.83342133038821\n",
      "b = -1.0847177874621634 , m = 39.421823008703534\n",
      "b = -0.6043179895997418 , m = 39.75560269216002\n",
      "b = -0.9938912313145845 , m = 39.48492890361706\n",
      "b = -0.6779724667032938 , m = 39.704427882840434\n",
      "b = -0.934162202410496 , m = 39.52642837228769\n",
      "b = -0.7264088555572903 , m = 39.670774491204135\n",
      "b = -0.8948834160605157 , m = 39.55371910166099\n",
      "b = -0.7582614171051367 , m = 39.64864347042098\n",
      "b = -0.8690530437033029 , m = 39.571665931670736\n",
      "b = -0.7792081825673117 , m = 39.63408974917357\n",
      "b = -0.8520665683532924 , m = 39.5834680606279\n",
      "b = -0.7929831181456735 , m = 39.62451898403703\n",
      "b = -0.840895984328166 , m = 39.59122933366865\n",
      "b = -0.8020417410882317 , m = 39.61822509234147\n",
      "b = -0.8335500255644309 , m = 39.59633327376553\n",
      "b = -0.807998839700316 , m = 39.61408612621803\n",
      "b = -0.828719202929094 , m = 39.59968970825454\n",
      "b = -0.8119163251833901 , m = 39.61136427439731\n",
      "b = -0.8255423749499788 , m = 39.60189695447317\n",
      "b = -0.8144925277124109 , m = 39.60957434012072\n",
      "b = -0.8234532409099329 , m = 39.603348475688804\n",
      "b = -0.8161866806324953 , m = 39.608397250063845\n",
      "b = -0.8220793921948127 , m = 39.604303019781646\n",
      "b = -0.8173007833027249 , m = 39.60762317638966\n",
      "b = -0.8211759268087402 , m = 39.604930743589854\n",
      "b = -0.8180334354412043 , m = 39.60711413288058\n",
      "b = -0.8205817931935585 , m = 39.605343545033335\n",
      "b = -0.8185152394709073 , m = 39.60677937754297\n",
      "b = -0.8201910812104181 , m = 39.60561501001445\n",
      "b = -0.8188320816813457 , m = 39.606559236957615\n",
      "b = -0.819934142619724 , m = 39.60579352982618\n",
      "b = -0.819934142619724 , m = 39.60579352982618\n"
     ]
    }
   ],
   "source": [
    "GD_b, GD_m= gd.fit(X_train, Y_train)"
   ]
  },
  {
   "cell_type": "code",
   "execution_count": 28,
   "id": "6f8d9940",
   "metadata": {},
   "outputs": [
    {
     "data": {
      "text/plain": [
       "(-0.8194406405997778, array([39.60613641]))"
      ]
     },
     "execution_count": 28,
     "metadata": {},
     "output_type": "execute_result"
    }
   ],
   "source": [
    "b, m"
   ]
  },
  {
   "cell_type": "code",
   "execution_count": 29,
   "id": "6d2bd6be",
   "metadata": {},
   "outputs": [
    {
     "data": {
      "text/plain": [
       "<matplotlib.collections.PathCollection at 0x7fed2935bd90>"
      ]
     },
     "execution_count": 29,
     "metadata": {},
     "output_type": "execute_result"
    },
    {
     "data": {
      "image/png": "[encoded data removed]",
      "text/plain": [
       "<Figure size 432x288 with 1 Axes>"
      ]
     },
     "metadata": {
      "needs_background": "light"
     },
     "output_type": "display_data"
    }
   ],
   "source": [
    "plt.scatter(X_test, lr.predict(X_test), color=\"yellow\") # best fit by OLS\n",
    "plt.plot(X_test, GD_m* X_test + GD_b, color=\"red\") # best fit by GD \n",
    "plt.scatter(X_test, Y_test, color=\"purple\")"
   ]
  }
 ],
 "metadata": {
  "kernelspec": {
   "display_name": "Python 3 (ipykernel)",
   "language": "python",
   "name": "python3"
  },
  "language_info": {
   "codemirror_mode": {
    "name": "ipython",
    "version": 3
   },
   "file_extension": ".py",
   "mimetype": "text/x-python",
   "name": "python",
   "nbconvert_exporter": "python",
   "pygments_lexer": "ipython3",
   "version": "3.9.12"
  }
 },
 "nbformat": 4,
 "nbformat_minor": 5
}
