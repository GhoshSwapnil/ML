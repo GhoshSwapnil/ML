{
 "cells": [
  {
   "cell_type": "code",
   "execution_count": 1,
   "id": "a6bede29",
   "metadata": {},
   "outputs": [],
   "source": [
    "import numpy as np\n",
    "import pandas as pd"
   ]
  },
  {
   "cell_type": "code",
   "execution_count": 2,
   "id": "2832832a",
   "metadata": {},
   "outputs": [],
   "source": [
    "df= pd.read_csv('dataset/diabetes.csv') # Binary Classification has diabetes or not "
   ]
  },
  {
   "cell_type": "code",
   "execution_count": 3,
   "id": "61e40ccd",
   "metadata": {},
   "outputs": [
    {
     "data": {
      "text/html": [
       "<div>\n",
       "<style scoped>\n",
       "    .dataframe tbody tr th:only-of-type {\n",
       "        vertical-align: middle;\n",
       "    }\n",
       "\n",
       "    .dataframe tbody tr th {\n",
       "        vertical-align: top;\n",
       "    }\n",
       "\n",
       "    .dataframe thead th {\n",
       "        text-align: right;\n",
       "    }\n",
       "</style>\n",
       "<table border=\"1\" class=\"dataframe\">\n",
       "  <thead>\n",
       "    <tr style=\"text-align: right;\">\n",
       "      <th></th>\n",
       "      <th>Pregnancies</th>\n",
       "      <th>Glucose</th>\n",
       "      <th>BloodPressure</th>\n",
       "      <th>SkinThickness</th>\n",
       "      <th>Insulin</th>\n",
       "      <th>BMI</th>\n",
       "      <th>DiabetesPedigreeFunction</th>\n",
       "      <th>Age</th>\n",
       "      <th>Outcome</th>\n",
       "    </tr>\n",
       "  </thead>\n",
       "  <tbody>\n",
       "    <tr>\n",
       "      <th>0</th>\n",
       "      <td>6</td>\n",
       "      <td>148</td>\n",
       "      <td>72</td>\n",
       "      <td>35</td>\n",
       "      <td>0</td>\n",
       "      <td>33.6</td>\n",
       "      <td>0.627</td>\n",
       "      <td>50</td>\n",
       "      <td>1</td>\n",
       "    </tr>\n",
       "    <tr>\n",
       "      <th>1</th>\n",
       "      <td>1</td>\n",
       "      <td>85</td>\n",
       "      <td>66</td>\n",
       "      <td>29</td>\n",
       "      <td>0</td>\n",
       "      <td>26.6</td>\n",
       "      <td>0.351</td>\n",
       "      <td>31</td>\n",
       "      <td>0</td>\n",
       "    </tr>\n",
       "    <tr>\n",
       "      <th>2</th>\n",
       "      <td>8</td>\n",
       "      <td>183</td>\n",
       "      <td>64</td>\n",
       "      <td>0</td>\n",
       "      <td>0</td>\n",
       "      <td>23.3</td>\n",
       "      <td>0.672</td>\n",
       "      <td>32</td>\n",
       "      <td>1</td>\n",
       "    </tr>\n",
       "    <tr>\n",
       "      <th>3</th>\n",
       "      <td>1</td>\n",
       "      <td>89</td>\n",
       "      <td>66</td>\n",
       "      <td>23</td>\n",
       "      <td>94</td>\n",
       "      <td>28.1</td>\n",
       "      <td>0.167</td>\n",
       "      <td>21</td>\n",
       "      <td>0</td>\n",
       "    </tr>\n",
       "    <tr>\n",
       "      <th>4</th>\n",
       "      <td>0</td>\n",
       "      <td>137</td>\n",
       "      <td>40</td>\n",
       "      <td>35</td>\n",
       "      <td>168</td>\n",
       "      <td>43.1</td>\n",
       "      <td>2.288</td>\n",
       "      <td>33</td>\n",
       "      <td>1</td>\n",
       "    </tr>\n",
       "  </tbody>\n",
       "</table>\n",
       "</div>"
      ],
      "text/plain": [
       "   Pregnancies  Glucose  BloodPressure  SkinThickness  Insulin   BMI  \\\n",
       "0            6      148             72             35        0  33.6   \n",
       "1            1       85             66             29        0  26.6   \n",
       "2            8      183             64              0        0  23.3   \n",
       "3            1       89             66             23       94  28.1   \n",
       "4            0      137             40             35      168  43.1   \n",
       "\n",
       "   DiabetesPedigreeFunction  Age  Outcome  \n",
       "0                     0.627   50        1  \n",
       "1                     0.351   31        0  \n",
       "2                     0.672   32        1  \n",
       "3                     0.167   21        0  \n",
       "4                     2.288   33        1  "
      ]
     },
     "execution_count": 3,
     "metadata": {},
     "output_type": "execute_result"
    }
   ],
   "source": [
    "df.head()"
   ]
  },
  {
   "cell_type": "code",
   "execution_count": 4,
   "id": "b7cd9000",
   "metadata": {},
   "outputs": [
    {
     "data": {
      "text/plain": [
       "(768, 9)"
      ]
     },
     "execution_count": 4,
     "metadata": {},
     "output_type": "execute_result"
    }
   ],
   "source": [
    "df.shape"
   ]
  },
  {
   "cell_type": "code",
   "execution_count": 5,
   "id": "45919618",
   "metadata": {},
   "outputs": [
    {
     "data": {
      "text/plain": [
       "Pregnancies                 0.221898\n",
       "Glucose                     0.466581\n",
       "BloodPressure               0.065068\n",
       "SkinThickness               0.074752\n",
       "Insulin                     0.130548\n",
       "BMI                         0.292695\n",
       "DiabetesPedigreeFunction    0.173844\n",
       "Age                         0.238356\n",
       "Outcome                     1.000000\n",
       "Name: Outcome, dtype: float64"
      ]
     },
     "execution_count": 5,
     "metadata": {},
     "output_type": "execute_result"
    }
   ],
   "source": [
    "df.corr()['Outcome'] # how other colums are corelated to 'Outcome' column"
   ]
  },
  {
   "cell_type": "code",
   "execution_count": 6,
   "id": "8221e707",
   "metadata": {},
   "outputs": [],
   "source": [
    "X= df.iloc[:,:-1].values\n",
    "y= df.iloc[:, -1].values"
   ]
  },
  {
   "cell_type": "code",
   "execution_count": 7,
   "id": "2aa3829f",
   "metadata": {},
   "outputs": [],
   "source": [
    "from sklearn.preprocessing import StandardScaler # standardization # mean centric zero centered \n",
    "scaler= StandardScaler()"
   ]
  },
  {
   "cell_type": "code",
   "execution_count": 8,
   "id": "bf71b3b4",
   "metadata": {},
   "outputs": [],
   "source": [
    "X= scaler.fit_transform(X)"
   ]
  },
  {
   "cell_type": "code",
   "execution_count": 9,
   "id": "440f3422",
   "metadata": {},
   "outputs": [
    {
     "data": {
      "text/plain": [
       "array([[ 0.63994726,  0.84832379,  0.14964075, ...,  0.20401277,\n",
       "         0.46849198,  1.4259954 ],\n",
       "       [-0.84488505, -1.12339636, -0.16054575, ..., -0.68442195,\n",
       "        -0.36506078, -0.19067191],\n",
       "       [ 1.23388019,  1.94372388, -0.26394125, ..., -1.10325546,\n",
       "         0.60439732, -0.10558415],\n",
       "       ...,\n",
       "       [ 0.3429808 ,  0.00330087,  0.14964075, ..., -0.73518964,\n",
       "        -0.68519336, -0.27575966],\n",
       "       [-0.84488505,  0.1597866 , -0.47073225, ..., -0.24020459,\n",
       "        -0.37110101,  1.17073215],\n",
       "       [-0.84488505, -0.8730192 ,  0.04624525, ..., -0.20212881,\n",
       "        -0.47378505, -0.87137393]])"
      ]
     },
     "execution_count": 9,
     "metadata": {},
     "output_type": "execute_result"
    }
   ],
   "source": [
    "X"
   ]
  },
  {
   "cell_type": "code",
   "execution_count": 10,
   "id": "38bd38c0",
   "metadata": {},
   "outputs": [],
   "source": [
    "from sklearn.model_selection import train_test_split\n",
    "X_train, X_test, y_train, y_test= train_test_split(X, y, test_size= 0.2, random_state= 1)"
   ]
  },
  {
   "cell_type": "code",
   "execution_count": 11,
   "id": "405a36f8",
   "metadata": {},
   "outputs": [
    {
     "name": "stderr",
     "output_type": "stream",
     "text": [
      "2022-11-03 16:13:33.273499: I tensorflow/core/platform/cpu_feature_guard.cc:193] This TensorFlow binary is optimized with oneAPI Deep Neural Network Library (oneDNN) to use the following CPU instructions in performance-critical operations:  AVX2 FMA\n",
      "To enable them in other operations, rebuild TensorFlow with the appropriate compiler flags.\n",
      "2022-11-03 16:13:33.604720: W tensorflow/stream_executor/platform/default/dso_loader.cc:64] Could not load dynamic library 'libcudart.so.11.0'; dlerror: libcudart.so.11.0: cannot open shared object file: No such file or directory\n",
      "2022-11-03 16:13:33.604738: I tensorflow/stream_executor/cuda/cudart_stub.cc:29] Ignore above cudart dlerror if you do not have a GPU set up on your machine.\n",
      "2022-11-03 16:13:33.634651: E tensorflow/stream_executor/cuda/cuda_blas.cc:2981] Unable to register cuBLAS factory: Attempting to register factory for plugin cuBLAS when one has already been registered\n",
      "2022-11-03 16:13:34.251362: W tensorflow/stream_executor/platform/default/dso_loader.cc:64] Could not load dynamic library 'libnvinfer.so.7'; dlerror: libnvinfer.so.7: cannot open shared object file: No such file or directory\n",
      "2022-11-03 16:13:34.251451: W tensorflow/stream_executor/platform/default/dso_loader.cc:64] Could not load dynamic library 'libnvinfer_plugin.so.7'; dlerror: libnvinfer_plugin.so.7: cannot open shared object file: No such file or directory\n",
      "2022-11-03 16:13:34.251461: W tensorflow/compiler/tf2tensorrt/utils/py_utils.cc:38] TF-TRT Warning: Cannot dlopen some TensorRT libraries. If you would like to use Nvidia GPU with TensorRT, please make sure the missing libraries mentioned above are installed properly.\n"
     ]
    }
   ],
   "source": [
    "import tensorflow\n",
    "from tensorflow import keras\n",
    "from keras import Sequential\n",
    "from keras.layers import Dense"
   ]
  },
  {
   "cell_type": "code",
   "execution_count": 12,
   "id": "e2354841",
   "metadata": {},
   "outputs": [
    {
     "name": "stderr",
     "output_type": "stream",
     "text": [
      "2022-11-03 16:13:35.550830: E tensorflow/stream_executor/cuda/cuda_driver.cc:265] failed call to cuInit: CUDA_ERROR_NO_DEVICE: no CUDA-capable device is detected\n",
      "2022-11-03 16:13:35.550926: I tensorflow/stream_executor/cuda/cuda_diagnostics.cc:156] kernel driver does not appear to be running on this host (swapnil): /proc/driver/nvidia/version does not exist\n",
      "2022-11-03 16:13:35.552172: I tensorflow/core/platform/cpu_feature_guard.cc:193] This TensorFlow binary is optimized with oneAPI Deep Neural Network Library (oneDNN) to use the following CPU instructions in performance-critical operations:  AVX2 FMA\n",
      "To enable them in other operations, rebuild TensorFlow with the appropriate compiler flags.\n"
     ]
    }
   ],
   "source": [
    "model= Sequential()\n",
    "model.add( Dense(32, activation='relu', input_dim= 8))\n",
    "model.add( Dense(1, activation='sigmoid') )\n",
    "          \n",
    "model.compile(loss='binary_crossentropy',optimizer='Adam', metrics=['accuracy'])"
   ]
  },
  {
   "cell_type": "code",
   "execution_count": 13,
   "id": "be1fafe7",
   "metadata": {},
   "outputs": [
    {
     "name": "stdout",
     "output_type": "stream",
     "text": [
      "Epoch 1/10\n",
      "20/20 [==============================] - 1s 20ms/step - loss: 0.7800 - accuracy: 0.3795 - val_loss: 0.7404 - val_accuracy: 0.4740\n",
      "Epoch 2/10\n",
      "20/20 [==============================] - 0s 7ms/step - loss: 0.7151 - accuracy: 0.5081 - val_loss: 0.6815 - val_accuracy: 0.6558\n",
      "Epoch 3/10\n",
      "20/20 [==============================] - 0s 9ms/step - loss: 0.6651 - accuracy: 0.6547 - val_loss: 0.6362 - val_accuracy: 0.7143\n",
      "Epoch 4/10\n",
      "20/20 [==============================] - 0s 10ms/step - loss: 0.6262 - accuracy: 0.7101 - val_loss: 0.6001 - val_accuracy: 0.7403\n",
      "Epoch 5/10\n",
      "20/20 [==============================] - 0s 9ms/step - loss: 0.5938 - accuracy: 0.7378 - val_loss: 0.5702 - val_accuracy: 0.7597\n",
      "Epoch 6/10\n",
      "20/20 [==============================] - 0s 8ms/step - loss: 0.5682 - accuracy: 0.7573 - val_loss: 0.5458 - val_accuracy: 0.7597\n",
      "Epoch 7/10\n",
      "20/20 [==============================] - 0s 10ms/step - loss: 0.5475 - accuracy: 0.7606 - val_loss: 0.5281 - val_accuracy: 0.7662\n",
      "Epoch 8/10\n",
      "20/20 [==============================] - 0s 12ms/step - loss: 0.5306 - accuracy: 0.7606 - val_loss: 0.5145 - val_accuracy: 0.7597\n",
      "Epoch 9/10\n",
      "20/20 [==============================] - 0s 9ms/step - loss: 0.5186 - accuracy: 0.7655 - val_loss: 0.5042 - val_accuracy: 0.7792\n",
      "Epoch 10/10\n",
      "20/20 [==============================] - 0s 12ms/step - loss: 0.5083 - accuracy: 0.7687 - val_loss: 0.4945 - val_accuracy: 0.7662\n"
     ]
    },
    {
     "data": {
      "text/plain": [
       "<keras.callbacks.History at 0x7f52d4cf81f0>"
      ]
     },
     "execution_count": 13,
     "metadata": {},
     "output_type": "execute_result"
    }
   ],
   "source": [
    "model.fit(X_train, y_train, batch_size=32, epochs= 10, validation_data=(X_test, y_test))"
   ]
  },
  {
   "cell_type": "markdown",
   "id": "0718a5f1",
   "metadata": {},
   "source": [
    "# 1. How to select appropiate Optimizer\n",
    "# 2. No of Nodes in Layer \n",
    "# 3. How to select no. of Layers \n",
    "# 4. All in one Model"
   ]
  },
  {
   "cell_type": "code",
   "execution_count": 27,
   "id": "a21dcdcd",
   "metadata": {},
   "outputs": [
    {
     "name": "stdout",
     "output_type": "stream",
     "text": [
      "Collecting keras-tuner\n",
      "  Downloading keras_tuner-1.1.3-py3-none-any.whl (135 kB)\n",
      "\u001b[K     |████████████████████████████████| 135 kB 1.7 MB/s eta 0:00:01\n",
      "\u001b[?25hRequirement already satisfied: requests in /home/swapnil/Desktop/sample_project_1/env/lib/python3.9/site-packages (from keras-tuner) (2.28.1)\n",
      "Requirement already satisfied: ipython in /home/swapnil/Desktop/sample_project_1/env/lib/python3.9/site-packages (from keras-tuner) (8.3.0)\n",
      "Requirement already satisfied: numpy in /home/swapnil/Desktop/sample_project_1/env/lib/python3.9/site-packages (from keras-tuner) (1.22.3)\n",
      "Requirement already satisfied: packaging in /home/swapnil/Desktop/sample_project_1/env/lib/python3.9/site-packages (from keras-tuner) (21.3)\n",
      "Requirement already satisfied: tensorboard in /home/swapnil/Desktop/sample_project_1/env/lib/python3.9/site-packages (from keras-tuner) (2.10.1)\n",
      "Collecting kt-legacy\n",
      "  Downloading kt_legacy-1.0.4-py3-none-any.whl (9.6 kB)\n",
      "Requirement already satisfied: pygments>=2.4.0 in /home/swapnil/Desktop/sample_project_1/env/lib/python3.9/site-packages (from ipython->keras-tuner) (2.11.2)\n",
      "Requirement already satisfied: traitlets>=5 in /home/swapnil/Desktop/sample_project_1/env/lib/python3.9/site-packages (from ipython->keras-tuner) (5.1.1)\n",
      "Requirement already satisfied: jedi>=0.16 in /home/swapnil/Desktop/sample_project_1/env/lib/python3.9/site-packages (from ipython->keras-tuner) (0.18.1)\n",
      "Requirement already satisfied: pexpect>4.3 in /home/swapnil/Desktop/sample_project_1/env/lib/python3.9/site-packages (from ipython->keras-tuner) (4.8.0)\n",
      "Requirement already satisfied: pickleshare in /home/swapnil/Desktop/sample_project_1/env/lib/python3.9/site-packages (from ipython->keras-tuner) (0.7.5)\n",
      "Requirement already satisfied: matplotlib-inline in /home/swapnil/Desktop/sample_project_1/env/lib/python3.9/site-packages (from ipython->keras-tuner) (0.1.2)\n",
      "Requirement already satisfied: decorator in /home/swapnil/Desktop/sample_project_1/env/lib/python3.9/site-packages (from ipython->keras-tuner) (5.1.1)\n",
      "Requirement already satisfied: backcall in /home/swapnil/Desktop/sample_project_1/env/lib/python3.9/site-packages (from ipython->keras-tuner) (0.2.0)\n",
      "Requirement already satisfied: prompt-toolkit!=3.0.0,!=3.0.1,<3.1.0,>=2.0.0 in /home/swapnil/Desktop/sample_project_1/env/lib/python3.9/site-packages (from ipython->keras-tuner) (3.0.20)\n",
      "Requirement already satisfied: stack-data in /home/swapnil/Desktop/sample_project_1/env/lib/python3.9/site-packages (from ipython->keras-tuner) (0.2.0)\n",
      "Requirement already satisfied: setuptools>=18.5 in /home/swapnil/Desktop/sample_project_1/env/lib/python3.9/site-packages (from ipython->keras-tuner) (61.2.0)\n",
      "Requirement already satisfied: parso<0.9.0,>=0.8.0 in /home/swapnil/Desktop/sample_project_1/env/lib/python3.9/site-packages (from jedi>=0.16->ipython->keras-tuner) (0.8.3)\n",
      "Requirement already satisfied: ptyprocess>=0.5 in /home/swapnil/Desktop/sample_project_1/env/lib/python3.9/site-packages (from pexpect>4.3->ipython->keras-tuner) (0.7.0)\n",
      "Requirement already satisfied: wcwidth in /home/swapnil/Desktop/sample_project_1/env/lib/python3.9/site-packages (from prompt-toolkit!=3.0.0,!=3.0.1,<3.1.0,>=2.0.0->ipython->keras-tuner) (0.2.5)\n",
      "Requirement already satisfied: pyparsing!=3.0.5,>=2.0.2 in /home/swapnil/Desktop/sample_project_1/env/lib/python3.9/site-packages (from packaging->keras-tuner) (3.0.4)\n",
      "Requirement already satisfied: charset-normalizer<3,>=2 in /home/swapnil/Desktop/sample_project_1/env/lib/python3.9/site-packages (from requests->keras-tuner) (2.1.1)\n",
      "Requirement already satisfied: certifi>=2017.4.17 in /home/swapnil/Desktop/sample_project_1/env/lib/python3.9/site-packages (from requests->keras-tuner) (2022.9.24)\n",
      "Requirement already satisfied: idna<4,>=2.5 in /home/swapnil/Desktop/sample_project_1/env/lib/python3.9/site-packages (from requests->keras-tuner) (3.4)\n",
      "Requirement already satisfied: urllib3<1.27,>=1.21.1 in /home/swapnil/Desktop/sample_project_1/env/lib/python3.9/site-packages (from requests->keras-tuner) (1.26.12)\n",
      "Requirement already satisfied: executing in /home/swapnil/Desktop/sample_project_1/env/lib/python3.9/site-packages (from stack-data->ipython->keras-tuner) (0.8.3)\n",
      "Requirement already satisfied: pure-eval in /home/swapnil/Desktop/sample_project_1/env/lib/python3.9/site-packages (from stack-data->ipython->keras-tuner) (0.2.2)\n",
      "Requirement already satisfied: asttokens in /home/swapnil/Desktop/sample_project_1/env/lib/python3.9/site-packages (from stack-data->ipython->keras-tuner) (2.0.5)\n",
      "Requirement already satisfied: six in /home/swapnil/Desktop/sample_project_1/env/lib/python3.9/site-packages (from asttokens->stack-data->ipython->keras-tuner) (1.16.0)\n",
      "Requirement already satisfied: google-auth-oauthlib<0.5,>=0.4.1 in /home/swapnil/Desktop/sample_project_1/env/lib/python3.9/site-packages (from tensorboard->keras-tuner) (0.4.6)\n",
      "Requirement already satisfied: google-auth<3,>=1.6.3 in /home/swapnil/Desktop/sample_project_1/env/lib/python3.9/site-packages (from tensorboard->keras-tuner) (2.13.0)\n",
      "Requirement already satisfied: absl-py>=0.4 in /home/swapnil/Desktop/sample_project_1/env/lib/python3.9/site-packages (from tensorboard->keras-tuner) (1.3.0)\n",
      "Requirement already satisfied: markdown>=2.6.8 in /home/swapnil/Desktop/sample_project_1/env/lib/python3.9/site-packages (from tensorboard->keras-tuner) (3.4.1)\n",
      "Requirement already satisfied: grpcio>=1.24.3 in /home/swapnil/Desktop/sample_project_1/env/lib/python3.9/site-packages (from tensorboard->keras-tuner) (1.50.0)\n",
      "Requirement already satisfied: werkzeug>=1.0.1 in /home/swapnil/Desktop/sample_project_1/env/lib/python3.9/site-packages (from tensorboard->keras-tuner) (2.2.2)\n",
      "Requirement already satisfied: tensorboard-plugin-wit>=1.6.0 in /home/swapnil/Desktop/sample_project_1/env/lib/python3.9/site-packages (from tensorboard->keras-tuner) (1.8.1)\n",
      "Requirement already satisfied: protobuf<3.20,>=3.9.2 in /home/swapnil/Desktop/sample_project_1/env/lib/python3.9/site-packages (from tensorboard->keras-tuner) (3.19.6)\n",
      "Requirement already satisfied: wheel>=0.26 in /home/swapnil/Desktop/sample_project_1/env/lib/python3.9/site-packages (from tensorboard->keras-tuner) (0.37.1)\n",
      "Requirement already satisfied: tensorboard-data-server<0.7.0,>=0.6.0 in /home/swapnil/Desktop/sample_project_1/env/lib/python3.9/site-packages (from tensorboard->keras-tuner) (0.6.1)\n",
      "Requirement already satisfied: rsa<5,>=3.1.4 in /home/swapnil/Desktop/sample_project_1/env/lib/python3.9/site-packages (from google-auth<3,>=1.6.3->tensorboard->keras-tuner) (4.9)\n",
      "Requirement already satisfied: pyasn1-modules>=0.2.1 in /home/swapnil/Desktop/sample_project_1/env/lib/python3.9/site-packages (from google-auth<3,>=1.6.3->tensorboard->keras-tuner) (0.2.8)\n",
      "Requirement already satisfied: cachetools<6.0,>=2.0.0 in /home/swapnil/Desktop/sample_project_1/env/lib/python3.9/site-packages (from google-auth<3,>=1.6.3->tensorboard->keras-tuner) (5.2.0)\n",
      "Requirement already satisfied: requests-oauthlib>=0.7.0 in /home/swapnil/Desktop/sample_project_1/env/lib/python3.9/site-packages (from google-auth-oauthlib<0.5,>=0.4.1->tensorboard->keras-tuner) (1.3.1)\n",
      "Requirement already satisfied: importlib-metadata>=4.4 in /home/swapnil/Desktop/sample_project_1/env/lib/python3.9/site-packages (from markdown>=2.6.8->tensorboard->keras-tuner) (5.0.0)\n",
      "Requirement already satisfied: zipp>=0.5 in /home/swapnil/Desktop/sample_project_1/env/lib/python3.9/site-packages (from importlib-metadata>=4.4->markdown>=2.6.8->tensorboard->keras-tuner) (3.10.0)\n",
      "Requirement already satisfied: pyasn1<0.5.0,>=0.4.6 in /home/swapnil/Desktop/sample_project_1/env/lib/python3.9/site-packages (from pyasn1-modules>=0.2.1->google-auth<3,>=1.6.3->tensorboard->keras-tuner) (0.4.8)\n",
      "Requirement already satisfied: oauthlib>=3.0.0 in /home/swapnil/Desktop/sample_project_1/env/lib/python3.9/site-packages (from requests-oauthlib>=0.7.0->google-auth-oauthlib<0.5,>=0.4.1->tensorboard->keras-tuner) (3.2.2)\n",
      "Requirement already satisfied: MarkupSafe>=2.1.1 in /home/swapnil/Desktop/sample_project_1/env/lib/python3.9/site-packages (from werkzeug>=1.0.1->tensorboard->keras-tuner) (2.1.1)\n",
      "Installing collected packages: kt-legacy, keras-tuner\n",
      "Successfully installed keras-tuner-1.1.3 kt-legacy-1.0.4\n"
     ]
    },
    {
     "name": "stdout",
     "output_type": "stream",
     "text": [
      "Note: you may need to restart the kernel to use updated packages.\n"
     ]
    }
   ],
   "source": [
    "pip install -U keras-tuner"
   ]
  },
  {
   "cell_type": "markdown",
   "id": "608eeffa",
   "metadata": {},
   "source": [
    "## 1. How to select appropiate Optimizer"
   ]
  },
  {
   "cell_type": "code",
   "execution_count": 14,
   "id": "f150674c",
   "metadata": {},
   "outputs": [
    {
     "name": "stderr",
     "output_type": "stream",
     "text": [
      "/tmp/ipykernel_24166/1654478174.py:1: DeprecationWarning: `import kerastuner` is deprecated, please use `import keras_tuner`.\n",
      "  import kerastuner as kt\n"
     ]
    }
   ],
   "source": [
    "import kerastuner as kt"
   ]
  },
  {
   "cell_type": "code",
   "execution_count": 31,
   "id": "8f016735",
   "metadata": {},
   "outputs": [],
   "source": [
    "def build_model(hp):\n",
    "    model= Sequential()\n",
    "    \n",
    "    model.add(Dense(32, activation='relu', input_dim= 8))\n",
    "    model.add(Dense(1, activation='sigmoid'))\n",
    "    \n",
    "    optimizer= hp.Choice('optimizer', values=['adam','rmsprop','sgd','adadelta'])\n",
    "    \n",
    "    model.compile(optimizer=optimizer, loss='binary_crossentropy', metrics=['accuracy'])\n",
    "    \n",
    "    return model"
   ]
  },
  {
   "cell_type": "code",
   "execution_count": 35,
   "id": "05121715",
   "metadata": {},
   "outputs": [
    {
     "name": "stdout",
     "output_type": "stream",
     "text": [
      "INFO:tensorflow:Reloading Oracle from existing project ./untitled_project/oracle.json\n",
      "INFO:tensorflow:Reloading Tuner from ./untitled_project/tuner0.json\n"
     ]
    }
   ],
   "source": [
    "tuner= kt.RandomSearch(build_model, objective='val_accuracy', max_trials=2)"
   ]
  },
  {
   "cell_type": "code",
   "execution_count": 37,
   "id": "efc207fe",
   "metadata": {},
   "outputs": [
    {
     "name": "stdout",
     "output_type": "stream",
     "text": [
      "INFO:tensorflow:Oracle triggered exit\n"
     ]
    }
   ],
   "source": [
    "tuner.search(X_train, y_train, epochs= 5, validation_data=(X_test, y_test))"
   ]
  },
  {
   "cell_type": "code",
   "execution_count": null,
   "id": "7faab427",
   "metadata": {},
   "outputs": [],
   "source": []
  }
 ],
 "metadata": {
  "kernelspec": {
   "display_name": "Python 3 (ipykernel)",
   "language": "python",
   "name": "python3"
  },
  "language_info": {
   "codemirror_mode": {
    "name": "ipython",
    "version": 3
   },
   "file_extension": ".py",
   "mimetype": "text/x-python",
   "name": "python",
   "nbconvert_exporter": "python",
   "pygments_lexer": "ipython3",
   "version": "3.9.12"
  }
 },
 "nbformat": 4,
 "nbformat_minor": 5
}
