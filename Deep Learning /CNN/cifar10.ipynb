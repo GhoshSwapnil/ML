{
 "cells": [
  {
   "cell_type": "code",
   "execution_count": 1,
   "metadata": {
    "id": "YkpT314lQe48"
   },
   "outputs": [],
   "source": [
    "import numpy as np\n",
    "import pandas as pd\n",
    "import matplotlib.pyplot as plt\n",
    "\n",
    "import tensorflow\n",
    "from tensorflow import keras \n",
    "from keras import Sequential, datasets\n",
    "from keras.layers import Conv2D, Dense, Flatten, Dropout, BatchNormalization, MaxPool2D, Rescaling  \n",
    "\n",
    "from keras.applications.vgg16 import VGG16 "
   ]
  },
  {
   "cell_type": "code",
   "execution_count": 2,
   "metadata": {
    "colab": {
     "base_uri": "https://localhost:8080/"
    },
    "id": "jn-3C9wpROgz",
    "outputId": "b6df47aa-9968-409b-c179-cdb8a8423e77"
   },
   "outputs": [
    {
     "name": "stdout",
     "output_type": "stream",
     "text": [
      "Downloading data from https://www.cs.toronto.edu/~kriz/cifar-10-python.tar.gz\n",
      "170498071/170498071 [==============================] - 4s 0us/step\n"
     ]
    }
   ],
   "source": [
    "(train_images, train_label),(test_images,test_label)= datasets.cifar10.load_data()"
   ]
  },
  {
   "cell_type": "markdown",
   "metadata": {},
   "source": [
    "## Transfer Learning with VGG16"
   ]
  },
  {
   "cell_type": "code",
   "execution_count": 3,
   "metadata": {
    "colab": {
     "base_uri": "https://localhost:8080/"
    },
    "id": "EA0Pm2aQTeTO",
    "outputId": "08954b47-f9f3-43f2-c5ae-34b448ac9ef6"
   },
   "outputs": [
    {
     "name": "stdout",
     "output_type": "stream",
     "text": [
      "Downloading data from https://storage.googleapis.com/tensorflow/keras-applications/vgg16/vgg16_weights_tf_dim_ordering_tf_kernels_notop.h5\n",
      "58889256/58889256 [==============================] - 1s 0us/step\n"
     ]
    }
   ],
   "source": [
    "# importing a pre-trained CNN \n",
    "conv_base = VGG16(\n",
    "    weights='imagenet', # database this model trained form \n",
    "    include_top = False, # not including the fully connected layers\n",
    "    input_shape=(32,32,3) # image dimension \n",
    ")"
   ]
  },
  {
   "cell_type": "code",
   "execution_count": 4,
   "metadata": {
    "id": "1C04Q1ldT1iT"
   },
   "outputs": [],
   "source": [
    "# traning our customised model \n",
    "model = Sequential()\n",
    "\n",
    "model.add(Rescaling(1./255, input_shape= (32,32,3)))\n",
    "\n",
    "model.add(conv_base) # pretrained model, using this to get its insigts and help us finally in predicting \n",
    "\n",
    "model.add(Flatten())\n",
    "\n",
    "model.add(Dense(256,activation='relu'))\n",
    "model.add(Dense(10,activation='softmax'))"
   ]
  },
  {
   "cell_type": "code",
   "execution_count": 5,
   "metadata": {
    "id": "lZFxqMXmUGPn"
   },
   "outputs": [],
   "source": [
    "conv_base.trainable = False"
   ]
  },
  {
   "cell_type": "code",
   "execution_count": 6,
   "metadata": {
    "colab": {
     "base_uri": "https://localhost:8080/"
    },
    "id": "EzfYPsIDUbG1",
    "outputId": "074acd80-1878-4ed6-9020-01ce7ccf7cd3"
   },
   "outputs": [
    {
     "name": "stdout",
     "output_type": "stream",
     "text": [
      "Model: \"sequential\"\n",
      "_________________________________________________________________\n",
      " Layer (type)                Output Shape              Param #   \n",
      "=================================================================\n",
      " rescaling (Rescaling)       (None, 32, 32, 3)         0         \n",
      "                                                                 \n",
      " vgg16 (Functional)          (None, 1, 1, 512)         14714688  \n",
      "                                                                 \n",
      " flatten (Flatten)           (None, 512)               0         \n",
      "                                                                 \n",
      " dense (Dense)               (None, 256)               131328    \n",
      "                                                                 \n",
      " dense_1 (Dense)             (None, 10)                2570      \n",
      "                                                                 \n",
      "=================================================================\n",
      "Total params: 14,848,586\n",
      "Trainable params: 133,898\n",
      "Non-trainable params: 14,714,688\n",
      "_________________________________________________________________\n"
     ]
    }
   ],
   "source": [
    "model.summary()"
   ]
  },
  {
   "cell_type": "code",
   "execution_count": 7,
   "metadata": {
    "id": "ssoSpCE2afoL"
   },
   "outputs": [],
   "source": [
    "model.compile(optimizer='adam',loss='sparse_categorical_crossentropy',metrics=['accuracy'])"
   ]
  },
  {
   "cell_type": "code",
   "execution_count": 8,
   "metadata": {
    "id": "9PLkhgupgX6J"
   },
   "outputs": [],
   "source": [
    "from keras.applications import vgg16\n",
    "train_images, test_images= vgg16.preprocess_input(train_images), vgg16.preprocess_input(test_images) "
   ]
  },
  {
   "cell_type": "code",
   "execution_count": 9,
   "metadata": {
    "colab": {
     "base_uri": "https://localhost:8080/"
    },
    "id": "Mbjnexxpa_Wg",
    "outputId": "3c8b4582-6837-439b-f3c2-c0073c2e66ee"
   },
   "outputs": [
    {
     "name": "stdout",
     "output_type": "stream",
     "text": [
      "Epoch 1/20\n",
      "1563/1563 [==============================] - 30s 14ms/step - loss: 1.2835 - accuracy: 0.5504 - val_loss: 1.1599 - val_accuracy: 0.5896\n",
      "Epoch 2/20\n",
      "1563/1563 [==============================] - 20s 13ms/step - loss: 1.1123 - accuracy: 0.6111 - val_loss: 1.1224 - val_accuracy: 0.6031\n",
      "Epoch 3/20\n",
      "1563/1563 [==============================] - 22s 14ms/step - loss: 1.0482 - accuracy: 0.6318 - val_loss: 1.0975 - val_accuracy: 0.6158\n",
      "Epoch 4/20\n",
      "1563/1563 [==============================] - 20s 13ms/step - loss: 0.9997 - accuracy: 0.6490 - val_loss: 1.0841 - val_accuracy: 0.6206\n",
      "Epoch 5/20\n",
      "1563/1563 [==============================] - 20s 13ms/step - loss: 0.9573 - accuracy: 0.6628 - val_loss: 1.0741 - val_accuracy: 0.6227\n",
      "Epoch 6/20\n",
      "1563/1563 [==============================] - 20s 13ms/step - loss: 0.9184 - accuracy: 0.6769 - val_loss: 1.0630 - val_accuracy: 0.6327\n",
      "Epoch 7/20\n",
      "1563/1563 [==============================] - 20s 13ms/step - loss: 0.8833 - accuracy: 0.6880 - val_loss: 1.0476 - val_accuracy: 0.6378\n",
      "Epoch 8/20\n",
      "1563/1563 [==============================] - 20s 13ms/step - loss: 0.8500 - accuracy: 0.7007 - val_loss: 1.0775 - val_accuracy: 0.6280\n",
      "Epoch 9/20\n",
      "1563/1563 [==============================] - 22s 14ms/step - loss: 0.8191 - accuracy: 0.7106 - val_loss: 1.0731 - val_accuracy: 0.6303\n",
      "Epoch 10/20\n",
      "1563/1563 [==============================] - 22s 14ms/step - loss: 0.7892 - accuracy: 0.7227 - val_loss: 1.0863 - val_accuracy: 0.6328\n",
      "Epoch 11/20\n",
      "1563/1563 [==============================] - 20s 13ms/step - loss: 0.7582 - accuracy: 0.7332 - val_loss: 1.0885 - val_accuracy: 0.6356\n",
      "Epoch 12/20\n",
      "1563/1563 [==============================] - 20s 13ms/step - loss: 0.7307 - accuracy: 0.7411 - val_loss: 1.1336 - val_accuracy: 0.6272\n",
      "Epoch 13/20\n",
      "1563/1563 [==============================] - 20s 13ms/step - loss: 0.7015 - accuracy: 0.7534 - val_loss: 1.1147 - val_accuracy: 0.6398\n",
      "Epoch 14/20\n",
      "1563/1563 [==============================] - 20s 13ms/step - loss: 0.6753 - accuracy: 0.7622 - val_loss: 1.1230 - val_accuracy: 0.6359\n",
      "Epoch 15/20\n",
      "1563/1563 [==============================] - 22s 14ms/step - loss: 0.6515 - accuracy: 0.7706 - val_loss: 1.1387 - val_accuracy: 0.6321\n",
      "Epoch 16/20\n",
      "1563/1563 [==============================] - 20s 13ms/step - loss: 0.6269 - accuracy: 0.7795 - val_loss: 1.1808 - val_accuracy: 0.6282\n",
      "Epoch 17/20\n",
      "1563/1563 [==============================] - 20s 13ms/step - loss: 0.6005 - accuracy: 0.7881 - val_loss: 1.1888 - val_accuracy: 0.6273\n",
      "Epoch 18/20\n",
      "1563/1563 [==============================] - 20s 13ms/step - loss: 0.5807 - accuracy: 0.7978 - val_loss: 1.1994 - val_accuracy: 0.6292\n",
      "Epoch 19/20\n",
      "1563/1563 [==============================] - 20s 13ms/step - loss: 0.5612 - accuracy: 0.8030 - val_loss: 1.2606 - val_accuracy: 0.6224\n",
      "Epoch 20/20\n",
      "1563/1563 [==============================] - 20s 13ms/step - loss: 0.5384 - accuracy: 0.8120 - val_loss: 1.2744 - val_accuracy: 0.6200\n"
     ]
    }
   ],
   "source": [
    "history = model.fit(train_images, train_label, epochs=20, validation_data= (test_images, test_label))"
   ]
  },
  {
   "cell_type": "code",
   "execution_count": 12,
   "metadata": {
    "colab": {
     "base_uri": "https://localhost:8080/",
     "height": 279
    },
    "id": "mDAGcaLBbCGx",
    "outputId": "10b58397-ab25-4916-bc05-842e227f9f0d"
   },
   "outputs": [
    {
     "data": {
      "image/png": "[encoded data removed]",
      "text/plain": [
       "<Figure size 432x288 with 1 Axes>"
      ]
     },
     "metadata": {
      "needs_background": "light"
     },
     "output_type": "display_data"
    }
   ],
   "source": [
    "plt.figure()\n",
    "plt.plot(history.history['accuracy'], color='red', label='train')\n",
    "plt.plot(history.history['val_accuracy'], color='blue', label='validation')\n",
    "plt.xlabel('epochs')\n",
    "plt.ylabel('accuracy')\n",
    "plt.legend()\n",
    "plt.show()\n",
    "# overfitting "
   ]
  },
  {
   "cell_type": "markdown",
   "metadata": {},
   "source": [
    "## Customised CNN Model "
   ]
  },
  {
   "cell_type": "code",
   "execution_count": 20,
   "metadata": {
    "id": "mqfpQkm_6rhX"
   },
   "outputs": [],
   "source": [
    "model= Sequential()\n",
    "\n",
    "model.add(Rescaling(1./255, input_shape= (32,32,3)))\n",
    "\n",
    "#Convolution layer 1\n",
    "model.add(Conv2D(96, kernel_size=(3,3), strides=(2,2), activation='relu'))\n",
    "model.add(BatchNormalization())\n",
    "model.add(MaxPool2D(pool_size=(2,2), strides=(1,1)) )\n",
    "              \n",
    "#Convolution layer 2\n",
    "model.add(Conv2D(384, kernel_size=(3,3), strides=(1,1), activation='relu', padding=\"same\"))\n",
    "model.add(Dropout(0.4))\n",
    "model.add( BatchNormalization())\n",
    "\n",
    "#Convolution layer 3\n",
    "model.add( Conv2D(384, kernel_size=(3,3), strides=(1,1), activation='relu', padding=\"same\"))\n",
    "model.add(Dropout(0.5))\n",
    "model.add(BatchNormalization())\n",
    "              \n",
    "model.add(Flatten())\n",
    "\n",
    "# Fully Connected layer 1\n",
    "model.add(Dense(4096, activation='relu'))\n",
    "              \n",
    "# Fully Connected layer 2\n",
    "model.add(Dense(4096, activation='relu'))\n",
    "model.add(Dropout(0.2))\n",
    "          \n",
    "# Fully Connected layer 3\n",
    "model.add(Dense(10, activation='softmax'))"
   ]
  },
  {
   "cell_type": "code",
   "execution_count": 21,
   "metadata": {
    "id": "1yJOoP1X63Dz"
   },
   "outputs": [],
   "source": [
    "model.compile(optimizer='adam',loss='sparse_categorical_crossentropy',metrics=['accuracy'])"
   ]
  },
  {
   "cell_type": "code",
   "execution_count": 22,
   "metadata": {
    "colab": {
     "base_uri": "https://localhost:8080/"
    },
    "id": "GkVEuAsv7c4b",
    "outputId": "63b425d0-114c-450b-ab08-e00659c15c4b"
   },
   "outputs": [
    {
     "name": "stdout",
     "output_type": "stream",
     "text": [
      "Epoch 1/20\n",
      "1563/1563 [==============================] - 141s 89ms/step - loss: 1.5558 - accuracy: 0.4989 - val_loss: 1.1945 - val_accuracy: 0.5895\n",
      "Epoch 2/20\n",
      "1563/1563 [==============================] - 140s 90ms/step - loss: 1.0706 - accuracy: 0.6402 - val_loss: 1.0392 - val_accuracy: 0.6470\n",
      "Epoch 3/20\n",
      "1563/1563 [==============================] - 138s 88ms/step - loss: 0.8875 - accuracy: 0.7026 - val_loss: 0.8483 - val_accuracy: 0.7043\n",
      "Epoch 4/20\n",
      "1563/1563 [==============================] - 140s 90ms/step - loss: 0.7454 - accuracy: 0.7520 - val_loss: 0.8667 - val_accuracy: 0.7187\n",
      "Epoch 5/20\n",
      "1563/1563 [==============================] - 138s 88ms/step - loss: 0.6341 - accuracy: 0.7880 - val_loss: 0.8137 - val_accuracy: 0.7460\n",
      "Epoch 6/20\n",
      "1563/1563 [==============================] - 138s 88ms/step - loss: 0.5482 - accuracy: 0.8184 - val_loss: 0.7719 - val_accuracy: 0.7654\n",
      "Epoch 7/20\n",
      "1563/1563 [==============================] - 140s 90ms/step - loss: 0.5084 - accuracy: 0.8410 - val_loss: 87.2775 - val_accuracy: 0.4144\n",
      "Epoch 8/20\n",
      "1563/1563 [==============================] - 138s 88ms/step - loss: 0.6888 - accuracy: 0.7689 - val_loss: 0.7922 - val_accuracy: 0.7564\n",
      "Epoch 9/20\n",
      "1563/1563 [==============================] - 140s 89ms/step - loss: 0.3803 - accuracy: 0.8746 - val_loss: 0.8676 - val_accuracy: 0.7712\n",
      "Epoch 10/20\n",
      "1563/1563 [==============================] - 140s 89ms/step - loss: 0.6657 - accuracy: 0.8035 - val_loss: 0.8589 - val_accuracy: 0.7293\n",
      "Epoch 11/20\n",
      "1563/1563 [==============================] - 138s 88ms/step - loss: 0.4453 - accuracy: 0.8546 - val_loss: 0.8946 - val_accuracy: 0.7671\n",
      "Epoch 12/20\n",
      "1563/1563 [==============================] - 138s 88ms/step - loss: 0.2833 - accuracy: 0.9073 - val_loss: 0.9196 - val_accuracy: 0.7793\n",
      "Epoch 13/20\n",
      "1563/1563 [==============================] - 139s 89ms/step - loss: 1.8448 - accuracy: 0.5737 - val_loss: 1.0169 - val_accuracy: 0.6494\n",
      "Epoch 14/20\n",
      "1563/1563 [==============================] - 138s 88ms/step - loss: 0.8571 - accuracy: 0.7134 - val_loss: 0.9234 - val_accuracy: 0.7024\n",
      "Epoch 15/20\n",
      "1563/1563 [==============================] - 138s 88ms/step - loss: 0.6156 - accuracy: 0.7934 - val_loss: 0.7857 - val_accuracy: 0.7466\n",
      "Epoch 16/20\n",
      "1563/1563 [==============================] - 138s 88ms/step - loss: 0.4499 - accuracy: 0.8513 - val_loss: 0.7960 - val_accuracy: 0.7724\n",
      "Epoch 17/20\n",
      "1563/1563 [==============================] - 137s 88ms/step - loss: 0.3471 - accuracy: 0.8885 - val_loss: 0.7856 - val_accuracy: 0.7711\n",
      "Epoch 18/20\n",
      "1563/1563 [==============================] - 139s 89ms/step - loss: 0.2655 - accuracy: 0.9157 - val_loss: 0.8558 - val_accuracy: 0.7706\n",
      "Epoch 19/20\n",
      "1563/1563 [==============================] - 139s 89ms/step - loss: 0.2242 - accuracy: 0.9313 - val_loss: 1.0835 - val_accuracy: 0.7607\n",
      "Epoch 20/20\n",
      "1563/1563 [==============================] - 140s 89ms/step - loss: 1.1384 - accuracy: 0.7056 - val_loss: 0.8990 - val_accuracy: 0.7146\n"
     ]
    }
   ],
   "source": [
    "history = model.fit(train_images, train_label, epochs=20, validation_data= (test_images, test_label))"
   ]
  },
  {
   "cell_type": "code",
   "execution_count": null,
   "metadata": {
    "id": "Cu8rE8fC7gAn"
   },
   "outputs": [],
   "source": [
    "# Best Accuracy Achieved So Far \n",
    "# Epoch 12/20\n",
    "# 1563/1563 [==============================] - 138s 88ms/step - loss: 0.2833 - accuracy: 0.9073 - val_loss: 0.9196 - val_accuracy: 0.7793"
   ]
  },
  {
   "cell_type": "code",
   "execution_count": 25,
   "metadata": {
    "colab": {
     "base_uri": "https://localhost:8080/",
     "height": 279
    },
    "id": "o88o_gbfIn_c",
    "outputId": "e166da51-3e2f-4337-89d1-7ef5d677c2de"
   },
   "outputs": [
    {
     "data": {
      "image/png": "[encoded data removed]",
      "text/plain": [
       "<Figure size 432x288 with 1 Axes>"
      ]
     },
     "metadata": {
      "needs_background": "light"
     },
     "output_type": "display_data"
    }
   ],
   "source": [
    "plt.figure()\n",
    "plt.plot(history.history['accuracy'], color='red', label='train')\n",
    "plt.plot(history.history['val_accuracy'], color='blue', label='validation')\n",
    "plt.xlabel('epochs')\n",
    "plt.ylabel('accuracy')\n",
    "plt.ylim([0.65,0.9313])\n",
    "plt.legend()\n",
    "plt.show()\n",
    "#Less Overfitting "
   ]
  },
  {
   "cell_type": "code",
   "execution_count": null,
   "metadata": {
    "id": "T7kjrkI-Ivny"
   },
   "outputs": [],
   "source": []
  }
 ],
 "metadata": {
  "accelerator": "GPU",
  "colab": {
   "provenance": []
  },
  "gpuClass": "standard",
  "kernelspec": {
   "display_name": "Python 3 (ipykernel)",
   "language": "python",
   "name": "python3"
  },
  "language_info": {
   "codemirror_mode": {
    "name": "ipython",
    "version": 3
   },
   "file_extension": ".py",
   "mimetype": "text/x-python",
   "name": "python",
   "nbconvert_exporter": "python",
   "pygments_lexer": "ipython3",
   "version": "3.9.12"
  }
 },
 "nbformat": 4,
 "nbformat_minor": 1
}
