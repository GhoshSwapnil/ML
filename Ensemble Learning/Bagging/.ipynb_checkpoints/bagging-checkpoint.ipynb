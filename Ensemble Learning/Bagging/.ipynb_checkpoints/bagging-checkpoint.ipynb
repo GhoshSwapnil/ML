{
 "cells": [
  {
   "cell_type": "code",
   "execution_count": 1,
   "id": "107de0cf",
   "metadata": {},
   "outputs": [],
   "source": [
    "# importing dataset \n",
    "from sklearn.datasets import make_classification\n",
    "\n",
    "from sklearn.metrics import accuracy_score\n",
    "\n",
    "# Ensembel Learning \n",
    "from sklearn.ensemble import BaggingClassifier\n",
    "\n",
    "from sklearn.tree import DecisionTreeClassifier\n",
    "from sklearn.svm import SVC\n",
    "\n",
    "from sklearn.model_selection import train_test_split"
   ]
  },
  {
   "cell_type": "code",
   "execution_count": 2,
   "id": "e4caf398",
   "metadata": {},
   "outputs": [],
   "source": [
    "X,Y= make_classification(n_samples= 10000, n_features= 10,n_informative= 3)"
   ]
  },
  {
   "cell_type": "code",
   "execution_count": 3,
   "id": "8c6e885e",
   "metadata": {},
   "outputs": [],
   "source": [
    "X_train,X_test,Y_train,Y_test= train_test_split(X,Y, test_size=0.2, random_state= 42)"
   ]
  },
  {
   "cell_type": "code",
   "execution_count": 4,
   "id": "8c8c480d",
   "metadata": {},
   "outputs": [
    {
     "name": "stdout",
     "output_type": "stream",
     "text": [
      "Decision Tree accuracy 93.25\n"
     ]
    }
   ],
   "source": [
    "dt= DecisionTreeClassifier(random_state=42)\n",
    "dt.fit(X_train,Y_train)\n",
    "Y_pred= dt.predict(X_test)\n",
    "\n",
    "print(\"Decision Tree accuracy\",accuracy_score(Y_test,Y_pred)*100)"
   ]
  },
  {
   "cell_type": "markdown",
   "id": "e63b3784",
   "metadata": {},
   "source": [
    "## Bagging with Decision Tree \n",
    " - recommended"
   ]
  },
  {
   "cell_type": "code",
   "execution_count": 5,
   "id": "a23d3792",
   "metadata": {},
   "outputs": [],
   "source": [
    "bag= BaggingClassifier(\n",
    "    base_estimator= DecisionTreeClassifier(),\n",
    "    n_estimators= 500,\n",
    "    max_samples= 0.5,\n",
    "    bootstrap= True,\n",
    "    random_state= 42,\n",
    "    n_jobs= -1\n",
    ")"
   ]
  },
  {
   "cell_type": "code",
   "execution_count": 6,
   "id": "93cd3313",
   "metadata": {},
   "outputs": [
    {
     "data": {
      "text/plain": [
       "BaggingClassifier(base_estimator=DecisionTreeClassifier(), max_samples=0.5,\n",
       "                  n_estimators=500, n_jobs=-1, random_state=42)"
      ]
     },
     "execution_count": 6,
     "metadata": {},
     "output_type": "execute_result"
    }
   ],
   "source": [
    "bag.fit(X_train,Y_train)"
   ]
  },
  {
   "cell_type": "code",
   "execution_count": 7,
   "id": "10e98bed",
   "metadata": {},
   "outputs": [
    {
     "name": "stdout",
     "output_type": "stream",
     "text": [
      "Bagging with 500 Decision Tree  accuracy score  95.35\n"
     ]
    }
   ],
   "source": [
    "Y_pred= bag.predict(X_test)\n",
    "print(\"Bagging with 500 Decision Tree  accuracy score \",accuracy_score(Y_test,Y_pred)*100)"
   ]
  },
  {
   "cell_type": "markdown",
   "id": "f9a6f7aa",
   "metadata": {},
   "source": [
    "## Bagging with SVM\n",
    " - not recommended"
   ]
  },
  {
   "cell_type": "code",
   "execution_count": null,
   "id": "2b60e2a1",
   "metadata": {},
   "outputs": [],
   "source": [
    "bag = BaggingClassifier(\n",
    "    base_estimator=SVC(),\n",
    "    n_estimators=500,\n",
    "    max_samples=0.25,\n",
    "    bootstrap=True,\n",
    "    random_state=42,\n",
    "    n_jobs= -1\n",
    ")"
   ]
  },
  {
   "cell_type": "code",
   "execution_count": 8,
   "id": "fade6c1f",
   "metadata": {},
   "outputs": [
    {
     "data": {
      "text/plain": [
       "BaggingClassifier(base_estimator=DecisionTreeClassifier(), max_samples=0.5,\n",
       "                  n_estimators=500, n_jobs=-1, random_state=42)"
      ]
     },
     "execution_count": 8,
     "metadata": {},
     "output_type": "execute_result"
    }
   ],
   "source": [
    "bag.fit(X_train,Y_train)"
   ]
  },
  {
   "cell_type": "code",
   "execution_count": 9,
   "id": "0ffac457",
   "metadata": {},
   "outputs": [
    {
     "name": "stdout",
     "output_type": "stream",
     "text": [
      "Bagging with 500 SVM accuracy score  95.35\n"
     ]
    }
   ],
   "source": [
    "Y_pred= bag.predict(X_test)\n",
    "print(\"Bagging with 500 SVM accuracy score \",accuracy_score(Y_test,Y_pred)*100)"
   ]
  },
  {
   "cell_type": "markdown",
   "id": "5424d04f",
   "metadata": {},
   "source": [
    "## Applying GridSearchCV\n",
    "  - to finding optimal hyperparameter "
   ]
  },
  {
   "cell_type": "code",
   "execution_count": 10,
   "id": "66e59be7",
   "metadata": {},
   "outputs": [],
   "source": [
    "from sklearn.model_selection import GridSearchCV"
   ]
  },
  {
   "cell_type": "code",
   "execution_count": 11,
   "id": "abdaac1c",
   "metadata": {},
   "outputs": [],
   "source": [
    "# Multiple for loop checking for each parameter \n",
    "parameters = { \n",
    "    'n_estimators': [50, 100, 500], \n",
    "    'max_samples': [0.1,0.4, 0.5, 0.7,1.0],\n",
    "    'bootstrap' : [True,False],\n",
    "    'max_features' : [0.4,0.7,1.0],\n",
    "    'bootstrap_features': [True, False],\n",
    "}\n",
    "    "
   ]
  },
  {
   "cell_type": "code",
   "execution_count": 12,
   "id": "99811b9d",
   "metadata": {},
   "outputs": [],
   "source": [
    "search= GridSearchCV(BaggingClassifier(), parameters, cv=5, n_jobs= -1)"
   ]
  },
  {
   "cell_type": "code",
   "execution_count": 13,
   "id": "a2b3a451",
   "metadata": {},
   "outputs": [
    {
     "data": {
      "text/plain": [
       "GridSearchCV(cv=5, estimator=BaggingClassifier(), n_jobs=-1,\n",
       "             param_grid={'bootstrap': [True, False],\n",
       "                         'bootstrap_features': [True, False],\n",
       "                         'max_features': [0.4, 0.7, 1.0],\n",
       "                         'max_samples': [0.1, 0.4, 0.5, 0.7, 1.0],\n",
       "                         'n_estimators': [50, 100, 500]})"
      ]
     },
     "execution_count": 13,
     "metadata": {},
     "output_type": "execute_result"
    }
   ],
   "source": [
    "search.fit(X_train,Y_train)"
   ]
  },
  {
   "cell_type": "code",
   "execution_count": 14,
   "id": "c57952c0",
   "metadata": {},
   "outputs": [
    {
     "data": {
      "text/plain": [
       "95.26249999999999"
      ]
     },
     "execution_count": 14,
     "metadata": {},
     "output_type": "execute_result"
    }
   ],
   "source": [
    "search.best_score_ * 100"
   ]
  },
  {
   "cell_type": "code",
   "execution_count": 15,
   "id": "a965d558",
   "metadata": {},
   "outputs": [
    {
     "data": {
      "text/plain": [
       "{'bootstrap': True,\n",
       " 'bootstrap_features': False,\n",
       " 'max_features': 0.7,\n",
       " 'max_samples': 1.0,\n",
       " 'n_estimators': 500}"
      ]
     },
     "execution_count": 15,
     "metadata": {},
     "output_type": "execute_result"
    }
   ],
   "source": [
    "search.best_params_"
   ]
  },
  {
   "cell_type": "code",
   "execution_count": null,
   "id": "002d42fd",
   "metadata": {},
   "outputs": [],
   "source": [
    "  "
   ]
  }
 ],
 "metadata": {
  "kernelspec": {
   "display_name": "Python 3 (ipykernel)",
   "language": "python",
   "name": "python3"
  },
  "language_info": {
   "codemirror_mode": {
    "name": "ipython",
    "version": 3
   },
   "file_extension": ".py",
   "mimetype": "text/x-python",
   "name": "python",
   "nbconvert_exporter": "python",
   "pygments_lexer": "ipython3",
   "version": "3.9.12"
  }
 },
 "nbformat": 4,
 "nbformat_minor": 5
}
