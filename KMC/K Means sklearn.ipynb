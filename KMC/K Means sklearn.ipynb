{
 "cells": [
  {
   "cell_type": "code",
   "execution_count": 1,
   "id": "8b88f132",
   "metadata": {},
   "outputs": [],
   "source": [
    "import numpy as np\n",
    "import pandas as pd "
   ]
  },
  {
   "cell_type": "code",
   "execution_count": 4,
   "id": "7519f889",
   "metadata": {},
   "outputs": [
    {
     "data": {
      "text/html": [
       "<div>\n",
       "<style scoped>\n",
       "    .dataframe tbody tr th:only-of-type {\n",
       "        vertical-align: middle;\n",
       "    }\n",
       "\n",
       "    .dataframe tbody tr th {\n",
       "        vertical-align: top;\n",
       "    }\n",
       "\n",
       "    .dataframe thead th {\n",
       "        text-align: right;\n",
       "    }\n",
       "</style>\n",
       "<table border=\"1\" class=\"dataframe\">\n",
       "  <thead>\n",
       "    <tr style=\"text-align: right;\">\n",
       "      <th></th>\n",
       "      <th>cgpa</th>\n",
       "      <th>iq</th>\n",
       "    </tr>\n",
       "  </thead>\n",
       "  <tbody>\n",
       "    <tr>\n",
       "      <th>0</th>\n",
       "      <td>5.13</td>\n",
       "      <td>88</td>\n",
       "    </tr>\n",
       "    <tr>\n",
       "      <th>1</th>\n",
       "      <td>5.90</td>\n",
       "      <td>113</td>\n",
       "    </tr>\n",
       "    <tr>\n",
       "      <th>2</th>\n",
       "      <td>8.36</td>\n",
       "      <td>93</td>\n",
       "    </tr>\n",
       "    <tr>\n",
       "      <th>3</th>\n",
       "      <td>8.27</td>\n",
       "      <td>97</td>\n",
       "    </tr>\n",
       "    <tr>\n",
       "      <th>4</th>\n",
       "      <td>5.45</td>\n",
       "      <td>110</td>\n",
       "    </tr>\n",
       "  </tbody>\n",
       "</table>\n",
       "</div>"
      ],
      "text/plain": [
       "   cgpa   iq\n",
       "0  5.13   88\n",
       "1  5.90  113\n",
       "2  8.36   93\n",
       "3  8.27   97\n",
       "4  5.45  110"
      ]
     },
     "execution_count": 4,
     "metadata": {},
     "output_type": "execute_result"
    }
   ],
   "source": [
    "df= pd.read_csv('dataset/student_clustering.csv')\n",
    "df.head()"
   ]
  },
  {
   "cell_type": "code",
   "execution_count": 5,
   "id": "8e7c2f3c",
   "metadata": {},
   "outputs": [
    {
     "data": {
      "text/plain": [
       "(200, 2)"
      ]
     },
     "execution_count": 5,
     "metadata": {},
     "output_type": "execute_result"
    }
   ],
   "source": [
    "df.shape"
   ]
  },
  {
   "cell_type": "code",
   "execution_count": 6,
   "id": "cbe84e99",
   "metadata": {},
   "outputs": [
    {
     "data": {
      "text/plain": [
       "<matplotlib.collections.PathCollection at 0x7f5b74b6d730>"
      ]
     },
     "execution_count": 6,
     "metadata": {},
     "output_type": "execute_result"
    },
    {
     "data": {
      "image/png": "[encoded data removed]",
      "text/plain": [
       "<Figure size 432x288 with 1 Axes>"
      ]
     },
     "metadata": {
      "needs_background": "light"
     },
     "output_type": "display_data"
    }
   ],
   "source": [
    "import matplotlib.pyplot as plt \n",
    "plt.scatter(df['cgpa'], df['iq'])"
   ]
  },
  {
   "cell_type": "code",
   "execution_count": 7,
   "id": "4ba1ab3b",
   "metadata": {},
   "outputs": [],
   "source": [
    "from sklearn.cluster import KMeans"
   ]
  },
  {
   "cell_type": "code",
   "execution_count": 16,
   "id": "7b1a485d",
   "metadata": {},
   "outputs": [
    {
     "data": {
      "image/png": "[encoded data removed]",
      "text/plain": [
       "<Figure size 432x288 with 1 Axes>"
      ]
     },
     "metadata": {
      "needs_background": "light"
     },
     "output_type": "display_data"
    }
   ],
   "source": [
    "wcss=[]\n",
    "\n",
    "for i in range(1, 11):\n",
    "    km= KMeans(n_clusters= i)\n",
    "    km.fit_predict(df)\n",
    "    wcss.append(km.inertia_)\n",
    "\n",
    "plt.figure()\n",
    "plt.plot(range(1, 11), wcss, label='Elbow Plot')\n",
    "plt.xlabel('No.of Clusters')\n",
    "plt.ylabel('WCSS')\n",
    "plt.legend()\n",
    "plt.show()"
   ]
  },
  {
   "cell_type": "code",
   "execution_count": 18,
   "id": "294d387e",
   "metadata": {},
   "outputs": [],
   "source": [
    "X= df.iloc[:,:].values # converting to numpy array \n",
    "km= KMeans(n_clusters= 4)\n",
    "y_means= km.fit_predict(X)"
   ]
  },
  {
   "cell_type": "code",
   "execution_count": 19,
   "id": "368e38c4",
   "metadata": {},
   "outputs": [
    {
     "data": {
      "text/plain": [
       "array([2, 3, 0, 0, 3, 3, 0, 1, 3, 0, 2, 3, 0, 2, 3, 0, 3, 0, 3, 3, 0, 2,\n",
       "       0, 2, 2, 0, 2, 1, 0, 3, 1, 3, 1, 3, 0, 0, 1, 3, 2, 3, 2, 0, 0, 2,\n",
       "       1, 1, 0, 3, 1, 3, 2, 2, 1, 0, 1, 3, 3, 1, 3, 1, 3, 0, 0, 1, 2, 1,\n",
       "       0, 2, 3, 0, 3, 1, 0, 2, 3, 1, 3, 1, 2, 0, 0, 1, 3, 2, 1, 2, 1, 3,\n",
       "       1, 3, 1, 1, 0, 2, 0, 0, 1, 0, 2, 1, 3, 2, 2, 1, 2, 2, 0, 2, 1, 1,\n",
       "       0, 1, 3, 3, 0, 1, 0, 3, 1, 2, 2, 3, 0, 1, 0, 2, 0, 3, 2, 0, 0, 3,\n",
       "       2, 2, 3, 1, 3, 2, 0, 0, 0, 2, 3, 2, 2, 1, 2, 1, 3, 2, 1, 2, 1, 1,\n",
       "       2, 0, 3, 1, 3, 0, 2, 1, 3, 0, 1, 2, 3, 2, 2, 1, 1, 3, 1, 2, 2, 0,\n",
       "       1, 3, 2, 1, 1, 3, 3, 3, 0, 2, 0, 0, 1, 3, 0, 0, 2, 2, 0, 2, 1, 3,\n",
       "       3, 1], dtype=int32)"
      ]
     },
     "execution_count": 19,
     "metadata": {},
     "output_type": "execute_result"
    }
   ],
   "source": [
    "y_means # each datapoint is assigned with type of cluster it belongs "
   ]
  },
  {
   "cell_type": "code",
   "execution_count": 23,
   "id": "e93ef98f",
   "metadata": {},
   "outputs": [
    {
     "data": {
      "text/plain": [
       "array([[  8.36,  93.  ],\n",
       "       [  8.27,  97.  ],\n",
       "       [  8.41,  98.  ],\n",
       "       [  8.09,  94.  ],\n",
       "       [  8.16,  97.  ],\n",
       "       [  8.31,  95.  ],\n",
       "       [  7.87,  91.  ],\n",
       "       [  7.47,  98.  ],\n",
       "       [  7.78,  92.  ],\n",
       "       [  7.93,  98.  ],\n",
       "       [  8.04,  94.  ],\n",
       "       [  7.77,  96.  ],\n",
       "       [  8.  ,  96.  ],\n",
       "       [  8.43,  96.  ],\n",
       "       [  8.02,  93.  ],\n",
       "       [  8.14,  94.  ],\n",
       "       [  8.12,  96.  ],\n",
       "       [  8.34,  96.  ],\n",
       "       [  8.65,  95.  ],\n",
       "       [  8.53,  93.  ],\n",
       "       [  8.29,  95.  ],\n",
       "       [  7.93,  94.  ],\n",
       "       [  8.72,  92.  ],\n",
       "       [  8.14,  91.  ],\n",
       "       [  8.2 ,  92.  ],\n",
       "       [  8.67,  95.  ],\n",
       "       [  8.18,  94.  ],\n",
       "       [  8.61,  95.  ],\n",
       "       [  7.99,  92.  ],\n",
       "       [  8.08,  94.  ],\n",
       "       [  8.26,  91.  ],\n",
       "       [  8.25,  95.  ],\n",
       "       [  8.4 ,  93.  ],\n",
       "       [  7.84,  97.  ],\n",
       "       [  8.08,  98.  ],\n",
       "       [  8.25,  96.  ],\n",
       "       [  8.3 ,  93.  ],\n",
       "       [  7.9 , 100.  ],\n",
       "       [  7.97,  96.  ],\n",
       "       [  8.21,  94.  ],\n",
       "       [  8.23,  95.  ],\n",
       "       [  8.35,  93.  ],\n",
       "       [  8.33,  92.  ],\n",
       "       [  8.46,  98.  ],\n",
       "       [  7.89,  96.  ],\n",
       "       [  7.91,  93.  ],\n",
       "       [  8.23,  91.  ],\n",
       "       [  8.4 ,  93.  ],\n",
       "       [  8.44,  94.  ],\n",
       "       [  8.79,  96.  ]])"
      ]
     },
     "execution_count": 23,
     "metadata": {},
     "output_type": "execute_result"
    }
   ],
   "source": [
    "X[y_means == 0]# data point point belong to cluster 0"
   ]
  },
  {
   "cell_type": "code",
   "execution_count": 22,
   "id": "23794842",
   "metadata": {},
   "outputs": [
    {
     "data": {
      "text/plain": [
       "array([[  8.8 , 115.  ],\n",
       "       [  9.18, 119.  ],\n",
       "       [  8.86, 117.  ],\n",
       "       [  8.83, 118.  ],\n",
       "       [  8.56, 118.  ],\n",
       "       [  8.96, 116.  ],\n",
       "       [  8.78, 116.  ],\n",
       "       [  8.45, 119.  ],\n",
       "       [  8.79, 116.  ],\n",
       "       [  8.81, 115.  ],\n",
       "       [  8.88, 115.  ],\n",
       "       [  9.07, 117.  ],\n",
       "       [  8.92, 118.  ],\n",
       "       [  8.75, 113.  ],\n",
       "       [  8.71, 116.  ],\n",
       "       [  8.86, 118.  ],\n",
       "       [  9.3 , 117.  ],\n",
       "       [  9.01, 121.  ],\n",
       "       [  8.97, 116.  ],\n",
       "       [  9.  , 117.  ],\n",
       "       [  8.76, 117.  ],\n",
       "       [  8.78, 117.  ],\n",
       "       [  9.23, 114.  ],\n",
       "       [  9.03, 118.  ],\n",
       "       [  9.13, 118.  ],\n",
       "       [  8.91, 119.  ],\n",
       "       [  8.98, 118.  ],\n",
       "       [  9.03, 118.  ],\n",
       "       [  8.86, 117.  ],\n",
       "       [  8.89, 118.  ],\n",
       "       [  8.97, 117.  ],\n",
       "       [  8.72, 119.  ],\n",
       "       [  8.93, 118.  ],\n",
       "       [  8.58, 118.  ],\n",
       "       [  8.94, 117.  ],\n",
       "       [  8.6 , 117.  ],\n",
       "       [  8.77, 117.  ],\n",
       "       [  8.81, 116.  ],\n",
       "       [  8.54, 118.  ],\n",
       "       [  8.97, 119.  ],\n",
       "       [  8.91, 117.  ],\n",
       "       [  8.68, 119.  ],\n",
       "       [  9.06, 120.  ],\n",
       "       [  8.9 , 117.  ],\n",
       "       [  8.94, 115.  ],\n",
       "       [  8.91, 115.  ],\n",
       "       [  8.91, 117.  ],\n",
       "       [  8.95, 116.  ],\n",
       "       [  8.57, 118.  ],\n",
       "       [  8.82, 117.  ]])"
      ]
     },
     "execution_count": 22,
     "metadata": {},
     "output_type": "execute_result"
    }
   ],
   "source": [
    "X[y_means == 1]# data point point belong to cluster 1"
   ]
  },
  {
   "cell_type": "code",
   "execution_count": 21,
   "id": "144e35fb",
   "metadata": {},
   "outputs": [
    {
     "data": {
      "text/plain": [
       "array([[ 5.13, 88.  ],\n",
       "       [ 4.6 , 86.  ],\n",
       "       [ 5.  , 88.  ],\n",
       "       [ 4.86, 86.  ],\n",
       "       [ 4.78, 87.  ],\n",
       "       [ 4.96, 88.  ],\n",
       "       [ 4.86, 87.  ],\n",
       "       [ 5.44, 84.  ],\n",
       "       [ 5.34, 85.  ],\n",
       "       [ 5.31, 86.  ],\n",
       "       [ 5.14, 83.  ],\n",
       "       [ 4.95, 86.  ],\n",
       "       [ 5.21, 87.  ],\n",
       "       [ 4.91, 85.  ],\n",
       "       [ 5.28, 83.  ],\n",
       "       [ 5.15, 88.  ],\n",
       "       [ 4.9 , 85.  ],\n",
       "       [ 4.89, 88.  ],\n",
       "       [ 5.05, 86.  ],\n",
       "       [ 4.98, 91.  ],\n",
       "       [ 5.01, 86.  ],\n",
       "       [ 4.95, 88.  ],\n",
       "       [ 4.96, 89.  ],\n",
       "       [ 4.85, 86.  ],\n",
       "       [ 4.76, 90.  ],\n",
       "       [ 4.98, 87.  ],\n",
       "       [ 4.78, 87.  ],\n",
       "       [ 5.2 , 85.  ],\n",
       "       [ 5.05, 87.  ],\n",
       "       [ 5.01, 83.  ],\n",
       "       [ 4.77, 86.  ],\n",
       "       [ 4.68, 87.  ],\n",
       "       [ 4.81, 85.  ],\n",
       "       [ 5.03, 87.  ],\n",
       "       [ 4.98, 87.  ],\n",
       "       [ 5.32, 88.  ],\n",
       "       [ 4.86, 88.  ],\n",
       "       [ 4.89, 85.  ],\n",
       "       [ 4.88, 86.  ],\n",
       "       [ 5.01, 86.  ],\n",
       "       [ 4.67, 86.  ],\n",
       "       [ 5.15, 85.  ],\n",
       "       [ 4.97, 88.  ],\n",
       "       [ 4.87, 88.  ],\n",
       "       [ 5.2 , 89.  ],\n",
       "       [ 4.99, 88.  ],\n",
       "       [ 4.79, 88.  ],\n",
       "       [ 4.76, 89.  ],\n",
       "       [ 4.78, 85.  ],\n",
       "       [ 4.68, 89.  ]])"
      ]
     },
     "execution_count": 21,
     "metadata": {},
     "output_type": "execute_result"
    }
   ],
   "source": [
    "X[y_means == 2]# data point point belong to cluster 2"
   ]
  },
  {
   "cell_type": "code",
   "execution_count": 20,
   "id": "e183eec2",
   "metadata": {},
   "outputs": [
    {
     "data": {
      "text/plain": [
       "array([[  5.9 , 113.  ],\n",
       "       [  5.45, 110.  ],\n",
       "       [  5.88, 109.  ],\n",
       "       [  5.79, 110.  ],\n",
       "       [  6.1 , 110.  ],\n",
       "       [  5.71, 108.  ],\n",
       "       [  5.5 , 111.  ],\n",
       "       [  6.05, 111.  ],\n",
       "       [  5.84, 113.  ],\n",
       "       [  5.43, 106.  ],\n",
       "       [  6.01, 112.  ],\n",
       "       [  5.32, 106.  ],\n",
       "       [  5.91, 108.  ],\n",
       "       [  5.57, 113.  ],\n",
       "       [  6.4 , 108.  ],\n",
       "       [  5.67, 109.  ],\n",
       "       [  6.05, 108.  ],\n",
       "       [  5.85, 111.  ],\n",
       "       [  5.87, 109.  ],\n",
       "       [  6.02, 104.  ],\n",
       "       [  5.77, 111.  ],\n",
       "       [  6.06, 109.  ],\n",
       "       [  5.55, 109.  ],\n",
       "       [  5.81, 112.  ],\n",
       "       [  5.47, 111.  ],\n",
       "       [  5.74, 109.  ],\n",
       "       [  5.8 , 108.  ],\n",
       "       [  5.88, 110.  ],\n",
       "       [  5.91, 109.  ],\n",
       "       [  5.67, 111.  ],\n",
       "       [  5.74, 108.  ],\n",
       "       [  5.69, 109.  ],\n",
       "       [  6.05, 109.  ],\n",
       "       [  6.14, 111.  ],\n",
       "       [  5.74, 112.  ],\n",
       "       [  5.94, 109.  ],\n",
       "       [  5.86, 111.  ],\n",
       "       [  6.38, 107.  ],\n",
       "       [  6.61, 111.  ],\n",
       "       [  6.04, 110.  ],\n",
       "       [  6.24, 108.  ],\n",
       "       [  6.1 , 109.  ],\n",
       "       [  5.8 , 110.  ],\n",
       "       [  5.87, 108.  ],\n",
       "       [  5.97, 108.  ],\n",
       "       [  6.17, 110.  ],\n",
       "       [  6.01, 107.  ],\n",
       "       [  6.33, 111.  ],\n",
       "       [  5.85, 112.  ],\n",
       "       [  6.23, 108.  ]])"
      ]
     },
     "execution_count": 20,
     "metadata": {},
     "output_type": "execute_result"
    }
   ],
   "source": [
    "X[y_means == 3]# data point point belong to cluster 3"
   ]
  },
  {
   "cell_type": "code",
   "execution_count": 24,
   "id": "270bcd72",
   "metadata": {},
   "outputs": [
    {
     "data": {
      "text/plain": [
       "<matplotlib.collections.PathCollection at 0x7f5b47204730>"
      ]
     },
     "execution_count": 24,
     "metadata": {},
     "output_type": "execute_result"
    },
    {
     "data": {
      "image/png": "[encoded data removed]",
      "text/plain": [
       "<Figure size 432x288 with 1 Axes>"
      ]
     },
     "metadata": {
      "needs_background": "light"
     },
     "output_type": "display_data"
    }
   ],
   "source": [
    "# properly clustured \n",
    "plt.scatter(X[y_means == 0,0],X[y_means == 0,1],  color='blue')\n",
    "plt.scatter(X[y_means == 1,0],X[y_means == 1,1],  color='red')\n",
    "plt.scatter(X[y_means == 2,0],X[y_means == 2,1],  color='green')\n",
    "plt.scatter(X[y_means == 3,0],X[y_means == 3,1],  color='yellow')"
   ]
  },
  {
   "cell_type": "code",
   "execution_count": 27,
   "id": "a9a151db",
   "metadata": {},
   "outputs": [],
   "source": [
    "X= df.iloc[:,:].values # converting to nupy array \n",
    "km= KMeans(n_clusters= 2)\n",
    "y_means= km.fit_predict(X)"
   ]
  },
  {
   "cell_type": "code",
   "execution_count": 28,
   "id": "3681f960",
   "metadata": {},
   "outputs": [
    {
     "data": {
      "text/plain": [
       "array([0, 1, 0, 0, 1, 1, 0, 1, 1, 0, 0, 1, 0, 0, 1, 0, 1, 0, 1, 1, 0, 0,\n",
       "       0, 0, 0, 0, 0, 1, 0, 1, 1, 1, 1, 1, 0, 0, 1, 1, 0, 1, 0, 0, 0, 0,\n",
       "       1, 1, 0, 1, 1, 1, 0, 0, 1, 0, 1, 1, 1, 1, 1, 1, 1, 0, 0, 1, 0, 1,\n",
       "       0, 0, 1, 0, 1, 1, 0, 0, 1, 1, 1, 1, 0, 0, 0, 1, 1, 0, 1, 0, 1, 1,\n",
       "       1, 1, 1, 1, 0, 0, 0, 0, 1, 0, 0, 1, 1, 0, 0, 1, 0, 0, 0, 0, 1, 1,\n",
       "       0, 1, 1, 1, 0, 1, 0, 1, 1, 0, 0, 1, 0, 1, 0, 0, 0, 1, 0, 0, 0, 1,\n",
       "       0, 0, 1, 1, 1, 0, 0, 0, 0, 0, 1, 0, 0, 1, 0, 1, 1, 0, 1, 0, 1, 1,\n",
       "       0, 0, 1, 1, 1, 0, 0, 1, 1, 0, 1, 0, 1, 0, 0, 1, 1, 1, 1, 0, 0, 0,\n",
       "       1, 1, 0, 1, 1, 1, 1, 1, 0, 0, 0, 0, 1, 1, 0, 0, 0, 0, 0, 0, 1, 1,\n",
       "       1, 1], dtype=int32)"
      ]
     },
     "execution_count": 28,
     "metadata": {},
     "output_type": "execute_result"
    }
   ],
   "source": [
    "y_means # 2 class not properly clustured "
   ]
  },
  {
   "cell_type": "code",
   "execution_count": 29,
   "id": "a1c2ded7",
   "metadata": {},
   "outputs": [
    {
     "data": {
      "text/plain": [
       "<matplotlib.collections.PathCollection at 0x7f5b47252220>"
      ]
     },
     "execution_count": 29,
     "metadata": {},
     "output_type": "execute_result"
    },
    {
     "data": {
      "image/png": "[encoded data removed]",
      "text/plain": [
       "<Figure size 432x288 with 1 Axes>"
      ]
     },
     "metadata": {
      "needs_background": "light"
     },
     "output_type": "display_data"
    }
   ],
   "source": [
    "# improperly clustured \n",
    "plt.scatter(X[y_means == 0,0],X[y_means == 0,1],  color='blue')\n",
    "plt.scatter(X[y_means == 1,0],X[y_means == 1,1],  color='red')"
   ]
  },
  {
   "cell_type": "code",
   "execution_count": null,
   "id": "d58f2b2b",
   "metadata": {},
   "outputs": [],
   "source": []
  }
 ],
 "metadata": {
  "kernelspec": {
   "display_name": "Python 3 (ipykernel)",
   "language": "python",
   "name": "python3"
  },
  "language_info": {
   "codemirror_mode": {
    "name": "ipython",
    "version": 3
   },
   "file_extension": ".py",
   "mimetype": "text/x-python",
   "name": "python",
   "nbconvert_exporter": "python",
   "pygments_lexer": "ipython3",
   "version": "3.9.12"
  }
 },
 "nbformat": 4,
 "nbformat_minor": 5
}
