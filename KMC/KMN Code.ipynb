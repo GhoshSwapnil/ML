{
 "cells": [
  {
   "cell_type": "code",
   "execution_count": 1,
   "id": "44a28c5d",
   "metadata": {},
   "outputs": [],
   "source": [
    "import numpy as np\n",
    "import pandas as pd \n",
    "import matplotlib.pyplot as plt \n",
    "import random"
   ]
  },
  {
   "cell_type": "code",
   "execution_count": 2,
   "id": "e8eda79a",
   "metadata": {},
   "outputs": [
    {
     "data": {
      "text/html": [
       "<div>\n",
       "<style scoped>\n",
       "    .dataframe tbody tr th:only-of-type {\n",
       "        vertical-align: middle;\n",
       "    }\n",
       "\n",
       "    .dataframe tbody tr th {\n",
       "        vertical-align: top;\n",
       "    }\n",
       "\n",
       "    .dataframe thead th {\n",
       "        text-align: right;\n",
       "    }\n",
       "</style>\n",
       "<table border=\"1\" class=\"dataframe\">\n",
       "  <thead>\n",
       "    <tr style=\"text-align: right;\">\n",
       "      <th></th>\n",
       "      <th>cgpa</th>\n",
       "      <th>iq</th>\n",
       "    </tr>\n",
       "  </thead>\n",
       "  <tbody>\n",
       "    <tr>\n",
       "      <th>0</th>\n",
       "      <td>5.13</td>\n",
       "      <td>88</td>\n",
       "    </tr>\n",
       "    <tr>\n",
       "      <th>1</th>\n",
       "      <td>5.90</td>\n",
       "      <td>113</td>\n",
       "    </tr>\n",
       "    <tr>\n",
       "      <th>2</th>\n",
       "      <td>8.36</td>\n",
       "      <td>93</td>\n",
       "    </tr>\n",
       "    <tr>\n",
       "      <th>3</th>\n",
       "      <td>8.27</td>\n",
       "      <td>97</td>\n",
       "    </tr>\n",
       "    <tr>\n",
       "      <th>4</th>\n",
       "      <td>5.45</td>\n",
       "      <td>110</td>\n",
       "    </tr>\n",
       "  </tbody>\n",
       "</table>\n",
       "</div>"
      ],
      "text/plain": [
       "   cgpa   iq\n",
       "0  5.13   88\n",
       "1  5.90  113\n",
       "2  8.36   93\n",
       "3  8.27   97\n",
       "4  5.45  110"
      ]
     },
     "execution_count": 2,
     "metadata": {},
     "output_type": "execute_result"
    }
   ],
   "source": [
    "df= pd.read_csv('dataset/student_clustering.csv')\n",
    "df.head()"
   ]
  },
  {
   "cell_type": "code",
   "execution_count": 3,
   "id": "4d8ffa8b",
   "metadata": {},
   "outputs": [
    {
     "data": {
      "text/plain": [
       "<matplotlib.collections.PathCollection at 0x7f3f72f1cd00>"
      ]
     },
     "execution_count": 3,
     "metadata": {},
     "output_type": "execute_result"
    },
    {
     "data": {
      "image/png": "[encoded data removed]",
      "text/plain": [
       "<Figure size 432x288 with 1 Axes>"
      ]
     },
     "metadata": {
      "needs_background": "light"
     },
     "output_type": "display_data"
    }
   ],
   "source": [
    "plt.scatter(df['cgpa'], df['iq'])"
   ]
  },
  {
   "cell_type": "markdown",
   "id": "c5f5df85",
   "metadata": {},
   "source": [
    "# K Means\n",
    "- 1) decide clusters.\n",
    "- 2) select random centroids.\n",
    "- 3) Assign clusters.\n",
    "- 4) move centroids.\n",
    "- 5) check finish."
   ]
  },
  {
   "cell_type": "code",
   "execution_count": 23,
   "id": "8b744df8",
   "metadata": {},
   "outputs": [],
   "source": [
    "class KMeans: \n",
    "    def __init__(self, n_clusters, max_iter):\n",
    "        self.n_clusters= n_clusters # step 1\n",
    "        self.max_iter= max_iter\n",
    "        self.centroids= None\n",
    "        \n",
    "    def fit_predict(self, X):\n",
    "        \n",
    "        random_indexs= random.sample(range(0, X.shape[0]), self.n_clusters) # selecting random row's based on no of cluster # that act as a starting point of centroid \n",
    "        self.centroids= X[random_indexs] # starting centroids at random #step 2\n",
    "        \n",
    "        for i in range(self.max_iter):\n",
    "            cluster_group= self.assign_clusters(X) # which row got which cluster optimally based on current centroids # step 3) assign clusters\n",
    "            \n",
    "            old_centroid= self.centroids\n",
    "            self.centroids= self.move_centroids(X, cluster_group) # step 4) moves the centroid \n",
    "            \n",
    "            if (old_centroid == self.centroids).all():\n",
    "                break\n",
    "                \n",
    "        return cluster_group\n",
    "    \n",
    "    def assign_clusters(self, X):# assigning best cluster possible to each datapoint <-> row\n",
    "        \n",
    "        cluster_group= [] # which row and which cluster it belongs according to this centroid's optimally  \n",
    "        distances= [] # contains distance's between datapoint and centroid's \n",
    "        \n",
    "        for row in X: \n",
    "            for centroid in self.centroids:\n",
    "                distances.append( np.sqrt(np.dot(row-centroid,row-centroid)) ) # calculating ecludian distance for  each row w.r.t to current centroids\n",
    "                \n",
    "            min_distance= min(distances) # which centroid is the nearest to this row # the min distance \n",
    "            index_pos= distances.index(min_distance) # the cluster in which the current row belong # 0 based cluster indexing\n",
    "            \n",
    "            cluster_group.append(index_pos)\n",
    "            \n",
    "            distances= [] # emptying for the next row \n",
    "                \n",
    "        return np.array(cluster_group)\n",
    "    \n",
    "    def move_centroids(self, X, cluster_group):\n",
    "        \n",
    "        new_centroids= []\n",
    "        cluster_type= np.unique(cluster_group)\n",
    "        \n",
    "        # print(cluster_type) # types of cluster  \n",
    "        \n",
    "        for type in cluster_type:\n",
    "            new_centroids.append( X[cluster_group == type].mean( axis=0 ) ) # column wise mean based on cluster \n",
    "\n",
    "        return np.array(new_centroids)\n",
    "        "
   ]
  },
  {
   "cell_type": "code",
   "execution_count": 24,
   "id": "e580d613",
   "metadata": {},
   "outputs": [],
   "source": [
    "X= df.iloc[:,:].values\n",
    "km= KMeans(n_clusters= 4, max_iter= 300)\n",
    "y_means= km.fit_predict(X)"
   ]
  },
  {
   "cell_type": "code",
   "execution_count": 25,
   "id": "719c95fc",
   "metadata": {},
   "outputs": [
    {
     "data": {
      "text/plain": [
       "array([2, 1, 3, 3, 1, 1, 3, 0, 1, 3, 2, 1, 3, 2, 1, 3, 1, 3, 1, 1, 3, 2,\n",
       "       3, 2, 2, 3, 2, 0, 3, 1, 0, 1, 0, 1, 3, 3, 0, 1, 2, 1, 2, 3, 3, 2,\n",
       "       0, 0, 3, 1, 0, 1, 2, 2, 0, 3, 0, 1, 1, 0, 1, 0, 1, 3, 3, 0, 2, 0,\n",
       "       3, 2, 1, 3, 1, 0, 3, 2, 1, 0, 1, 0, 2, 3, 3, 0, 1, 2, 0, 2, 0, 1,\n",
       "       0, 1, 0, 0, 3, 2, 3, 3, 0, 3, 2, 0, 1, 2, 2, 0, 2, 2, 3, 2, 0, 0,\n",
       "       3, 0, 1, 1, 3, 0, 3, 1, 0, 2, 2, 1, 3, 0, 3, 2, 3, 1, 2, 3, 3, 1,\n",
       "       2, 2, 1, 0, 1, 2, 3, 3, 3, 2, 1, 2, 2, 0, 2, 0, 1, 2, 0, 2, 0, 0,\n",
       "       2, 3, 1, 0, 1, 3, 2, 0, 1, 3, 0, 2, 1, 2, 2, 0, 0, 1, 0, 2, 2, 3,\n",
       "       0, 1, 2, 0, 0, 1, 1, 1, 3, 2, 3, 3, 0, 1, 3, 3, 2, 2, 3, 2, 0, 1,\n",
       "       1, 0])"
      ]
     },
     "execution_count": 25,
     "metadata": {},
     "output_type": "execute_result"
    }
   ],
   "source": [
    "y_means"
   ]
  },
  {
   "cell_type": "code",
   "execution_count": 26,
   "id": "4c582678",
   "metadata": {},
   "outputs": [
    {
     "data": {
      "text/plain": [
       "<matplotlib.collections.PathCollection at 0x7f3f723afa00>"
      ]
     },
     "execution_count": 26,
     "metadata": {},
     "output_type": "execute_result"
    },
    {
     "data": {
      "image/png": "[encoded data removed]",
      "text/plain": [
       "<Figure size 432x288 with 1 Axes>"
      ]
     },
     "metadata": {
      "needs_background": "light"
     },
     "output_type": "display_data"
    }
   ],
   "source": [
    "# properly clustured \n",
    "plt.scatter(X[y_means == 0,0],X[y_means == 0,1],  color='blue')\n",
    "plt.scatter(X[y_means == 1,0],X[y_means == 1,1],  color='red')\n",
    "plt.scatter(X[y_means == 2,0],X[y_means == 2,1],  color='green')\n",
    "plt.scatter(X[y_means == 3,0],X[y_means == 3,1],  color='yellow')"
   ]
  },
  {
   "cell_type": "code",
   "execution_count": null,
   "id": "df179201",
   "metadata": {},
   "outputs": [],
   "source": []
  }
 ],
 "metadata": {
  "kernelspec": {
   "display_name": "Python 3 (ipykernel)",
   "language": "python",
   "name": "python3"
  },
  "language_info": {
   "codemirror_mode": {
    "name": "ipython",
    "version": 3
   },
   "file_extension": ".py",
   "mimetype": "text/x-python",
   "name": "python",
   "nbconvert_exporter": "python",
   "pygments_lexer": "ipython3",
   "version": "3.9.12"
  }
 },
 "nbformat": 4,
 "nbformat_minor": 5
}
